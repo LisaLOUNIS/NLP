{
  "cells": [
    {
      "cell_type": "code",
      "execution_count": null,
      "metadata": {},
      "outputs": [],
      "source": [
        "folder_path = 'data'\n",
        "# !pip install openpyxl\n",
        "\n",
        "all_dataframes = []\n",
        "\n",
        "# Parcourir tous les fichiers dans le dossier\n",
        "for filename in os.listdir(folder_path):\n",
        "    if filename.endswith('.xlsx'):\n",
        "        file_path = os.path.join(folder_path, filename)\n",
        "        df = pd.read_excel(file_path)\n",
        "        all_dataframes.append(df)\n",
        "\n",
        "all_data = pd.concat(all_dataframes, ignore_index=True)"
      ]
    },
    {
      "cell_type": "markdown",
      "metadata": {
        "id": "XGRt-nIVwT7E"
      },
      "source": [
        "# Opinion assurances - library import"
      ]
    },
    {
      "cell_type": "code",
      "execution_count": 183,
      "metadata": {},
      "outputs": [
        {
          "name": "stderr",
          "output_type": "stream",
          "text": [
            "[nltk_data] Downloading package stopwords to\n",
            "[nltk_data]     C:\\Users\\minji\\AppData\\Roaming\\nltk_data...\n",
            "[nltk_data]   Package stopwords is already up-to-date!\n",
            "[nltk_data] Downloading package punkt to\n",
            "[nltk_data]     C:\\Users\\minji\\AppData\\Roaming\\nltk_data...\n",
            "[nltk_data]   Package punkt is already up-to-date!\n",
            "[nltk_data] Downloading package averaged_perceptron_tagger to\n",
            "[nltk_data]     C:\\Users\\minji\\AppData\\Roaming\\nltk_data...\n",
            "[nltk_data]   Package averaged_perceptron_tagger is already up-to-\n",
            "[nltk_data]       date!\n",
            "[nltk_data] Downloading package wordnet to\n",
            "[nltk_data]     C:\\Users\\minji\\AppData\\Roaming\\nltk_data...\n",
            "[nltk_data]   Package wordnet is already up-to-date!\n"
          ]
        },
        {
          "data": {
            "text/html": [
              "<style>\n",
              "        .bk-notebook-logo {\n",
              "            display: block;\n",
              "            width: 20px;\n",
              "            height: 20px;\n",
              "            background-image: url(data:image/png;base64,iVBORw0KGgoAAAANSUhEUgAAABQAAAAUCAYAAACNiR0NAAAABHNCSVQICAgIfAhkiAAAAAlwSFlzAAALEgAACxIB0t1+/AAAABx0RVh0U29mdHdhcmUAQWRvYmUgRmlyZXdvcmtzIENTNui8sowAAAOkSURBVDiNjZRtaJVlGMd/1/08zzln5zjP1LWcU9N0NkN8m2CYjpgQYQXqSs0I84OLIC0hkEKoPtiH3gmKoiJDU7QpLgoLjLIQCpEsNJ1vqUOdO7ppbuec5+V+rj4ctwzd8IIbbi6u+8f1539dt3A78eXC7QizUF7gyV1fD1Yqg4JWz84yffhm0qkFqBogB9rM8tZdtwVsPUhWhGcFJngGeWrPzHm5oaMmkfEg1usvLFyc8jLRqDOMru7AyC8saQr7GG7f5fvDeH7Ej8CM66nIF+8yngt6HWaKh7k49Soy9nXurCi1o3qUbS3zWfrYeQDTB/Qj6kX6Ybhw4B+bOYoLKCC9H3Nu/leUTZ1JdRWkkn2ldcCamzrcf47KKXdAJllSlxAOkRgyHsGC/zRday5Qld9DyoM4/q/rUoy/CXh3jzOu3bHUVZeU+DEn8FInkPBFlu3+nW3Nw0mk6vCDiWg8CeJaxEwuHS3+z5RgY+YBR6V1Z1nxSOfoaPa4LASWxxdNp+VWTk7+4vzaou8v8PN+xo+KY2xsw6une2frhw05CTYOmQvsEhjhWjn0bmXPjpE1+kplmmkP3suftwTubK9Vq22qKmrBhpY4jvd5afdRA3wGjFAgcnTK2s4hY0/GPNIb0nErGMCRxWOOX64Z8RAC4oCXdklmEvcL8o0BfkNK4lUg9HTl+oPlQxdNo3Mg4Nv175e/1LDGzZen30MEjRUtmXSfiTVu1kK8W4txyV6BMKlbgk3lMwYCiusNy9fVfvvwMxv8Ynl6vxoByANLTWplvuj/nF9m2+PDtt1eiHPBr1oIfhCChQMBw6Aw0UulqTKZdfVvfG7VcfIqLG9bcldL/+pdWTLxLUy8Qq38heUIjh4XlzZxzQm19lLFlr8vdQ97rjZVOLf8nclzckbcD4wxXMidpX30sFd37Fv/GtwwhzhxGVAprjbg0gCAEeIgwCZyTV2Z1REEW8O4py0wsjeloKoMr6iCY6dP92H6Vw/oTyICIthibxjm/DfN9lVz8IqtqKYLUXfoKVMVQVVJOElGjrnnUt9T9wbgp8AyYKaGlqingHZU/uG2NTZSVqwHQTWkx9hxjkpWDaCg6Ckj5qebgBVbT3V3NNXMSiWSDdGV3hrtzla7J+duwPOToIg42ChPQOQjspnSlp1V+Gjdged7+8UN5CRAV7a5EdFNwCjEaBR27b3W890TE7g24NAP/mMDXRWrGoFPQI9ls/MWO2dWFAar/xcOIImbbpA3zgAAAABJRU5ErkJggg==);\n",
              "        }\n",
              "    </style>\n",
              "    <div>\n",
              "        <a href=\"https://bokeh.org\" target=\"_blank\" class=\"bk-notebook-logo\"></a>\n",
              "        <span id=\"eb93d952-ef20-4d5a-936d-0d97c34753a7\">Loading BokehJS ...</span>\n",
              "    </div>\n"
            ]
          },
          "metadata": {},
          "output_type": "display_data"
        },
        {
          "data": {
            "application/javascript": "(function(root) {\n  function now() {\n    return new Date();\n  }\n\n  const force = true;\n\n  if (typeof root._bokeh_onload_callbacks === \"undefined\" || force === true) {\n    root._bokeh_onload_callbacks = [];\n    root._bokeh_is_loading = undefined;\n  }\n\nconst JS_MIME_TYPE = 'application/javascript';\n  const HTML_MIME_TYPE = 'text/html';\n  const EXEC_MIME_TYPE = 'application/vnd.bokehjs_exec.v0+json';\n  const CLASS_NAME = 'output_bokeh rendered_html';\n\n  /**\n   * Render data to the DOM node\n   */\n  function render(props, node) {\n    const script = document.createElement(\"script\");\n    node.appendChild(script);\n  }\n\n  /**\n   * Handle when an output is cleared or removed\n   */\n  function handleClearOutput(event, handle) {\n    const cell = handle.cell;\n\n    const id = cell.output_area._bokeh_element_id;\n    const server_id = cell.output_area._bokeh_server_id;\n    // Clean up Bokeh references\n    if (id != null && id in Bokeh.index) {\n      Bokeh.index[id].model.document.clear();\n      delete Bokeh.index[id];\n    }\n\n    if (server_id !== undefined) {\n      // Clean up Bokeh references\n      const cmd_clean = \"from bokeh.io.state import curstate; print(curstate().uuid_to_server['\" + server_id + \"'].get_sessions()[0].document.roots[0]._id)\";\n      cell.notebook.kernel.execute(cmd_clean, {\n        iopub: {\n          output: function(msg) {\n            const id = msg.content.text.trim();\n            if (id in Bokeh.index) {\n              Bokeh.index[id].model.document.clear();\n              delete Bokeh.index[id];\n            }\n          }\n        }\n      });\n      // Destroy server and session\n      const cmd_destroy = \"import bokeh.io.notebook as ion; ion.destroy_server('\" + server_id + \"')\";\n      cell.notebook.kernel.execute(cmd_destroy);\n    }\n  }\n\n  /**\n   * Handle when a new output is added\n   */\n  function handleAddOutput(event, handle) {\n    const output_area = handle.output_area;\n    const output = handle.output;\n\n    // limit handleAddOutput to display_data with EXEC_MIME_TYPE content only\n    if ((output.output_type != \"display_data\") || (!Object.prototype.hasOwnProperty.call(output.data, EXEC_MIME_TYPE))) {\n      return\n    }\n\n    const toinsert = output_area.element.find(\".\" + CLASS_NAME.split(' ')[0]);\n\n    if (output.metadata[EXEC_MIME_TYPE][\"id\"] !== undefined) {\n      toinsert[toinsert.length - 1].firstChild.textContent = output.data[JS_MIME_TYPE];\n      // store reference to embed id on output_area\n      output_area._bokeh_element_id = output.metadata[EXEC_MIME_TYPE][\"id\"];\n    }\n    if (output.metadata[EXEC_MIME_TYPE][\"server_id\"] !== undefined) {\n      const bk_div = document.createElement(\"div\");\n      bk_div.innerHTML = output.data[HTML_MIME_TYPE];\n      const script_attrs = bk_div.children[0].attributes;\n      for (let i = 0; i < script_attrs.length; i++) {\n        toinsert[toinsert.length - 1].firstChild.setAttribute(script_attrs[i].name, script_attrs[i].value);\n        toinsert[toinsert.length - 1].firstChild.textContent = bk_div.children[0].textContent\n      }\n      // store reference to server id on output_area\n      output_area._bokeh_server_id = output.metadata[EXEC_MIME_TYPE][\"server_id\"];\n    }\n  }\n\n  function register_renderer(events, OutputArea) {\n\n    function append_mime(data, metadata, element) {\n      // create a DOM node to render to\n      const toinsert = this.create_output_subarea(\n        metadata,\n        CLASS_NAME,\n        EXEC_MIME_TYPE\n      );\n      this.keyboard_manager.register_events(toinsert);\n      // Render to node\n      const props = {data: data, metadata: metadata[EXEC_MIME_TYPE]};\n      render(props, toinsert[toinsert.length - 1]);\n      element.append(toinsert);\n      return toinsert\n    }\n\n    /* Handle when an output is cleared or removed */\n    events.on('clear_output.CodeCell', handleClearOutput);\n    events.on('delete.Cell', handleClearOutput);\n\n    /* Handle when a new output is added */\n    events.on('output_added.OutputArea', handleAddOutput);\n\n    /**\n     * Register the mime type and append_mime function with output_area\n     */\n    OutputArea.prototype.register_mime_type(EXEC_MIME_TYPE, append_mime, {\n      /* Is output safe? */\n      safe: true,\n      /* Index of renderer in `output_area.display_order` */\n      index: 0\n    });\n  }\n\n  // register the mime type if in Jupyter Notebook environment and previously unregistered\n  if (root.Jupyter !== undefined) {\n    const events = require('base/js/events');\n    const OutputArea = require('notebook/js/outputarea').OutputArea;\n\n    if (OutputArea.prototype.mime_types().indexOf(EXEC_MIME_TYPE) == -1) {\n      register_renderer(events, OutputArea);\n    }\n  }\n  if (typeof (root._bokeh_timeout) === \"undefined\" || force === true) {\n    root._bokeh_timeout = Date.now() + 5000;\n    root._bokeh_failed_load = false;\n  }\n\n  const NB_LOAD_WARNING = {'data': {'text/html':\n     \"<div style='background-color: #fdd'>\\n\"+\n     \"<p>\\n\"+\n     \"BokehJS does not appear to have successfully loaded. If loading BokehJS from CDN, this \\n\"+\n     \"may be due to a slow or bad network connection. Possible fixes:\\n\"+\n     \"</p>\\n\"+\n     \"<ul>\\n\"+\n     \"<li>re-rerun `output_notebook()` to attempt to load from CDN again, or</li>\\n\"+\n     \"<li>use INLINE resources instead, as so:</li>\\n\"+\n     \"</ul>\\n\"+\n     \"<code>\\n\"+\n     \"from bokeh.resources import INLINE\\n\"+\n     \"output_notebook(resources=INLINE)\\n\"+\n     \"</code>\\n\"+\n     \"</div>\"}};\n\n  function display_loaded() {\n    const el = document.getElementById(\"eb93d952-ef20-4d5a-936d-0d97c34753a7\");\n    if (el != null) {\n      el.textContent = \"BokehJS is loading...\";\n    }\n    if (root.Bokeh !== undefined) {\n      if (el != null) {\n        el.textContent = \"BokehJS \" + root.Bokeh.version + \" successfully loaded.\";\n      }\n    } else if (Date.now() < root._bokeh_timeout) {\n      setTimeout(display_loaded, 100)\n    }\n  }\n\n  function run_callbacks() {\n    try {\n      root._bokeh_onload_callbacks.forEach(function(callback) {\n        if (callback != null)\n          callback();\n      });\n    } finally {\n      delete root._bokeh_onload_callbacks\n    }\n    console.debug(\"Bokeh: all callbacks have finished\");\n  }\n\n  function load_libs(css_urls, js_urls, callback) {\n    if (css_urls == null) css_urls = [];\n    if (js_urls == null) js_urls = [];\n\n    root._bokeh_onload_callbacks.push(callback);\n    if (root._bokeh_is_loading > 0) {\n      console.debug(\"Bokeh: BokehJS is being loaded, scheduling callback at\", now());\n      return null;\n    }\n    if (js_urls == null || js_urls.length === 0) {\n      run_callbacks();\n      return null;\n    }\n    console.debug(\"Bokeh: BokehJS not loaded, scheduling load and callback at\", now());\n    root._bokeh_is_loading = css_urls.length + js_urls.length;\n\n    function on_load() {\n      root._bokeh_is_loading--;\n      if (root._bokeh_is_loading === 0) {\n        console.debug(\"Bokeh: all BokehJS libraries/stylesheets loaded\");\n        run_callbacks()\n      }\n    }\n\n    function on_error(url) {\n      console.error(\"failed to load \" + url);\n    }\n\n    for (let i = 0; i < css_urls.length; i++) {\n      const url = css_urls[i];\n      const element = document.createElement(\"link\");\n      element.onload = on_load;\n      element.onerror = on_error.bind(null, url);\n      element.rel = \"stylesheet\";\n      element.type = \"text/css\";\n      element.href = url;\n      console.debug(\"Bokeh: injecting link tag for BokehJS stylesheet: \", url);\n      document.body.appendChild(element);\n    }\n\n    for (let i = 0; i < js_urls.length; i++) {\n      const url = js_urls[i];\n      const element = document.createElement('script');\n      element.onload = on_load;\n      element.onerror = on_error.bind(null, url);\n      element.async = false;\n      element.src = url;\n      console.debug(\"Bokeh: injecting script tag for BokehJS library: \", url);\n      document.head.appendChild(element);\n    }\n  };\n\n  function inject_raw_css(css) {\n    const element = document.createElement(\"style\");\n    element.appendChild(document.createTextNode(css));\n    document.body.appendChild(element);\n  }\n\n  const js_urls = [\"https://cdn.bokeh.org/bokeh/release/bokeh-3.1.1.min.js\", \"https://cdn.bokeh.org/bokeh/release/bokeh-gl-3.1.1.min.js\", \"https://cdn.bokeh.org/bokeh/release/bokeh-widgets-3.1.1.min.js\", \"https://cdn.bokeh.org/bokeh/release/bokeh-tables-3.1.1.min.js\", \"https://cdn.bokeh.org/bokeh/release/bokeh-mathjax-3.1.1.min.js\"];\n  const css_urls = [];\n\n  const inline_js = [    function(Bokeh) {\n      Bokeh.set_log_level(\"info\");\n    },\nfunction(Bokeh) {\n    }\n  ];\n\n  function run_inline_js() {\n    if (root.Bokeh !== undefined || force === true) {\n          for (let i = 0; i < inline_js.length; i++) {\n      inline_js[i].call(root, root.Bokeh);\n    }\nif (force === true) {\n        display_loaded();\n      }} else if (Date.now() < root._bokeh_timeout) {\n      setTimeout(run_inline_js, 100);\n    } else if (!root._bokeh_failed_load) {\n      console.log(\"Bokeh: BokehJS failed to load within specified timeout.\");\n      root._bokeh_failed_load = true;\n    } else if (force !== true) {\n      const cell = $(document.getElementById(\"eb93d952-ef20-4d5a-936d-0d97c34753a7\")).parents('.cell').data().cell;\n      cell.output_area.append_execute_result(NB_LOAD_WARNING)\n    }\n  }\n\n  if (root._bokeh_is_loading === 0) {\n    console.debug(\"Bokeh: BokehJS loaded, going straight to plotting\");\n    run_inline_js();\n  } else {\n    load_libs(css_urls, js_urls, function() {\n      console.debug(\"Bokeh: BokehJS plotting callback run at\", now());\n      run_inline_js();\n    });\n  }\n}(window));",
            "application/vnd.bokehjs_load.v0+json": ""
          },
          "metadata": {},
          "output_type": "display_data"
        }
      ],
      "source": [
        "import pandas as pd\n",
        "import numpy as np\n",
        "import string\n",
        "import re\n",
        "import os\n",
        "\n",
        "# !pip install pyspellchecker\n",
        "# from spellchecker import SpellChecker\n",
        "\n",
        "# !pip install symspellpy\n",
        "from symspellpy import SymSpell, Verbosity\n",
        "\n",
        "import nltk\n",
        "from nltk import FreqDist\n",
        "from nltk.util import ngrams\n",
        "from nltk.corpus import stopwords\n",
        "from nltk.tokenize import word_tokenize\n",
        "from nltk.stem import WordNetLemmatizer\n",
        "nltk.download('stopwords') \n",
        "nltk.download('punkt')\n",
        "nltk.download('averaged_perceptron_tagger')\n",
        "nltk.download('wordnet')\n",
        "\n",
        "\n",
        "from collections import Counter\n",
        "from multiprocessing import Pool\n",
        "from IPython.display import display\n",
        "from tqdm import tqdm\n",
        "\n",
        "# !pip install spacy\n",
        "import spacy\n",
        "\n",
        "# !pip install gensim\n",
        "import gensim\n",
        "from gensim import corpora\n",
        "\n",
        "from sklearn.feature_extraction.text import CountVectorizer\n",
        "from textblob import TextBlob\n",
        "import scipy.stats as stats\n",
        "\n",
        "from sklearn.decomposition import LatentDirichletAllocation\n",
        "from sklearn.manifold import TSNE\n",
        "from sklearn.feature_extraction.text import TfidfVectorizer\n",
        "from wordcloud import WordCloud, STOPWORDS\n",
        "\n",
        "# !pip install pyLDAvis\n",
        "import pyLDAvis\n",
        "import pyLDAvis.gensim\n",
        "import matplotlib.pyplot as plt\n",
        "import seaborn as sns\n",
        "\n",
        "from bokeh.plotting import figure, output_file, show\n",
        "from bokeh.models import Label\n",
        "from bokeh.io import output_notebook\n",
        "output_notebook()"
      ]
    },
    {
      "cell_type": "markdown",
      "metadata": {},
      "source": [
        "# Data Import "
      ]
    },
    {
      "cell_type": "code",
      "execution_count": 170,
      "metadata": {},
      "outputs": [],
      "source": [
        "all_data = pd.read_csv('data_scrapped_with_company.csv')"
      ]
    },
    {
      "cell_type": "markdown",
      "metadata": {
        "id": "8XDlw5nTGaIw"
      },
      "source": [
        "# Data info"
      ]
    },
    {
      "cell_type": "code",
      "execution_count": 12,
      "metadata": {
        "colab": {
          "base_uri": "https://localhost:8080/"
        },
        "id": "jfCL-jgOwqlM",
        "outputId": "2ab578a9-80bb-41dc-8c7b-7b133468ac02"
      },
      "outputs": [
        {
          "data": {
            "text/plain": [
              "company      17049\n",
              "stars            0\n",
              "author           0\n",
              "date             0\n",
              "review           1\n",
              "review_en        1\n",
              "dtype: int64"
            ]
          },
          "execution_count": 12,
          "metadata": {},
          "output_type": "execute_result"
        }
      ],
      "source": [
        "nan_per_column = all_data.isnull().sum()\n",
        "nan_per_column"
      ]
    },
    {
      "cell_type": "code",
      "execution_count": 7,
      "metadata": {},
      "outputs": [
        {
          "data": {
            "text/html": [
              "<div>\n",
              "<style scoped>\n",
              "    .dataframe tbody tr th:only-of-type {\n",
              "        vertical-align: middle;\n",
              "    }\n",
              "\n",
              "    .dataframe tbody tr th {\n",
              "        vertical-align: top;\n",
              "    }\n",
              "\n",
              "    .dataframe thead th {\n",
              "        text-align: right;\n",
              "    }\n",
              "</style>\n",
              "<table border=\"1\" class=\"dataframe\">\n",
              "  <thead>\n",
              "    <tr style=\"text-align: right;\">\n",
              "      <th></th>\n",
              "      <th>company</th>\n",
              "      <th>stars</th>\n",
              "      <th>author</th>\n",
              "      <th>date</th>\n",
              "      <th>review</th>\n",
              "      <th>review_en</th>\n",
              "    </tr>\n",
              "  </thead>\n",
              "  <tbody>\n",
              "    <tr>\n",
              "      <th>0</th>\n",
              "      <td>NaN</td>\n",
              "      <td>1</td>\n",
              "      <td>victime</td>\n",
              "      <td>07/08/2022</td>\n",
              "      <td>Assurance à bannir, 3 ans chez Aviva, j'ai vu ...</td>\n",
              "      <td>Insurance to be banned, 3 years with Aviva, I ...</td>\n",
              "    </tr>\n",
              "    <tr>\n",
              "      <th>1</th>\n",
              "      <td>NaN</td>\n",
              "      <td>1</td>\n",
              "      <td>emma</td>\n",
              "      <td>03/08/2022</td>\n",
              "      <td>J'ai souscrit un perp par l'intermédiaire d'UF...</td>\n",
              "      <td>I took out a perp through UFF with Bee Vie (st...</td>\n",
              "    </tr>\n",
              "    <tr>\n",
              "      <th>2</th>\n",
              "      <td>NaN</td>\n",
              "      <td>1</td>\n",
              "      <td>CACO31170</td>\n",
              "      <td>18/07/2022</td>\n",
              "      <td>je ne vous le conseille pas. Depuis janvier 20...</td>\n",
              "      <td>I don't recommend it. Since January 2022 I hav...</td>\n",
              "    </tr>\n",
              "    <tr>\n",
              "      <th>3</th>\n",
              "      <td>NaN</td>\n",
              "      <td>2</td>\n",
              "      <td>CLAIRE</td>\n",
              "      <td>13/07/2022</td>\n",
              "      <td>AVIVA devenue ABEILLE ont du mal à régler les ...</td>\n",
              "      <td>AVIVA which became ABEILLE have difficulty set...</td>\n",
              "    </tr>\n",
              "    <tr>\n",
              "      <th>4</th>\n",
              "      <td>NaN</td>\n",
              "      <td>1</td>\n",
              "      <td>Emma94</td>\n",
              "      <td>08/07/2022</td>\n",
              "      <td>J'ai fait une demande de rachat d'une assuranc...</td>\n",
              "      <td>I made a request to buy back life insurance on...</td>\n",
              "    </tr>\n",
              "    <tr>\n",
              "      <th>...</th>\n",
              "      <td>...</td>\n",
              "      <td>...</td>\n",
              "      <td>...</td>\n",
              "      <td>...</td>\n",
              "      <td>...</td>\n",
              "      <td>...</td>\n",
              "    </tr>\n",
              "    <tr>\n",
              "      <th>23583</th>\n",
              "      <td>NaN</td>\n",
              "      <td>4</td>\n",
              "      <td>JEROME H</td>\n",
              "      <td>31/05/2022</td>\n",
              "      <td>Je suis très satisfait de vos services( Tarif,...</td>\n",
              "      <td>I am very satisfied with your services (price,...</td>\n",
              "    </tr>\n",
              "    <tr>\n",
              "      <th>23584</th>\n",
              "      <td>NaN</td>\n",
              "      <td>4</td>\n",
              "      <td>lara B</td>\n",
              "      <td>31/05/2022</td>\n",
              "      <td>je suis satisfaite du service et des modalités...</td>\n",
              "      <td>I am satisfied with the service and the terms\\...</td>\n",
              "    </tr>\n",
              "    <tr>\n",
              "      <th>23585</th>\n",
              "      <td>NaN</td>\n",
              "      <td>5</td>\n",
              "      <td>sophie J</td>\n",
              "      <td>31/05/2022</td>\n",
              "      <td>Je suis à la GMF depuis que j'ai une voiture, ...</td>\n",
              "      <td>I have been at GMF since I had a car, I then t...</td>\n",
              "    </tr>\n",
              "    <tr>\n",
              "      <th>23586</th>\n",
              "      <td>NaN</td>\n",
              "      <td>3</td>\n",
              "      <td>Jean-Paul D</td>\n",
              "      <td>30/05/2022</td>\n",
              "      <td>satisfait des services mais pas du prix sur l'...</td>\n",
              "      <td>satisfied with the services but not with the p...</td>\n",
              "    </tr>\n",
              "    <tr>\n",
              "      <th>23587</th>\n",
              "      <td>NaN</td>\n",
              "      <td>2</td>\n",
              "      <td>Gérard D</td>\n",
              "      <td>30/05/2022</td>\n",
              "      <td>Tout allait bien jusqu'à ce qu'on m'oblige à r...</td>\n",
              "      <td>Everything was fine until I was forced to resp...</td>\n",
              "    </tr>\n",
              "  </tbody>\n",
              "</table>\n",
              "<p>23588 rows × 6 columns</p>\n",
              "</div>"
            ],
            "text/plain": [
              "      company  stars       author        date  \\\n",
              "0         NaN      1      victime  07/08/2022   \n",
              "1         NaN      1         emma  03/08/2022   \n",
              "2         NaN      1    CACO31170  18/07/2022   \n",
              "3         NaN      2       CLAIRE  13/07/2022   \n",
              "4         NaN      1       Emma94  08/07/2022   \n",
              "...       ...    ...          ...         ...   \n",
              "23583     NaN      4     JEROME H  31/05/2022   \n",
              "23584     NaN      4       lara B  31/05/2022   \n",
              "23585     NaN      5     sophie J  31/05/2022   \n",
              "23586     NaN      3  Jean-Paul D  30/05/2022   \n",
              "23587     NaN      2     Gérard D  30/05/2022   \n",
              "\n",
              "                                                  review  \\\n",
              "0      Assurance à bannir, 3 ans chez Aviva, j'ai vu ...   \n",
              "1      J'ai souscrit un perp par l'intermédiaire d'UF...   \n",
              "2      je ne vous le conseille pas. Depuis janvier 20...   \n",
              "3      AVIVA devenue ABEILLE ont du mal à régler les ...   \n",
              "4      J'ai fait une demande de rachat d'une assuranc...   \n",
              "...                                                  ...   \n",
              "23583  Je suis très satisfait de vos services( Tarif,...   \n",
              "23584  je suis satisfaite du service et des modalités...   \n",
              "23585  Je suis à la GMF depuis que j'ai une voiture, ...   \n",
              "23586  satisfait des services mais pas du prix sur l'...   \n",
              "23587  Tout allait bien jusqu'à ce qu'on m'oblige à r...   \n",
              "\n",
              "                                               review_en  \n",
              "0      Insurance to be banned, 3 years with Aviva, I ...  \n",
              "1      I took out a perp through UFF with Bee Vie (st...  \n",
              "2      I don't recommend it. Since January 2022 I hav...  \n",
              "3      AVIVA which became ABEILLE have difficulty set...  \n",
              "4      I made a request to buy back life insurance on...  \n",
              "...                                                  ...  \n",
              "23583  I am very satisfied with your services (price,...  \n",
              "23584  I am satisfied with the service and the terms\\...  \n",
              "23585  I have been at GMF since I had a car, I then t...  \n",
              "23586  satisfied with the services but not with the p...  \n",
              "23587  Everything was fine until I was forced to resp...  \n",
              "\n",
              "[23588 rows x 6 columns]"
            ]
          },
          "execution_count": 7,
          "metadata": {},
          "output_type": "execute_result"
        }
      ],
      "source": [
        "all_data"
      ]
    },
    {
      "cell_type": "code",
      "execution_count": null,
      "metadata": {
        "colab": {
          "base_uri": "https://localhost:8080/"
        },
        "id": "chjlmB_lyzrY",
        "outputId": "4bd9c896-3016-4e34-c1ae-6a8ed15d2af0"
      },
      "outputs": [
        {
          "data": {
            "text/html": [
              "\n",
              "  <div id=\"df-5b549479-1153-4e8e-82f7-46952aa8c103\" class=\"colab-df-container\">\n",
              "    <div>\n",
              "<style scoped>\n",
              "    .dataframe tbody tr th:only-of-type {\n",
              "        vertical-align: middle;\n",
              "    }\n",
              "\n",
              "    .dataframe tbody tr th {\n",
              "        vertical-align: top;\n",
              "    }\n",
              "\n",
              "    .dataframe thead th {\n",
              "        text-align: right;\n",
              "    }\n",
              "</style>\n",
              "<table border=\"1\" class=\"dataframe\">\n",
              "  <thead>\n",
              "    <tr style=\"text-align: right;\">\n",
              "      <th></th>\n",
              "      <th>avis_en</th>\n",
              "      <th>avis_cor_en</th>\n",
              "    </tr>\n",
              "  </thead>\n",
              "  <tbody>\n",
              "    <tr>\n",
              "      <th>33000</th>\n",
              "      <td>Insurance that puts customers in difficulty. S...</td>\n",
              "      <td>Insurance that puts customers in difficulty. S...</td>\n",
              "    </tr>\n",
              "    <tr>\n",
              "      <th>33001</th>\n",
              "      <td>Hello\\nMember 3001628. You have sent me a medi...</td>\n",
              "      <td>Hello\\nMember 3001628. You have sent me a medi...</td>\n",
              "    </tr>\n",
              "    <tr>\n",
              "      <th>33002</th>\n",
              "      <td>I am still waiting for my salary supplement fo...</td>\n",
              "      <td>I am still waiting for my salary supplement fo...</td>\n",
              "    </tr>\n",
              "    <tr>\n",
              "      <th>33003</th>\n",
              "      <td>In half treatment the mutual after four reimbu...</td>\n",
              "      <td>In half treatment the mutual after four reimbu...</td>\n",
              "    </tr>\n",
              "    <tr>\n",
              "      <th>33004</th>\n",
              "      <td>Notice to colleagues from the territorial publ...</td>\n",
              "      <td>Notice to colleagues from the territorial publ...</td>\n",
              "    </tr>\n",
              "    <tr>\n",
              "      <th>...</th>\n",
              "      <td>...</td>\n",
              "      <td>...</td>\n",
              "    </tr>\n",
              "    <tr>\n",
              "      <th>33426</th>\n",
              "      <td>Very disappointed with how to proceed with you...</td>\n",
              "      <td>Very disappointed with how to proceed with you...</td>\n",
              "    </tr>\n",
              "    <tr>\n",
              "      <th>33427</th>\n",
              "      <td>Pont de Beauvoisin Savoie agency\\nIncompetence...</td>\n",
              "      <td>Pont de Beauvoisin Savoie agency\\nIncompetence...</td>\n",
              "    </tr>\n",
              "    <tr>\n",
              "      <th>33428</th>\n",
              "      <td>hello\\nThe assistance is deplorable and the au...</td>\n",
              "      <td>hello\\nThe assistance is deplorable and the au...</td>\n",
              "    </tr>\n",
              "    <tr>\n",
              "      <th>33429</th>\n",
              "      <td>Hello I subscribed to a damage contract work a...</td>\n",
              "      <td>Hello I subscribed to a damage contract work a...</td>\n",
              "    </tr>\n",
              "    <tr>\n",
              "      <th>33430</th>\n",
              "      <td>Hello, I have a bad experience with the Socoba...</td>\n",
              "      <td>Hello, I have a bad experience with the Socoba...</td>\n",
              "    </tr>\n",
              "  </tbody>\n",
              "</table>\n",
              "<p>431 rows × 2 columns</p>\n",
              "</div>\n",
              "    <div class=\"colab-df-buttons\">\n",
              "\n",
              "  <div class=\"colab-df-container\">\n",
              "    <button class=\"colab-df-convert\" onclick=\"convertToInteractive('df-5b549479-1153-4e8e-82f7-46952aa8c103')\"\n",
              "            title=\"Convert this dataframe to an interactive table.\"\n",
              "            style=\"display:none;\">\n",
              "\n",
              "  <svg xmlns=\"http://www.w3.org/2000/svg\" height=\"24px\" viewBox=\"0 -960 960 960\">\n",
              "    <path d=\"M120-120v-720h720v720H120Zm60-500h600v-160H180v160Zm220 220h160v-160H400v160Zm0 220h160v-160H400v160ZM180-400h160v-160H180v160Zm440 0h160v-160H620v160ZM180-180h160v-160H180v160Zm440 0h160v-160H620v160Z\"/>\n",
              "  </svg>\n",
              "    </button>\n",
              "\n",
              "  <style>\n",
              "    .colab-df-container {\n",
              "      display:flex;\n",
              "      gap: 12px;\n",
              "    }\n",
              "\n",
              "    .colab-df-convert {\n",
              "      background-color: #E8F0FE;\n",
              "      border: none;\n",
              "      border-radius: 50%;\n",
              "      cursor: pointer;\n",
              "      display: none;\n",
              "      fill: #1967D2;\n",
              "      height: 32px;\n",
              "      padding: 0 0 0 0;\n",
              "      width: 32px;\n",
              "    }\n",
              "\n",
              "    .colab-df-convert:hover {\n",
              "      background-color: #E2EBFA;\n",
              "      box-shadow: 0px 1px 2px rgba(60, 64, 67, 0.3), 0px 1px 3px 1px rgba(60, 64, 67, 0.15);\n",
              "      fill: #174EA6;\n",
              "    }\n",
              "\n",
              "    .colab-df-buttons div {\n",
              "      margin-bottom: 4px;\n",
              "    }\n",
              "\n",
              "    [theme=dark] .colab-df-convert {\n",
              "      background-color: #3B4455;\n",
              "      fill: #D2E3FC;\n",
              "    }\n",
              "\n",
              "    [theme=dark] .colab-df-convert:hover {\n",
              "      background-color: #434B5C;\n",
              "      box-shadow: 0px 1px 3px 1px rgba(0, 0, 0, 0.15);\n",
              "      filter: drop-shadow(0px 1px 2px rgba(0, 0, 0, 0.3));\n",
              "      fill: #FFFFFF;\n",
              "    }\n",
              "  </style>\n",
              "\n",
              "    <script>\n",
              "      const buttonEl =\n",
              "        document.querySelector('#df-5b549479-1153-4e8e-82f7-46952aa8c103 button.colab-df-convert');\n",
              "      buttonEl.style.display =\n",
              "        google.colab.kernel.accessAllowed ? 'block' : 'none';\n",
              "\n",
              "      async function convertToInteractive(key) {\n",
              "        const element = document.querySelector('#df-5b549479-1153-4e8e-82f7-46952aa8c103');\n",
              "        const dataTable =\n",
              "          await google.colab.kernel.invokeFunction('convertToInteractive',\n",
              "                                                    [key], {});\n",
              "        if (!dataTable) return;\n",
              "\n",
              "        const docLinkHtml = 'Like what you see? Visit the ' +\n",
              "          '<a target=\"_blank\" href=https://colab.research.google.com/notebooks/data_table.ipynb>data table notebook</a>'\n",
              "          + ' to learn more about interactive tables.';\n",
              "        element.innerHTML = '';\n",
              "        dataTable['output_type'] = 'display_data';\n",
              "        await google.colab.output.renderOutput(dataTable, element);\n",
              "        const docLink = document.createElement('div');\n",
              "        docLink.innerHTML = docLinkHtml;\n",
              "        element.appendChild(docLink);\n",
              "      }\n",
              "    </script>\n",
              "  </div>\n",
              "\n",
              "\n",
              "<div id=\"df-45940cae-e04f-40e0-a144-212f419f6527\">\n",
              "  <button class=\"colab-df-quickchart\" onclick=\"quickchart('df-45940cae-e04f-40e0-a144-212f419f6527')\"\n",
              "            title=\"Suggest charts\"\n",
              "            style=\"display:none;\">\n",
              "\n",
              "<svg xmlns=\"http://www.w3.org/2000/svg\" height=\"24px\"viewBox=\"0 0 24 24\"\n",
              "     width=\"24px\">\n",
              "    <g>\n",
              "        <path d=\"M19 3H5c-1.1 0-2 .9-2 2v14c0 1.1.9 2 2 2h14c1.1 0 2-.9 2-2V5c0-1.1-.9-2-2-2zM9 17H7v-7h2v7zm4 0h-2V7h2v10zm4 0h-2v-4h2v4z\"/>\n",
              "    </g>\n",
              "</svg>\n",
              "  </button>\n",
              "\n",
              "<style>\n",
              "  .colab-df-quickchart {\n",
              "      --bg-color: #E8F0FE;\n",
              "      --fill-color: #1967D2;\n",
              "      --hover-bg-color: #E2EBFA;\n",
              "      --hover-fill-color: #174EA6;\n",
              "      --disabled-fill-color: #AAA;\n",
              "      --disabled-bg-color: #DDD;\n",
              "  }\n",
              "\n",
              "  [theme=dark] .colab-df-quickchart {\n",
              "      --bg-color: #3B4455;\n",
              "      --fill-color: #D2E3FC;\n",
              "      --hover-bg-color: #434B5C;\n",
              "      --hover-fill-color: #FFFFFF;\n",
              "      --disabled-bg-color: #3B4455;\n",
              "      --disabled-fill-color: #666;\n",
              "  }\n",
              "\n",
              "  .colab-df-quickchart {\n",
              "    background-color: var(--bg-color);\n",
              "    border: none;\n",
              "    border-radius: 50%;\n",
              "    cursor: pointer;\n",
              "    display: none;\n",
              "    fill: var(--fill-color);\n",
              "    height: 32px;\n",
              "    padding: 0;\n",
              "    width: 32px;\n",
              "  }\n",
              "\n",
              "  .colab-df-quickchart:hover {\n",
              "    background-color: var(--hover-bg-color);\n",
              "    box-shadow: 0 1px 2px rgba(60, 64, 67, 0.3), 0 1px 3px 1px rgba(60, 64, 67, 0.15);\n",
              "    fill: var(--button-hover-fill-color);\n",
              "  }\n",
              "\n",
              "  .colab-df-quickchart-complete:disabled,\n",
              "  .colab-df-quickchart-complete:disabled:hover {\n",
              "    background-color: var(--disabled-bg-color);\n",
              "    fill: var(--disabled-fill-color);\n",
              "    box-shadow: none;\n",
              "  }\n",
              "\n",
              "  .colab-df-spinner {\n",
              "    border: 2px solid var(--fill-color);\n",
              "    border-color: transparent;\n",
              "    border-bottom-color: var(--fill-color);\n",
              "    animation:\n",
              "      spin 1s steps(1) infinite;\n",
              "  }\n",
              "\n",
              "  @keyframes spin {\n",
              "    0% {\n",
              "      border-color: transparent;\n",
              "      border-bottom-color: var(--fill-color);\n",
              "      border-left-color: var(--fill-color);\n",
              "    }\n",
              "    20% {\n",
              "      border-color: transparent;\n",
              "      border-left-color: var(--fill-color);\n",
              "      border-top-color: var(--fill-color);\n",
              "    }\n",
              "    30% {\n",
              "      border-color: transparent;\n",
              "      border-left-color: var(--fill-color);\n",
              "      border-top-color: var(--fill-color);\n",
              "      border-right-color: var(--fill-color);\n",
              "    }\n",
              "    40% {\n",
              "      border-color: transparent;\n",
              "      border-right-color: var(--fill-color);\n",
              "      border-top-color: var(--fill-color);\n",
              "    }\n",
              "    60% {\n",
              "      border-color: transparent;\n",
              "      border-right-color: var(--fill-color);\n",
              "    }\n",
              "    80% {\n",
              "      border-color: transparent;\n",
              "      border-right-color: var(--fill-color);\n",
              "      border-bottom-color: var(--fill-color);\n",
              "    }\n",
              "    90% {\n",
              "      border-color: transparent;\n",
              "      border-bottom-color: var(--fill-color);\n",
              "    }\n",
              "  }\n",
              "</style>\n",
              "\n",
              "  <script>\n",
              "    async function quickchart(key) {\n",
              "      const quickchartButtonEl =\n",
              "        document.querySelector('#' + key + ' button');\n",
              "      quickchartButtonEl.disabled = true;  // To prevent multiple clicks.\n",
              "      quickchartButtonEl.classList.add('colab-df-spinner');\n",
              "      try {\n",
              "        const charts = await google.colab.kernel.invokeFunction(\n",
              "            'suggestCharts', [key], {});\n",
              "      } catch (error) {\n",
              "        console.error('Error during call to suggestCharts:', error);\n",
              "      }\n",
              "      quickchartButtonEl.classList.remove('colab-df-spinner');\n",
              "      quickchartButtonEl.classList.add('colab-df-quickchart-complete');\n",
              "    }\n",
              "    (() => {\n",
              "      let quickchartButtonEl =\n",
              "        document.querySelector('#df-45940cae-e04f-40e0-a144-212f419f6527 button');\n",
              "      quickchartButtonEl.style.display =\n",
              "        google.colab.kernel.accessAllowed ? 'block' : 'none';\n",
              "    })();\n",
              "  </script>\n",
              "</div>\n",
              "    </div>\n",
              "  </div>\n"
            ],
            "text/plain": [
              "                                                 avis_en  \\\n",
              "33000  Insurance that puts customers in difficulty. S...   \n",
              "33001  Hello\\nMember 3001628. You have sent me a medi...   \n",
              "33002  I am still waiting for my salary supplement fo...   \n",
              "33003  In half treatment the mutual after four reimbu...   \n",
              "33004  Notice to colleagues from the territorial publ...   \n",
              "...                                                  ...   \n",
              "33426  Very disappointed with how to proceed with you...   \n",
              "33427  Pont de Beauvoisin Savoie agency\\nIncompetence...   \n",
              "33428  hello\\nThe assistance is deplorable and the au...   \n",
              "33429  Hello I subscribed to a damage contract work a...   \n",
              "33430  Hello, I have a bad experience with the Socoba...   \n",
              "\n",
              "                                             avis_cor_en  \n",
              "33000  Insurance that puts customers in difficulty. S...  \n",
              "33001  Hello\\nMember 3001628. You have sent me a medi...  \n",
              "33002  I am still waiting for my salary supplement fo...  \n",
              "33003  In half treatment the mutual after four reimbu...  \n",
              "33004  Notice to colleagues from the territorial publ...  \n",
              "...                                                  ...  \n",
              "33426  Very disappointed with how to proceed with you...  \n",
              "33427  Pont de Beauvoisin Savoie agency\\nIncompetence...  \n",
              "33428  hello\\nThe assistance is deplorable and the au...  \n",
              "33429  Hello I subscribed to a damage contract work a...  \n",
              "33430  Hello, I have a bad experience with the Socoba...  \n",
              "\n",
              "[431 rows x 2 columns]"
            ]
          },
          "execution_count": 114,
          "metadata": {},
          "output_type": "execute_result"
        }
      ],
      "source": [
        "all_data[all_data['avis_cor_en'].notnull()][['avis_en','avis_cor_en']]"
      ]
    },
    {
      "cell_type": "code",
      "execution_count": 4,
      "metadata": {
        "id": "cYdNRgSH1HeK"
      },
      "outputs": [],
      "source": [
        "duplicate_rows = all_data[all_data.duplicated(keep=False)]"
      ]
    },
    {
      "cell_type": "code",
      "execution_count": 5,
      "metadata": {
        "id": "_ZbGtciZ1JEr"
      },
      "outputs": [],
      "source": [
        "duplicate_rows_sorted = duplicate_rows.sort_values(by=list(all_data.columns))"
      ]
    },
    {
      "cell_type": "code",
      "execution_count": 6,
      "metadata": {},
      "outputs": [
        {
          "data": {
            "text/html": [
              "<div>\n",
              "<style scoped>\n",
              "    .dataframe tbody tr th:only-of-type {\n",
              "        vertical-align: middle;\n",
              "    }\n",
              "\n",
              "    .dataframe tbody tr th {\n",
              "        vertical-align: top;\n",
              "    }\n",
              "\n",
              "    .dataframe thead th {\n",
              "        text-align: right;\n",
              "    }\n",
              "</style>\n",
              "<table border=\"1\" class=\"dataframe\">\n",
              "  <thead>\n",
              "    <tr style=\"text-align: right;\">\n",
              "      <th></th>\n",
              "      <th>company</th>\n",
              "      <th>stars</th>\n",
              "      <th>author</th>\n",
              "      <th>date</th>\n",
              "      <th>review</th>\n",
              "      <th>review_en</th>\n",
              "    </tr>\n",
              "  </thead>\n",
              "  <tbody>\n",
              "    <tr>\n",
              "      <th>26218</th>\n",
              "      <td>NaN</td>\n",
              "      <td>1</td>\n",
              "      <td>ALTER EGO</td>\n",
              "      <td>05/11/2020</td>\n",
              "      <td>Nous avons fait, par erreur, un virement au bé...</td>\n",
              "      <td>We made, by mistake, a transfer to this compan...</td>\n",
              "    </tr>\n",
              "    <tr>\n",
              "      <th>26228</th>\n",
              "      <td>NaN</td>\n",
              "      <td>1</td>\n",
              "      <td>ALTER EGO</td>\n",
              "      <td>05/11/2020</td>\n",
              "      <td>Nous avons fait, par erreur, un virement au bé...</td>\n",
              "      <td>We made, by mistake, a transfer to this compan...</td>\n",
              "    </tr>\n",
              "    <tr>\n",
              "      <th>26238</th>\n",
              "      <td>NaN</td>\n",
              "      <td>1</td>\n",
              "      <td>ALTER EGO</td>\n",
              "      <td>05/11/2020</td>\n",
              "      <td>Nous avons fait, par erreur, un virement au bé...</td>\n",
              "      <td>We made, by mistake, a transfer to this compan...</td>\n",
              "    </tr>\n",
              "    <tr>\n",
              "      <th>26248</th>\n",
              "      <td>NaN</td>\n",
              "      <td>1</td>\n",
              "      <td>ALTER EGO</td>\n",
              "      <td>05/11/2020</td>\n",
              "      <td>Nous avons fait, par erreur, un virement au bé...</td>\n",
              "      <td>We made, by mistake, a transfer to this compan...</td>\n",
              "    </tr>\n",
              "    <tr>\n",
              "      <th>26258</th>\n",
              "      <td>NaN</td>\n",
              "      <td>1</td>\n",
              "      <td>ALTER EGO</td>\n",
              "      <td>05/11/2020</td>\n",
              "      <td>Nous avons fait, par erreur, un virement au bé...</td>\n",
              "      <td>We made, by mistake, a transfer to this compan...</td>\n",
              "    </tr>\n",
              "    <tr>\n",
              "      <th>...</th>\n",
              "      <td>...</td>\n",
              "      <td>...</td>\n",
              "      <td>...</td>\n",
              "      <td>...</td>\n",
              "      <td>...</td>\n",
              "      <td>...</td>\n",
              "    </tr>\n",
              "    <tr>\n",
              "      <th>24689</th>\n",
              "      <td>NaN</td>\n",
              "      <td>5</td>\n",
              "      <td>odile R</td>\n",
              "      <td>12/07/2022</td>\n",
              "      <td>je suis satisfait de la prise en charge, expli...</td>\n",
              "      <td>I am satisfied with the support, clear explana...</td>\n",
              "    </tr>\n",
              "    <tr>\n",
              "      <th>24723</th>\n",
              "      <td>NaN</td>\n",
              "      <td>5</td>\n",
              "      <td>odile R</td>\n",
              "      <td>12/07/2022</td>\n",
              "      <td>je suis satisfait de la prise en charge, expli...</td>\n",
              "      <td>I am satisfied with the support, clear explana...</td>\n",
              "    </tr>\n",
              "    <tr>\n",
              "      <th>24757</th>\n",
              "      <td>NaN</td>\n",
              "      <td>5</td>\n",
              "      <td>odile R</td>\n",
              "      <td>12/07/2022</td>\n",
              "      <td>je suis satisfait de la prise en charge, expli...</td>\n",
              "      <td>I am satisfied with the support, clear explana...</td>\n",
              "    </tr>\n",
              "    <tr>\n",
              "      <th>24791</th>\n",
              "      <td>NaN</td>\n",
              "      <td>5</td>\n",
              "      <td>odile R</td>\n",
              "      <td>12/07/2022</td>\n",
              "      <td>je suis satisfait de la prise en charge, expli...</td>\n",
              "      <td>I am satisfied with the support, clear explana...</td>\n",
              "    </tr>\n",
              "    <tr>\n",
              "      <th>24825</th>\n",
              "      <td>NaN</td>\n",
              "      <td>5</td>\n",
              "      <td>odile R</td>\n",
              "      <td>12/07/2022</td>\n",
              "      <td>je suis satisfait de la prise en charge, expli...</td>\n",
              "      <td>I am satisfied with the support, clear explana...</td>\n",
              "    </tr>\n",
              "  </tbody>\n",
              "</table>\n",
              "<p>9836 rows × 6 columns</p>\n",
              "</div>"
            ],
            "text/plain": [
              "      company  stars     author        date  \\\n",
              "26218     NaN      1  ALTER EGO  05/11/2020   \n",
              "26228     NaN      1  ALTER EGO  05/11/2020   \n",
              "26238     NaN      1  ALTER EGO  05/11/2020   \n",
              "26248     NaN      1  ALTER EGO  05/11/2020   \n",
              "26258     NaN      1  ALTER EGO  05/11/2020   \n",
              "...       ...    ...        ...         ...   \n",
              "24689     NaN      5    odile R  12/07/2022   \n",
              "24723     NaN      5    odile R  12/07/2022   \n",
              "24757     NaN      5    odile R  12/07/2022   \n",
              "24791     NaN      5    odile R  12/07/2022   \n",
              "24825     NaN      5    odile R  12/07/2022   \n",
              "\n",
              "                                                  review  \\\n",
              "26218  Nous avons fait, par erreur, un virement au bé...   \n",
              "26228  Nous avons fait, par erreur, un virement au bé...   \n",
              "26238  Nous avons fait, par erreur, un virement au bé...   \n",
              "26248  Nous avons fait, par erreur, un virement au bé...   \n",
              "26258  Nous avons fait, par erreur, un virement au bé...   \n",
              "...                                                  ...   \n",
              "24689  je suis satisfait de la prise en charge, expli...   \n",
              "24723  je suis satisfait de la prise en charge, expli...   \n",
              "24757  je suis satisfait de la prise en charge, expli...   \n",
              "24791  je suis satisfait de la prise en charge, expli...   \n",
              "24825  je suis satisfait de la prise en charge, expli...   \n",
              "\n",
              "                                               review_en  \n",
              "26218  We made, by mistake, a transfer to this compan...  \n",
              "26228  We made, by mistake, a transfer to this compan...  \n",
              "26238  We made, by mistake, a transfer to this compan...  \n",
              "26248  We made, by mistake, a transfer to this compan...  \n",
              "26258  We made, by mistake, a transfer to this compan...  \n",
              "...                                                  ...  \n",
              "24689  I am satisfied with the support, clear explana...  \n",
              "24723  I am satisfied with the support, clear explana...  \n",
              "24757  I am satisfied with the support, clear explana...  \n",
              "24791  I am satisfied with the support, clear explana...  \n",
              "24825  I am satisfied with the support, clear explana...  \n",
              "\n",
              "[9836 rows x 6 columns]"
            ]
          },
          "execution_count": 6,
          "metadata": {},
          "output_type": "execute_result"
        }
      ],
      "source": [
        "duplicate_rows_sorted"
      ]
    },
    {
      "cell_type": "code",
      "execution_count": 92,
      "metadata": {},
      "outputs": [
        {
          "data": {
            "text/plain": [
              "company\n",
              "direct assurance               2000\n",
              "olivier assurances             1999\n",
              "gmf                            1995\n",
              "societe generale assurances    1797\n",
              "macif                          1444\n",
              "matmut                         1327\n",
              "allianz                        1157\n",
              "axa                            1139\n",
              "generali                        826\n",
              "malakoff humanis                571\n",
              "swiss life                      529\n",
              "credit mutuel                   514\n",
              "harmonies mutuelles             489\n",
              "cnp assurances                  447\n",
              "caisse d epargne                424\n",
              "cic                             141\n",
              "abeille assurances              126\n",
              "lcl                             112\n",
              "mutex                            34\n",
              "Name: count, dtype: int64"
            ]
          },
          "execution_count": 92,
          "metadata": {},
          "output_type": "execute_result"
        }
      ],
      "source": [
        "all_data[\"company\"].value_counts()"
      ]
    },
    {
      "cell_type": "markdown",
      "metadata": {
        "id": "0BTcyQ3S1DDE"
      },
      "source": [
        "# Data Cleaning"
      ]
    },
    {
      "cell_type": "code",
      "execution_count": 7,
      "metadata": {
        "id": "I4lwQRTIzeQU"
      },
      "outputs": [],
      "source": [
        "# all_data['avis_en'] = all_data['avis_cor_en'].combine_first(all_data['avis_en'])\n",
        "# all_data['avis'] = all_data['avis_cor'].combine_first(all_data['avis'])"
      ]
    },
    {
      "cell_type": "code",
      "execution_count": 8,
      "metadata": {
        "id": "V0S7tOzvzemP"
      },
      "outputs": [],
      "source": [
        "# all_data.drop(['avis_cor', 'avis_cor_en'], axis=1, inplace=True)\n",
        "# all_data = all_data.dropna(subset=['avis_en'])"
      ]
    },
    {
      "cell_type": "code",
      "execution_count": 171,
      "metadata": {},
      "outputs": [],
      "source": [
        "all_data['company'] = all_data['company'].str.replace(r'^https://www.opinion-assurances.fr/assureur-', '', regex=True)\n",
        "all_data['company'] = all_data['company'].str.replace(r'\\.html.*$', '', regex=True)\n",
        "all_data['company'] = all_data['company'].str.replace('-', ' ', regex=True)"
      ]
    },
    {
      "cell_type": "code",
      "execution_count": 172,
      "metadata": {
        "id": "1-1cojKC0juI"
      },
      "outputs": [],
      "source": [
        "all_data = all_data.drop_duplicates()\n",
        "all_data = all_data.dropna(subset=('review'))"
      ]
    },
    {
      "cell_type": "code",
      "execution_count": 186,
      "metadata": {},
      "outputs": [
        {
          "data": {
            "text/plain": [
              "company\n",
              "direct assurance               2000\n",
              "olivier assurances             1999\n",
              "gmf                            1995\n",
              "societe generale assurances    1797\n",
              "macif                          1444\n",
              "matmut                         1327\n",
              "allianz                        1157\n",
              "axa                            1139\n",
              "generali                        826\n",
              "malakoff humanis                571\n",
              "swiss life                      529\n",
              "credit mutuel                   514\n",
              "harmonies mutuelles             489\n",
              "cnp assurances                  447\n",
              "caisse d epargne                424\n",
              "cic                             141\n",
              "abeille assurances              126\n",
              "lcl                             112\n",
              "mutex                            34\n",
              "Name: count, dtype: int64"
            ]
          },
          "execution_count": 186,
          "metadata": {},
          "output_type": "execute_result"
        }
      ],
      "source": [
        "all_data[\"company\"].value_counts()"
      ]
    },
    {
      "cell_type": "markdown",
      "metadata": {},
      "source": [
        "# Data processing new columns"
      ]
    },
    {
      "cell_type": "code",
      "execution_count": 173,
      "metadata": {},
      "outputs": [],
      "source": [
        "def generate_trigrams(token_list):\n",
        "    return [' '.join(trigram) for trigram in ngrams(token_list, 3) if len(trigram) == 3]\n",
        "\n",
        "def preprocess_text(df, text_column):\n",
        "    # Check for NaN values in the text column and replace them with empty strings\n",
        "    df[text_column] = df[text_column].fillna(\"\").astype(str)\n",
        "\n",
        "    # Nettoyage de base du texte\n",
        "    df[text_column] = df[text_column].str.lower().str.translate(str.maketrans('', '', string.punctuation))\n",
        "\n",
        "    # Tokenisation\n",
        "    df['review_en_tokenized'] = df[text_column].apply(word_tokenize)\n",
        "\n",
        "    # Suppression des stop words\n",
        "    stop_words = set(stopwords.words('english'))\n",
        "    symbols = ['“', '”', 'malakoff', 'macif', 'lcl', 'matmut', 'allianz', 'axa', 'mutex', 'swiss', 'generali', 'gmf']\n",
        "    df['review_en_no_stopwords'] = df['review_en_tokenized'].apply(lambda x: [word for word in x if word not in stop_words and word not in symbols and len(word)>2])\n",
        "\n",
        "    # Lemmatisation\n",
        "    lemmatizer = WordNetLemmatizer()\n",
        "    df['review_en_lemmatized'] = df['review_en_no_stopwords'].apply(lambda x: [lemmatizer.lemmatize(word) for word in x])\n",
        "\n",
        "    # Création des trigrammes\n",
        "    df['trigrammes'] = df['review_en_lemmatized'].apply(generate_trigrams)\n",
        "\n",
        "    return df\n",
        "\n",
        "\n",
        "all_data = preprocess_text(all_data, 'review_en')"
      ]
    },
    {
      "cell_type": "markdown",
      "metadata": {},
      "source": [
        "# Trigrammes et TF-IDF"
      ]
    },
    {
      "cell_type": "code",
      "execution_count": null,
      "metadata": {},
      "outputs": [],
      "source": [
        "all_data['trigrammes_joined'] = all_data['trigrammes'].apply(lambda x: ' '.join(x))\n",
        "\n",
        "# Créer un objet TfidfVectorizer\n",
        "vectorizer = TfidfVectorizer()\n",
        "\n",
        "# Appliquer TF-IDF aux trigrammes joints\n",
        "tfidf_matrix = vectorizer.fit_transform(all_data['trigrammes_joined'])"
      ]
    },
    {
      "cell_type": "markdown",
      "metadata": {
        "id": "dFBlY8BV1YtU"
      },
      "source": [
        "# Spellchecker"
      ]
    },
    {
      "cell_type": "code",
      "execution_count": 10,
      "metadata": {},
      "outputs": [
        {
          "data": {
            "text/plain": [
              "company  stars  author   date        review                                                review_en                                                \n",
              "MACIF    1      anonyme  02/06/2021  Intervention supprimée à la demande de l'internaute.  Intervention deleted at the request of the Internet user.    1\n",
              "                         21/02/2020  Intervention supprimée à la demande de l'internaute.  Intervention deleted at the request of the Internet user.    1\n",
              "Name: count, dtype: int64"
            ]
          },
          "execution_count": 10,
          "metadata": {},
          "output_type": "execute_result"
        }
      ],
      "source": [
        "all_data.value_counts()"
      ]
    },
    {
      "cell_type": "code",
      "execution_count": 6,
      "metadata": {
        "colab": {
          "base_uri": "https://localhost:8080/"
        },
        "id": "rmj8386P1Z8C",
        "outputId": "bdc1414f-4fa3-470d-8841-7a30fa60ebe1"
      },
      "outputs": [
        {
          "name": "stderr",
          "output_type": "stream",
          "text": [
            "[nltk_data] Downloading package stopwords to\n",
            "[nltk_data]     C:\\Users\\minji\\AppData\\Roaming\\nltk_data...\n",
            "[nltk_data]   Package stopwords is already up-to-date!\n"
          ]
        }
      ],
      "source": [
        "nltk.download('stopwords')\n",
        "stop_words_fr = set(stopwords.words('french'))"
      ]
    },
    {
      "cell_type": "code",
      "execution_count": 7,
      "metadata": {
        "id": "XJpHMyBbHAUB"
      },
      "outputs": [],
      "source": [
        "words = all_data['review'].str.split()"
      ]
    },
    {
      "cell_type": "code",
      "execution_count": 13,
      "metadata": {
        "colab": {
          "base_uri": "https://localhost:8080/"
        },
        "id": "2xbJtJtu3UyI",
        "outputId": "44ec4b48-bb07-4ed6-f459-8da889db9c72"
      },
      "outputs": [
        {
          "data": {
            "text/plain": [
              "[('a', 17017),\n",
              " ('Je', 14818),\n",
              " ('très', 11185),\n",
              " ('plus', 10750),\n",
              " ('assurance', 9154),\n",
              " (\"j'ai\", 7892),\n",
              " ('prix', 7298),\n",
              " ('service', 7129),\n",
              " ('bien', 6277),\n",
              " ('!', 6143)]"
            ]
          },
          "execution_count": 13,
          "metadata": {},
          "output_type": "execute_result"
        }
      ],
      "source": [
        "words = words.apply(lambda x: [item for item in x if item not in stop_words_fr])\n",
        "frequent_words = Counter([word for sublist in words for word in sublist])\n",
        "frequent_words.most_common(10)"
      ]
    },
    {
      "cell_type": "code",
      "execution_count": 8,
      "metadata": {},
      "outputs": [
        {
          "data": {
            "text/plain": [
              "True"
            ]
          },
          "execution_count": 8,
          "metadata": {},
          "output_type": "execute_result"
        }
      ],
      "source": [
        "# Initialisation de SymSpell\n",
        "sym_spell = SymSpell(max_dictionary_edit_distance=2, prefix_length=7)\n",
        "dictionary_path = \"fr-100k.txt\"  # Remplacez par le chemin vers votre dictionnaire français\n",
        "sym_spell.load_dictionary(dictionary_path, term_index=0, count_index=1)"
      ]
    },
    {
      "cell_type": "code",
      "execution_count": 9,
      "metadata": {
        "id": "CZW7VSQC7yrs"
      },
      "outputs": [],
      "source": [
        "# Liste des stopwords en français\n",
        "stop_words = set(stopwords.words('french'))\n",
        "\n",
        "# Fonction pour le prétraitement du texte\n",
        "def preprocess_text(text):\n",
        "    # Suppression des caractères spéciaux et de la ponctuation\n",
        "    text = re.sub(r'\\W', ' ', text)\n",
        "    text = text.translate(str.maketrans('', '', string.punctuation))\n",
        "    \n",
        "    # Suppression des stopwords\n",
        "    text = ' '.join([word for word in text.split() if word not in stop_words])\n",
        "    \n",
        "    return text\n",
        "\n",
        "# Fonction pour corriger l'orthographe\n",
        "def spell_check(text):\n",
        "    text = preprocess_text(text)\n",
        "    suggestions = sym_spell.lookup_compound(text, max_edit_distance=2)\n",
        "    return suggestions[0].term"
      ]
    },
    {
      "cell_type": "code",
      "execution_count": 10,
      "metadata": {},
      "outputs": [],
      "source": [
        "# Création d'un pool de processus\n",
        "with Pool(processes=4) as pool:  # Utilise 4 processus\n",
        "    all_data['review_spellcheck'] = pool.map(spell_check, all_data['review'])"
      ]
    },
    {
      "cell_type": "markdown",
      "metadata": {},
      "source": [
        "# Word frequency"
      ]
    },
    {
      "cell_type": "code",
      "execution_count": 174,
      "metadata": {},
      "outputs": [],
      "source": [
        "def freq_words(x, terms = 30):\n",
        "  all_words = []\n",
        "  for text in x:\n",
        "    all_words.extend(text)\n",
        "  \n",
        "  fdist = FreqDist(all_words)\n",
        "  words_df = pd.DataFrame({'word':list(fdist.keys()), 'count':list(fdist.values())})\n",
        "  \n",
        "  # selecting top 20 most frequent words\n",
        "  d = words_df.nlargest(columns=\"count\", n = terms) \n",
        "  plt.figure(figsize=(20,5))\n",
        "  ax = sns.barplot(data=d, x= \"word\", y = \"count\")\n",
        "  ax.set(ylabel = 'Count')\n",
        "  ax.set_xticklabels(ax.get_xticklabels(), rotation=90)\n",
        "  plt.show()"
      ]
    },
    {
      "cell_type": "code",
      "execution_count": 175,
      "metadata": {},
      "outputs": [
        {
          "name": "stderr",
          "output_type": "stream",
          "text": [
            "C:\\Users\\minji\\AppData\\Local\\Temp\\ipykernel_23224\\3644089223.py:14: UserWarning: FixedFormatter should only be used together with FixedLocator\n",
            "  ax.set_xticklabels(ax.get_xticklabels(), rotation=90)\n"
          ]
        },
        {
          "data": {
            "image/png": "[encoded data removed]",
            "text/plain": [
              "<Figure size 2000x500 with 1 Axes>"
            ]
          },
          "metadata": {},
          "output_type": "display_data"
        }
      ],
      "source": [
        "freq_words(all_data['review_en_no_stopwords'])"
      ]
    },
    {
      "cell_type": "markdown",
      "metadata": {},
      "source": [
        "# Topic modeling"
      ]
    },
    {
      "cell_type": "code",
      "execution_count": 176,
      "metadata": {},
      "outputs": [],
      "source": [
        "# !python -m spacy download en_core_web_sm\n",
        "nlp = spacy.load('en_core_web_sm', disable=['parser', 'ner'])"
      ]
    },
    {
      "cell_type": "code",
      "execution_count": 177,
      "metadata": {},
      "outputs": [
        {
          "name": "stderr",
          "output_type": "stream",
          "text": [
            "C:\\Users\\minji\\AppData\\Local\\Temp\\ipykernel_23224\\3644089223.py:14: UserWarning: FixedFormatter should only be used together with FixedLocator\n",
            "  ax.set_xticklabels(ax.get_xticklabels(), rotation=90)\n"
          ]
        },
        {
          "data": {
            "image/png": "[encoded data removed]",
            "text/plain": [
              "<Figure size 2000x500 with 1 Axes>"
            ]
          },
          "metadata": {},
          "output_type": "display_data"
        }
      ],
      "source": [
        "reviews = freq_words(all_data['review_en_lemmatized'], 35)"
      ]
    },
    {
      "cell_type": "code",
      "execution_count": 178,
      "metadata": {},
      "outputs": [],
      "source": [
        "reviews = [words for words in all_data[\"review_en_lemmatized\"].tolist()]"
      ]
    },
    {
      "cell_type": "code",
      "execution_count": 179,
      "metadata": {},
      "outputs": [],
      "source": [
        "# Create the term dictionary of our corpus, where every unique term is assigned an index\n",
        "dictionary = corpora.Dictionary(reviews)\n",
        "# Convert list of reviews (reviews_2) into a Document Term Matrix using the dictionary prepared above.\n",
        "doc_term_matrix = [dictionary.doc2bow(rev) for rev in reviews]\n",
        "# Creating the object for LDA model using gensim library\n",
        "LDA = gensim.models.ldamodel.LdaModel\n",
        "# Build LDA model\n",
        "lda_model = LDA(corpus=doc_term_matrix,\n",
        "                id2word=dictionary,\n",
        "                num_topics=7, \n",
        "                random_state=100,\n",
        "                chunksize=1000,\n",
        "                passes=50)"
      ]
    },
    {
      "cell_type": "code",
      "execution_count": 184,
      "metadata": {},
      "outputs": [
        {
          "data": {
            "text/plain": [
              "[(0,\n",
              "  '0.059*\"satisfied\" + 0.058*\"service\" + 0.048*\"price\" + 0.024*\"good\" + 0.023*\"insurance\" + 0.017*\"recommend\" + 0.016*\"advisor\" + 0.013*\"well\" + 0.013*\"thank\" + 0.011*\"customer\"'),\n",
              " (1,\n",
              "  '0.036*\"insurance\" + 0.031*\"year\" + 0.024*\"contract\" + 0.011*\"macif\" + 0.011*\"without\" + 0.010*\"euro\" + 0.009*\"even\" + 0.008*\"mutual\" + 0.008*\"increase\" + 0.008*\"pay\"'),\n",
              " (2,\n",
              "  '0.020*\"practical\" + 0.012*\"card\" + 0.011*\"driver\" + 0.011*\"key\" + 0.010*\"efficiency\" + 0.010*\"overall\" + 0.009*\"precise\" + 0.008*\"young\" + 0.008*\"deregistered\" + 0.008*\"ease\"'),\n",
              " (3,\n",
              "  '0.026*\"vehicle\" + 0.023*\"expert\" + 0.019*\"car\" + 0.016*\"damage\" + 0.013*\"accident\" + 0.013*\"claim\" + 0.012*\"disaster\" + 0.011*\"insurance\" + 0.010*\"following\" + 0.010*\"assistance\"'),\n",
              " (4,\n",
              "  '0.016*\"insurance\" + 0.015*\"call\" + 0.014*\"time\" + 0.014*\"mutual\" + 0.013*\"service\" + 0.013*\"month\" + 0.011*\"dont\" + 0.011*\"customer\" + 0.010*\"contact\" + 0.010*\"phone\"'),\n",
              " (5,\n",
              "  '0.096*\"gmf\" + 0.043*\"best\" + 0.038*\"revaluation\" + 0.023*\"satisfaction\" + 0.020*\"friend\" + 0.020*\"regard\" + 0.018*\"apicil\" + 0.013*\"effective\" + 0.012*\"prado\" + 0.010*\"affordable\"'),\n",
              " (6,\n",
              "  '0.020*\"document\" + 0.020*\"since\" + 0.018*\"file\" + 0.016*\"received\" + 0.014*\"pension\" + 0.013*\"letter\" + 0.012*\"still\" + 0.012*\"month\" + 0.011*\"sent\" + 0.011*\"humanis\"')]"
            ]
          },
          "execution_count": 184,
          "metadata": {},
          "output_type": "execute_result"
        }
      ],
      "source": [
        "lda_model.print_topics()"
      ]
    },
    {
      "cell_type": "code",
      "execution_count": 185,
      "metadata": {},
      "outputs": [
        {
          "data": {
            "text/html": [
              "\n",
              "<link rel=\"stylesheet\" type=\"text/css\" href=\"https://cdn.jsdelivr.net/gh/bmabey/pyLDAvis@3.4.0/pyLDAvis/js/ldavis.v1.0.0.css\">\n",
              "\n",
              "\n",
              "<div id=\"ldavis_el2322425790036544324634744034\" style=\"background-color:white;\"></div>\n",
              "<script type=\"text/javascript\">\n",
              "\n",
              "var ldavis_el2322425790036544324634744034_data = {\"mdsDat\": {\"x\": [-0.1934904631345966, -0.15956185151947028, -0.11297343840309577, -0.14201171307059926, -0.04016945975012572, 0.3157433816440992, 0.332463544233789], \"y\": [-0.0008606515907926644, 0.004557930488277268, -0.18672186854799042, 0.2791387319157085, -0.134863516095964, -0.04826228185120576, 0.08701165568196681], \"topics\": [1, 2, 3, 4, 5, 6, 7], \"cluster\": [1, 1, 1, 1, 1, 1, 1], \"Freq\": [27.083076104360543, 24.932245776842024, 16.310064156567584, 13.685316902388605, 12.700071346868732, 3.509986503914634, 1.7792392090578808]}, \"tinfo\": {\"Term\": [\"satisfied\", \"service\", \"price\", \"year\", \"gmf\", \"vehicle\", \"expert\", \"document\", \"insurance\", \"good\", \"car\", \"contract\", \"advisor\", \"file\", \"pension\", \"recommend\", \"received\", \"damage\", \"since\", \"mutual\", \"call\", \"macif\", \"letter\", \"euro\", \"accident\", \"thank\", \"customer\", \"best\", \"dont\", \"email\", \"malakoff\", \"incompetent\", \"security\", \"social\", \"trying\", \"generali\", \"try\", \"hang\", \"catastrophic\", \"supplementary\", \"reach\", \"nonexistent\", \"unpleasant\", \"unreachable\", \"reached\", \"2010\", \"across\", \"300\", \"terrible\", \"teletransmission\", \"regularly\", \"pas\", \"behavior\", \"lousy\", \"availability\", \"connect\", \"play\", \"hung\", \"collective\", \"history\", \"wait\", \"minute\", \"get\", \"call\", \"back\", \"employer\", \"run\", \"refund\", \"impossible\", \"dont\", \"message\", \"phone\", \"know\", \"someone\", \"number\", \"contact\", \"answer\", \"mutual\", \"manager\", \"away\", \"time\", \"never\", \"reimbursement\", \"called\", \"email\", \"month\", \"waiting\", \"customer\", \"one\", \"response\", \"file\", \"service\", \"day\", \"insurance\", \"company\", \"take\", \"advisor\", \"even\", \"telephone\", \"problem\", \"request\", \"macif\", \"euro\", \"increase\", \"per\", \"glass\", \"bonus\", \"fee\", \"canceled\", \"cheaper\", \"increased\", \"annual\", \"warning\", \"hospital\", \"else\", \"loyalty\", \"gesture\", \"dissatisfied\", \"loyal\", \"hospitalization\", \"significant\", \"\\u20ac850\", \"excess\", \"cancellation\", \"view\", \"quarterly\", \"harmonie\", \"wording\", \"discovered\", \"unjustified\", \"canceling\", \"old\", \"year\", \"basic\", \"reason\", \"commercial\", \"contract\", \"contribution\", \"member\", \"matmut\", \"rate\", \"insurance\", \"reimburse\", \"pay\", \"insurer\", \"expensive\", \"without\", \"termination\", \"insured\", \"even\", \"would\", \"new\", \"guarantee\", \"mutual\", \"amount\", \"company\", \"cost\", \"change\", \"find\", \"take\", \"going\", \"one\", \"reimbursement\", \"problem\", \"customer\", \"good\", \"car\", \"home\", \"several\", \"document\", \"pension\", \"registered\", \"january\", \"retirement\", \"mail\", \"december\", \"disability\", \"april\", \"death\", \"mother\", \"pleasant\", \"supporting\", \"organization\", \"retired\", \"missing\", \"died\", \"calculation\", \"soci\\u00e9t\\u00e9\", \"cnp\", \"capital\", \"receipt\", \"g\\u00e9n\\u00e9rale\", \"funeral\", \"deducted\", \"receiving\", \"postal\", \"agirc\", \"beneficiary\", \"father\", \"2020\", \"received\", \"transfer\", \"letter\", \"beginning\", \"humanis\", \"payment\", \"receive\", \"sent\", \"november\", \"since\", \"file\", \"2021\", \"swisslife\", \"still\", \"request\", \"date\", \"month\", \"email\", \"paid\", \"asked\", \"response\", \"time\", \"day\", \"life\", \"waiting\", \"contract\", \"send\", \"told\", \"satisfied\", \"quick\", \"friendly\", \"fast\", \"easy\", \"efficient\", \"speed\", \"attentive\", \"welcome\", \"suit\", \"olivier\", \"responsiveness\", \"attractive\", \"responsive\", \"perfect\", \"reasonable\", \"1996\", \"competitive\", \"satisfactory\", \"highly\", \"expectation\", \"excellent\", \"team\", \"perfectly\", \"fair\", \"lolivier\", \"friendliness\", \"delighted\", \"easily\", \"seemed\", \"price\", \"clear\", \"listening\", \"thank\", \"simple\", \"service\", \"recommend\", \"quality\", \"good\", \"happy\", \"advisor\", \"well\", \"assurance\", \"quickly\", \"insurance\", \"telephone\", \"customer\", \"always\", \"thanks\", \"site\", \"contract\", \"request\", \"time\", \"contact\", \"expert\", \"damage\", \"assistance\", \"water\", \"repair\", \"garage\", \"house\", \"membership\", \"declared\", \"expertise\", \"compensated\", \"victim\", \"leak\", \"stolen\", \"ceiling\", \"breakdown\", \"door\", \"damaged\", \"repaired\", \"rental\", \"neighbor\", \"fire\", \"window\", \"caused\", \"hotel\", \"wall\", \"roof\", \"front\", \"taxi\", \"storm\", \"report\", \"declaration\", \"vehicle\", \"accident\", \"disaster\", \"car\", \"compensation\", \"claim\", \"incident\", \"broken\", \"theft\", \"responsible\", \"following\", \"loss\", \"work\", \"home\", \"insured\", \"day\", \"insurance\", \"still\", \"take\", \"practical\", \"key\", \"efficiency\", \"overall\", \"precise\", \"young\", \"ease\", \"deregistered\", \"swiss\", \"loved\", \"license\", \"\\u20ac690\", \"kindness\", \"complain\", \"green\", \"empathy\", \"verify\", \"serve\", \"photocopy\", \"data\", \"cr\\u00e9dit\", \"salesperson\", \"electronic\", \"woman\", \"incurred\", \"impeccable\", \"assert\", \"downside\", \"correction\", \"precisely\", \"driver\", \"supported\", \"credit\", \"card\", \"obtaining\", \"operator\", \"driving\", \"school\", \"certificate\", \"handling\", \"effective\", \"used\", \"gmf\", \"best\", \"revaluation\", \"satisfaction\", \"friend\", \"regard\", \"apicil\", \"prado\", \"affordable\", \"app\", \"elderly\", \"joined\", \"160\\u20ac\", \"fictive\", \"\\u20ac850month\", \"suitable\", \"branch\", \"notify\", \"download\", \"robot\", \"mind\", \"remotely\", \"helping\", \"constant\", \"size\", \"virtual\", \"vague\", \"remuneration\", \"pandemic\", \"represent\", \"effective\", \"particularly\", \"positive\", \"total\", \"example\"], \"Freq\": [4285.0, 6068.0, 3877.0, 4748.0, 906.0, 2144.0, 1577.0, 1761.0, 9479.0, 2943.0, 2175.0, 4634.0, 2316.0, 3045.0, 1243.0, 1633.0, 1454.0, 1056.0, 2762.0, 3155.0, 2509.0, 1408.0, 1197.0, 1339.0, 1233.0, 1092.0, 3036.0, 410.0, 2005.0, 1885.0, 987.1756902814274, 431.8390116403893, 304.28533628663183, 287.7723735799864, 253.8222287756215, 239.577142066728, 234.1567008074676, 229.91280316844978, 220.60814664215627, 218.75191883703587, 187.37255276498803, 177.17496665664305, 171.99849230576538, 164.90824163883545, 151.82888417708756, 134.2336651433063, 120.4418042979543, 121.20227870286962, 120.32674070537368, 114.87015403371414, 114.87673960249346, 111.9863852806434, 107.75212363249179, 106.22159733304049, 107.21132140443453, 102.76449965941367, 102.15652964419994, 98.29777913360154, 91.95635276641133, 90.43679962915195, 660.7493708952089, 614.1932105637694, 1331.8231753136515, 2223.996988131785, 1147.8611615881919, 471.8789020964762, 471.43562980199073, 470.21201775108176, 988.7779558225051, 1620.3630852346173, 446.72049161248947, 1376.9555156174345, 1022.7996727220807, 240.63940768254386, 589.7335389560523, 1391.8450520467723, 938.4784512232001, 2039.0874548049005, 362.9564694050481, 469.1075810945801, 2056.7783651616805, 1172.120792365577, 1306.1548345445908, 639.2368248894406, 1182.3022822740884, 1872.6911922001311, 1105.7359858788839, 1565.4169771369038, 1137.2834678158615, 1033.334109002023, 1334.6733559944837, 1874.0215439521178, 1008.9475806658245, 2257.499280829874, 1063.3191731034303, 961.0095206277906, 1021.8950094616457, 996.3706151858017, 849.3230210889086, 870.6456887664206, 855.0816831203754, 1407.3071730474962, 1338.1906851579156, 1065.829062082403, 461.7835776264851, 385.37945087782765, 321.23611608960664, 288.3688672971276, 268.98840349263435, 259.40705163786674, 217.2001228427549, 209.57207226937936, 191.88446547216427, 178.6448455778268, 175.48912450697728, 164.6946279626543, 163.76847052091284, 161.13174536886208, 151.05072395759555, 148.47519382375057, 141.58706903374474, 151.9818822494544, 135.63257987980975, 125.41907440851008, 121.13797741447323, 115.43841621229188, 112.96007952388236, 115.87411335536599, 110.0485076493796, 107.55175244530695, 106.60554544140251, 527.8456078132858, 4060.425142557529, 456.23469588514865, 414.1575737718532, 230.60038543009418, 3195.8976237225093, 927.3341340804767, 534.5873692607788, 526.885444590746, 401.9210628621406, 4743.928657524563, 504.9559013027211, 1061.3478079858212, 929.8173254403079, 516.5156202383922, 1397.1112244069166, 366.5715767181605, 869.7748723951239, 1251.0894784252218, 975.3549742859158, 568.4968259921851, 442.45386091026006, 1115.3121816366304, 479.7463235035437, 891.896232906421, 537.2129848319535, 522.2087726588077, 611.7242975047926, 707.9026780770337, 510.2845917665809, 630.3554031532332, 598.1531904902121, 593.2537730004294, 641.2891387520556, 610.1759727595228, 553.6138652003474, 527.4846849198901, 524.03929922301, 1760.5538943007682, 1242.6706973825037, 558.6333010734648, 543.377146691168, 525.8381154897015, 429.7806518027386, 363.27975510717397, 362.852878320747, 350.4439381504287, 322.86198834068966, 307.31140493549645, 295.82132489940284, 258.23488827658497, 218.0440281437461, 211.46725885035295, 205.50046596480507, 180.59970259597952, 173.35539979549594, 165.33998486755942, 162.96850756088438, 162.515328448412, 159.7777928221934, 160.3954495495077, 153.52812662377596, 131.58694366120562, 126.74889602292214, 117.17792952294076, 109.16503108237943, 106.67104110433098, 106.76611399736538, 732.70948324891, 1352.9947118244477, 334.1099822912907, 1103.4844651457217, 311.9235223372361, 942.7999416584521, 765.4782557811834, 566.4622342209508, 976.1076853907927, 294.3912353219351, 1721.352899509932, 1528.7458679968145, 435.6612600286612, 319.51570435246487, 1042.7991909061031, 926.9047605380509, 473.31028672547467, 1031.9046929700687, 702.10859412871, 474.2055120102716, 467.95125573888185, 666.3767684376037, 656.4324558706402, 543.6903185120348, 399.5935134708165, 474.7527775527273, 530.0137129253925, 412.9945536239268, 415.43441899150974, 4284.388330564157, 680.5886339589898, 639.5030329420837, 598.1654691942715, 578.8676510667009, 574.3398220077709, 478.37688685009107, 421.30226066649044, 411.28409005151127, 388.00801081133005, 385.2892255110257, 364.9575088243347, 319.0711022312391, 308.93637604886567, 282.1958261508366, 277.86859091260317, 302.21057926266013, 259.1758313166983, 229.73632745693308, 227.52920420537814, 170.89105328350206, 152.23121641235826, 132.08375887481742, 129.5408204522774, 122.7264836651303, 118.2873973124765, 110.83397283561793, 92.72616171297548, 88.3180132620148, 83.96996694276262, 3482.1695362961573, 764.3968842750209, 316.02072478775375, 954.2142136998854, 794.0359177524759, 4193.852560466576, 1228.852441723991, 421.9184848836703, 1733.238585193324, 299.01665265805656, 1165.3986448763485, 971.2896381073613, 445.62450213853526, 523.1157785440237, 1688.7365208986473, 661.3233162533999, 828.7875851791782, 551.6298311986789, 371.1202915436925, 414.9305225313839, 613.9211467366205, 449.50978907100995, 469.5888673423462, 424.50855229650455, 1576.824185705096, 1056.0949546027568, 681.7853880706206, 605.0010830820094, 544.1060336484247, 499.6260441370821, 478.3035185901639, 379.7035211178808, 306.25124382820746, 296.77413036293103, 273.3686093861992, 252.95980648421076, 208.56440466488084, 187.90828152255037, 187.64227549108912, 179.1831770938264, 173.61241291241603, 171.89977864114462, 166.9057031205508, 166.3600842902697, 156.90907136376293, 156.6147858296347, 153.5060470641716, 150.07174914605443, 142.06985694324032, 140.90070956635054, 134.34591588332444, 134.04061012171567, 132.53013353691514, 131.7216752270235, 603.8045654104097, 327.858633633698, 1755.2418880790046, 882.6874270006831, 794.0141306524843, 1301.1502011635655, 481.5025511113708, 859.5964292731255, 223.76680063628413, 272.1329957724424, 222.56636396486923, 329.35697699507045, 700.5113724519322, 386.1939177959424, 511.8162654984705, 592.7924894494869, 539.1717934170105, 485.738425575704, 728.0665812490598, 338.1655717958589, 300.2785313497438, 373.4923293397521, 208.99857825198626, 185.7062010710012, 179.710787528206, 161.9138927135399, 153.7914668022211, 140.20866011214414, 140.3851818454909, 136.07548500277156, 131.99854521881724, 125.51004578569066, 133.90555528959518, 106.8234717302474, 98.6752330247189, 96.1986431571701, 88.19615705701298, 80.80270213061122, 80.20094948895932, 75.25990064070076, 72.1510792783169, 71.15221339106898, 65.36704544703315, 64.3707963653748, 64.20356775783868, 63.38617560524362, 61.590288790371105, 61.11718853610709, 59.05354272147928, 58.48167105358775, 58.488845606661144, 210.04394876042363, 107.08043857317551, 115.26977499033093, 223.6415464675251, 102.82046970157718, 96.6581438207956, 77.76176607747068, 85.41938839463147, 122.71582597609923, 86.16607047433354, 91.24183282093992, 75.26216218460434, 906.0069586167107, 409.31421820923356, 354.510188191738, 220.2758273884937, 187.04196098426044, 186.44330611372922, 172.0559292221508, 114.509874014881, 93.05289155663314, 65.96340727995216, 65.86990808533898, 61.894033491798005, 57.81554125914641, 57.25146707913945, 57.25146707913945, 52.383377288484304, 52.57653809468075, 44.5766271812431, 44.42745101049817, 44.175349738641266, 42.43714845247437, 41.409228312589086, 40.57038851891079, 38.83663225482068, 38.68309890828507, 38.55593701683742, 37.89789366458664, 37.554388332040105, 37.29232089902488, 36.63297302942548, 120.01639547441455, 49.39383201067338, 41.0198189032397, 47.067170415477484, 41.32515941678901], \"Total\": [4285.0, 6068.0, 3877.0, 4748.0, 906.0, 2144.0, 1577.0, 1761.0, 9479.0, 2943.0, 2175.0, 4634.0, 2316.0, 3045.0, 1243.0, 1633.0, 1454.0, 1056.0, 2762.0, 3155.0, 2509.0, 1408.0, 1197.0, 1339.0, 1233.0, 1092.0, 3036.0, 410.0, 2005.0, 1885.0, 988.0771897857466, 432.73114527251124, 305.17781599849855, 288.6646106275027, 254.71454622281462, 240.4768902904477, 235.04980058373243, 230.80482403444907, 221.500499760103, 219.65197769475154, 188.26496124834128, 178.0752167712651, 172.89077444074343, 165.80013602985733, 152.72317465764786, 135.19300766845788, 121.33449085303427, 122.10079698728116, 121.21927519328993, 115.76161028712505, 115.77333397421633, 112.87889771796056, 108.64647881498794, 107.11460176523772, 108.11610967828064, 103.65702584610344, 103.05019143718349, 99.18943681656533, 92.85045541702999, 91.32918344812114, 673.0131912820489, 644.9831663179962, 1445.6954479896085, 2509.9404454115124, 1266.0439292516335, 509.9733905623637, 516.4291940252415, 518.5384932121538, 1147.6273962121445, 2005.2892689731375, 501.74774796974856, 1733.0601085870924, 1297.111299108668, 260.34011912049465, 706.9648177712736, 1856.5486962924908, 1235.231125499145, 3155.1253976442, 419.46741400409854, 571.2699372665688, 3509.8679905293416, 1793.8507845888826, 2093.048870395102, 853.866783095501, 1885.196828982716, 3610.58479044913, 1823.9772764568434, 3036.0883233507207, 2125.6488983242716, 1981.9151989966142, 3045.5901741041143, 6068.635423043906, 2102.233282155934, 9479.040149060222, 2334.2806031159766, 2008.4078635651792, 2316.1114763970936, 2476.5792378756096, 1681.823673472763, 2020.0008277025836, 2232.1510916302605, 1408.1675743061594, 1339.0482461217148, 1066.6872848322514, 462.6412269257772, 386.2388684674512, 322.09318134578916, 289.22636552216, 269.84603712949024, 260.26491009243034, 218.06073605769242, 210.42962230165944, 192.74184433725824, 179.50948381139503, 176.34949207146605, 165.5519967604358, 164.6258258989818, 161.99150642311707, 151.9088901522529, 149.3338221330345, 142.4460679878053, 152.91592210226648, 136.48981975888586, 126.27631971300137, 121.99632179343604, 116.3128335811282, 113.81897227186793, 116.77404337238124, 110.90753772696539, 108.41402102539742, 107.46256664652473, 561.7838885917727, 4748.075759668839, 493.521143889224, 459.5468664707787, 246.95874729985547, 4634.095553240045, 1234.406845553668, 676.4533565502913, 669.9887368047488, 487.9518312745096, 9479.040149060222, 653.8875740793949, 1679.8234058604105, 1445.4259810511762, 716.8972919339484, 2614.616362130459, 466.7642276610872, 1490.7940085392563, 2476.5792378756096, 1887.170315648056, 916.3574821886206, 637.2588825200261, 3155.1253976442, 753.1017639736201, 2334.2806031159766, 933.9832172626013, 902.7241750436785, 1333.3939778157658, 2008.4078635651792, 963.0497813247132, 2125.6488983242716, 2093.048870395102, 2020.0008277025836, 3036.0883233507207, 2943.6519580194463, 2175.318457761367, 1383.4102757865319, 1448.9700032246792, 1761.4720015293908, 1243.589222046947, 559.5511911454778, 544.2952816950669, 526.7558704812806, 430.6980909813545, 364.19797537983186, 363.770803459419, 351.361669110874, 323.778819062329, 308.2286417790877, 296.74962340093595, 259.15355082121084, 218.96312992371324, 212.38549907695023, 206.41859068158607, 181.51657281007078, 174.27737156040982, 166.26321645086676, 163.8856950076842, 163.43256625533908, 160.69505152469554, 161.31841091438295, 154.44539537214726, 132.50680306815946, 127.6680716712051, 118.09600289437131, 110.0834359313481, 107.58792001199622, 107.6840570265603, 764.837519433008, 1454.6253219149548, 346.3717175823485, 1197.2861117511554, 345.96255944102955, 1226.2661419806584, 1004.338940453372, 706.9840149795781, 1360.1169310349865, 331.5251843014179, 2762.946237077128, 3045.5901741041143, 590.858658878878, 391.22936208573896, 2225.1215619823283, 2232.1510916302605, 782.4050678868308, 3610.58479044913, 1885.196828982716, 891.6440217881965, 870.3240689926982, 1981.9151989966142, 3509.8679905293416, 2102.233282155934, 716.3437015093236, 1823.9772764568434, 4634.095553240045, 1087.0248346164142, 1366.966207961265, 4285.279762903992, 681.4799869015932, 640.3965403466095, 599.0565169149924, 579.7592380847458, 575.2312723747241, 479.26892646572077, 422.1933926099156, 412.1756829004472, 388.9001413014599, 386.1817222248953, 365.8514877734177, 319.96246133093433, 309.8280539076828, 283.08757411098065, 278.7651300928582, 303.2476529081095, 260.06703047776426, 230.630704449634, 228.42004938827986, 171.7824469151523, 153.12337611076083, 132.97662544963575, 130.4340863038824, 123.61886176935435, 119.18102379643253, 111.7256428207879, 93.61772308719578, 89.20958833810822, 84.87535458851282, 3877.158934451689, 820.4039979878052, 335.37230971549224, 1092.0126329972893, 935.3525377537267, 6068.635423043906, 1633.8638578518978, 499.69830880957426, 2943.6519580194463, 347.24199653745615, 2316.1114763970936, 1832.6937303821253, 609.3873347640676, 807.358894942629, 9479.040149060222, 1681.823673472763, 3036.0883233507207, 1221.695867483063, 502.1228040384089, 808.1598248707423, 4634.095553240045, 2232.1510916302605, 3509.8679905293416, 1856.5486962924908, 1577.6323528991597, 1056.9032949205316, 682.5946861176761, 605.809068765494, 544.9140069550526, 500.4339804738623, 479.1124184463555, 380.52541084733843, 307.0600376726447, 297.582414793377, 274.1779645570031, 253.76869010370345, 209.37224212348573, 188.71721555076013, 188.45222118652612, 179.99140357092918, 174.42116067113702, 172.70778578188256, 167.71364968067084, 167.1690323280814, 157.7172946330143, 157.4229963554889, 154.31426538337507, 150.88086596329993, 142.88515014681695, 141.70945471261828, 135.15389060776698, 134.8502886758282, 133.33784277531143, 132.52989132770642, 616.9783067485037, 342.9644092207465, 2144.9573529202753, 1233.2893242616776, 1177.1555071912414, 2175.318457761367, 682.5218677013356, 1563.1698167474735, 255.4514038560277, 337.40687017838644, 255.33093231201966, 466.15975858635136, 1569.3974314866966, 617.007475300675, 1066.1808878374065, 1383.4102757865319, 1490.7940085392563, 2102.233282155934, 9479.040149060222, 2225.1215619823283, 2008.4078635651792, 374.3693384545763, 209.8756802522861, 186.58309664001413, 180.58789508882495, 162.79090317064347, 154.66757725679673, 141.08504662182605, 141.26873676529502, 136.97229666343577, 132.87584536470314, 126.38593584320031, 134.8686856537181, 107.70001197668955, 99.55245295654714, 97.07449404202583, 89.0749485767368, 81.68662941710289, 81.09066798983554, 76.17209309179586, 73.03122697509289, 72.02813793808161, 66.2444813699203, 65.24738143831908, 65.08254153034815, 64.27011791411616, 62.46746405071814, 62.00095233124484, 59.93053966233954, 59.36235521560789, 59.375201738775395, 265.07465150497296, 121.9334320236222, 171.18242725872977, 527.2923683440878, 146.00810580611704, 142.83122677501774, 106.35440573045913, 139.867715953056, 442.711052080924, 161.97974999968125, 212.0096800780587, 177.73365124681126, 906.9057164728922, 410.21220903420664, 355.4109230551181, 221.17336337188044, 187.9394168486676, 187.34060376983143, 172.95806254555774, 115.41217786154981, 93.95023004704508, 66.86180979934312, 66.77147160064561, 62.7940553753622, 58.717380464812834, 58.15394448251056, 58.15394448251056, 53.28116201553066, 53.480469560259955, 45.47763429995354, 45.325577396301334, 45.07345127209557, 43.33451733049569, 42.307271873548, 41.468868367526326, 39.7344833628041, 39.58580002849215, 39.457783080806195, 38.800201114881816, 38.454726464171216, 38.19277267255348, 37.5325523759836, 212.0096800780587, 163.47613957677328, 72.52360418226753, 327.8726307934281, 173.37752073227847], \"Category\": [\"Default\", \"Default\", \"Default\", \"Default\", \"Default\", \"Default\", \"Default\", \"Default\", \"Default\", \"Default\", \"Default\", \"Default\", \"Default\", \"Default\", \"Default\", \"Default\", \"Default\", \"Default\", \"Default\", \"Default\", \"Default\", \"Default\", \"Default\", \"Default\", \"Default\", \"Default\", \"Default\", \"Default\", \"Default\", \"Default\", \"Topic1\", \"Topic1\", \"Topic1\", \"Topic1\", \"Topic1\", \"Topic1\", \"Topic1\", \"Topic1\", \"Topic1\", \"Topic1\", \"Topic1\", \"Topic1\", \"Topic1\", \"Topic1\", \"Topic1\", \"Topic1\", \"Topic1\", \"Topic1\", \"Topic1\", \"Topic1\", \"Topic1\", \"Topic1\", \"Topic1\", \"Topic1\", \"Topic1\", \"Topic1\", \"Topic1\", \"Topic1\", \"Topic1\", \"Topic1\", \"Topic1\", \"Topic1\", \"Topic1\", \"Topic1\", \"Topic1\", \"Topic1\", \"Topic1\", \"Topic1\", \"Topic1\", \"Topic1\", \"Topic1\", \"Topic1\", \"Topic1\", \"Topic1\", \"Topic1\", \"Topic1\", \"Topic1\", \"Topic1\", \"Topic1\", \"Topic1\", \"Topic1\", \"Topic1\", \"Topic1\", \"Topic1\", \"Topic1\", \"Topic1\", \"Topic1\", \"Topic1\", \"Topic1\", \"Topic1\", \"Topic1\", \"Topic1\", \"Topic1\", \"Topic1\", \"Topic1\", \"Topic1\", \"Topic1\", \"Topic1\", \"Topic1\", \"Topic1\", \"Topic1\", \"Topic2\", \"Topic2\", \"Topic2\", \"Topic2\", \"Topic2\", \"Topic2\", \"Topic2\", \"Topic2\", \"Topic2\", \"Topic2\", \"Topic2\", \"Topic2\", \"Topic2\", \"Topic2\", \"Topic2\", \"Topic2\", \"Topic2\", \"Topic2\", \"Topic2\", \"Topic2\", \"Topic2\", \"Topic2\", \"Topic2\", \"Topic2\", \"Topic2\", \"Topic2\", \"Topic2\", \"Topic2\", \"Topic2\", \"Topic2\", \"Topic2\", \"Topic2\", \"Topic2\", \"Topic2\", \"Topic2\", \"Topic2\", \"Topic2\", \"Topic2\", \"Topic2\", \"Topic2\", \"Topic2\", \"Topic2\", \"Topic2\", \"Topic2\", \"Topic2\", \"Topic2\", \"Topic2\", \"Topic2\", \"Topic2\", \"Topic2\", \"Topic2\", \"Topic2\", \"Topic2\", \"Topic2\", \"Topic2\", \"Topic2\", \"Topic2\", \"Topic2\", \"Topic2\", \"Topic2\", \"Topic2\", \"Topic2\", \"Topic2\", \"Topic2\", \"Topic2\", \"Topic2\", \"Topic2\", \"Topic2\", \"Topic3\", \"Topic3\", \"Topic3\", \"Topic3\", \"Topic3\", \"Topic3\", \"Topic3\", \"Topic3\", \"Topic3\", \"Topic3\", \"Topic3\", \"Topic3\", \"Topic3\", \"Topic3\", \"Topic3\", \"Topic3\", \"Topic3\", \"Topic3\", \"Topic3\", \"Topic3\", \"Topic3\", \"Topic3\", \"Topic3\", \"Topic3\", \"Topic3\", \"Topic3\", \"Topic3\", \"Topic3\", \"Topic3\", \"Topic3\", \"Topic3\", \"Topic3\", \"Topic3\", \"Topic3\", \"Topic3\", \"Topic3\", \"Topic3\", \"Topic3\", \"Topic3\", \"Topic3\", \"Topic3\", \"Topic3\", \"Topic3\", \"Topic3\", \"Topic3\", \"Topic3\", \"Topic3\", \"Topic3\", \"Topic3\", \"Topic3\", \"Topic3\", \"Topic3\", \"Topic3\", \"Topic3\", \"Topic3\", \"Topic3\", \"Topic3\", \"Topic3\", \"Topic3\", \"Topic4\", \"Topic4\", \"Topic4\", \"Topic4\", \"Topic4\", \"Topic4\", \"Topic4\", \"Topic4\", \"Topic4\", \"Topic4\", \"Topic4\", \"Topic4\", \"Topic4\", \"Topic4\", \"Topic4\", \"Topic4\", \"Topic4\", \"Topic4\", \"Topic4\", \"Topic4\", \"Topic4\", \"Topic4\", \"Topic4\", \"Topic4\", \"Topic4\", \"Topic4\", \"Topic4\", \"Topic4\", \"Topic4\", \"Topic4\", \"Topic4\", \"Topic4\", \"Topic4\", \"Topic4\", \"Topic4\", \"Topic4\", \"Topic4\", \"Topic4\", \"Topic4\", \"Topic4\", \"Topic4\", \"Topic4\", \"Topic4\", \"Topic4\", \"Topic4\", \"Topic4\", \"Topic4\", \"Topic4\", \"Topic4\", \"Topic4\", \"Topic4\", \"Topic4\", \"Topic4\", \"Topic4\", \"Topic5\", \"Topic5\", \"Topic5\", \"Topic5\", \"Topic5\", \"Topic5\", \"Topic5\", \"Topic5\", \"Topic5\", \"Topic5\", \"Topic5\", \"Topic5\", \"Topic5\", \"Topic5\", \"Topic5\", \"Topic5\", \"Topic5\", \"Topic5\", \"Topic5\", \"Topic5\", \"Topic5\", \"Topic5\", \"Topic5\", \"Topic5\", \"Topic5\", \"Topic5\", \"Topic5\", \"Topic5\", \"Topic5\", \"Topic5\", \"Topic5\", \"Topic5\", \"Topic5\", \"Topic5\", \"Topic5\", \"Topic5\", \"Topic5\", \"Topic5\", \"Topic5\", \"Topic5\", \"Topic5\", \"Topic5\", \"Topic5\", \"Topic5\", \"Topic5\", \"Topic5\", \"Topic5\", \"Topic5\", \"Topic5\", \"Topic5\", \"Topic5\", \"Topic6\", \"Topic6\", \"Topic6\", \"Topic6\", \"Topic6\", \"Topic6\", \"Topic6\", \"Topic6\", \"Topic6\", \"Topic6\", \"Topic6\", \"Topic6\", \"Topic6\", \"Topic6\", \"Topic6\", \"Topic6\", \"Topic6\", \"Topic6\", \"Topic6\", \"Topic6\", \"Topic6\", \"Topic6\", \"Topic6\", \"Topic6\", \"Topic6\", \"Topic6\", \"Topic6\", \"Topic6\", \"Topic6\", \"Topic6\", \"Topic6\", \"Topic6\", \"Topic6\", \"Topic6\", \"Topic6\", \"Topic6\", \"Topic6\", \"Topic6\", \"Topic6\", \"Topic6\", \"Topic6\", \"Topic6\", \"Topic7\", \"Topic7\", \"Topic7\", \"Topic7\", \"Topic7\", \"Topic7\", \"Topic7\", \"Topic7\", \"Topic7\", \"Topic7\", \"Topic7\", \"Topic7\", \"Topic7\", \"Topic7\", \"Topic7\", \"Topic7\", \"Topic7\", \"Topic7\", \"Topic7\", \"Topic7\", \"Topic7\", \"Topic7\", \"Topic7\", \"Topic7\", \"Topic7\", \"Topic7\", \"Topic7\", \"Topic7\", \"Topic7\", \"Topic7\", \"Topic7\", \"Topic7\", \"Topic7\", \"Topic7\", \"Topic7\"], \"logprob\": [30.0, 29.0, 28.0, 27.0, 26.0, 25.0, 24.0, 23.0, 22.0, 21.0, 20.0, 19.0, 18.0, 17.0, 16.0, 15.0, 14.0, 13.0, 12.0, 11.0, 10.0, 9.0, 8.0, 7.0, 6.0, 5.0, 4.0, 3.0, 2.0, 1.0, -4.9798, -5.8066, -6.1567, -6.2125, -6.338, -6.3958, -6.4186, -6.4369, -6.4782, -6.4867, -6.6415, -6.6975, -6.7271, -6.7692, -6.8519, -6.975, -7.0835, -7.0772, -7.0844, -7.1308, -7.1308, -7.1563, -7.1948, -7.2091, -7.1998, -7.2422, -7.2481, -7.2866, -7.3533, -7.37, -5.3813, -5.4543, -4.6803, -4.1676, -4.829, -5.7179, -5.7188, -5.7214, -4.9782, -4.4842, -5.7727, -4.647, -4.9443, -6.3913, -5.495, -4.6362, -5.0304, -4.2544, -5.9803, -5.7238, -4.2457, -4.8081, -4.6998, -5.4144, -4.7994, -4.3395, -4.8664, -4.5187, -4.8382, -4.9341, -4.6782, -4.3388, -4.958, -4.1526, -4.9055, -5.0066, -4.9452, -4.9705, -5.1302, -5.1054, -5.1234, -4.5425, -4.5928, -4.8204, -5.6568, -5.8377, -6.0197, -6.1276, -6.1972, -6.2335, -6.4111, -6.4468, -6.535, -6.6065, -6.6243, -6.6878, -6.6934, -6.7097, -6.7743, -6.7915, -6.839, -6.7681, -6.8819, -6.9602, -6.995, -7.0431, -7.0648, -7.0394, -7.091, -7.1139, -7.1227, -5.5231, -3.4828, -5.6689, -5.7656, -6.3512, -3.7223, -4.9596, -5.5104, -5.5249, -5.7956, -3.3273, -5.5674, -4.8246, -4.9569, -5.5448, -4.5497, -5.8877, -5.0237, -4.6601, -4.9091, -5.4489, -5.6995, -4.775, -5.6186, -4.9985, -5.5055, -5.5338, -5.3756, -5.2296, -5.5569, -5.3456, -5.398, -5.4063, -5.3284, -5.3781, -5.4754, -5.5238, -5.5303, -3.8941, -4.2425, -5.042, -5.0697, -5.1025, -5.3042, -5.4723, -5.4735, -5.5083, -5.5903, -5.6396, -5.6777, -5.8136, -5.9828, -6.0134, -6.0421, -6.1712, -6.2122, -6.2595, -6.2739, -6.2767, -6.2937, -6.2899, -6.3336, -6.4878, -6.5253, -6.6038, -6.6746, -6.6978, -6.6969, -4.7708, -4.1574, -5.556, -4.3613, -5.6247, -4.5187, -4.727, -5.0281, -4.4839, -5.6826, -3.9166, -4.0353, -5.2906, -5.6007, -4.4178, -4.5357, -5.2078, -4.4283, -4.8134, -5.2059, -5.2191, -4.8656, -4.8807, -5.0691, -5.3771, -5.2047, -5.0946, -5.3441, -5.3382, -2.8293, -4.6691, -4.7314, -4.7982, -4.831, -4.8388, -5.0216, -5.1487, -5.1728, -5.231, -5.2381, -5.2923, -5.4266, -5.4589, -5.5494, -5.5649, -5.4809, -5.6345, -5.7551, -5.7648, -6.051, -6.1666, -6.3086, -6.328, -6.3821, -6.4189, -6.484, -6.6624, -6.7111, -6.7616, -3.0366, -4.553, -5.4362, -4.3312, -4.5149, -2.8507, -4.0782, -5.1472, -3.7343, -5.4915, -4.1312, -4.3134, -5.0926, -4.9322, -3.7603, -4.6978, -4.4721, -4.8792, -5.2755, -5.1639, -4.7722, -5.0839, -5.0402, -5.1411, -3.7542, -4.155, -4.5926, -4.7121, -4.8182, -4.9035, -4.9471, -5.1779, -5.3929, -5.4244, -5.5065, -5.5841, -5.7771, -5.8814, -5.8828, -5.9289, -5.9605, -5.9704, -5.9999, -6.0032, -6.0617, -6.0635, -6.0836, -6.1062, -6.161, -6.1693, -6.2169, -6.2192, -6.2305, -6.2366, -4.7141, -5.3247, -3.647, -4.3344, -4.4402, -3.9463, -4.9404, -4.3609, -5.7067, -5.511, -5.7121, -5.3202, -4.5655, -5.161, -4.8794, -4.7325, -4.8273, -4.9317, -4.5269, -5.2938, -5.4126, -3.9084, -4.489, -4.6072, -4.64, -4.7443, -4.7957, -4.8882, -4.8869, -4.9181, -4.9485, -4.9989, -4.9342, -5.1602, -5.2395, -5.2649, -5.3518, -5.4393, -5.4468, -5.5104, -5.5526, -5.5665, -5.6513, -5.6667, -5.6693, -5.6821, -5.7108, -5.7185, -5.7529, -5.7626, -5.7625, -4.484, -5.1578, -5.0841, -4.4213, -5.1984, -5.2602, -5.4777, -5.3838, -5.0215, -5.3751, -5.3178, -5.5104, -2.3429, -3.1374, -3.2812, -3.757, -3.9206, -3.9238, -4.0041, -4.4112, -4.6187, -4.9628, -4.9642, -5.0265, -5.0947, -5.1045, -5.1045, -5.1933, -5.1896, -5.3547, -5.3581, -5.3637, -5.4039, -5.4284, -5.4489, -5.4925, -5.4965, -5.4998, -5.517, -5.5261, -5.5331, -5.551, -4.3643, -5.2521, -5.4379, -5.3003, -5.4304], \"loglift\": [30.0, 29.0, 28.0, 27.0, 26.0, 25.0, 24.0, 23.0, 22.0, 21.0, 20.0, 19.0, 18.0, 17.0, 16.0, 15.0, 14.0, 13.0, 12.0, 11.0, 10.0, 9.0, 8.0, 7.0, 6.0, 5.0, 4.0, 3.0, 2.0, 1.0, 1.3053, 1.3042, 1.3033, 1.3032, 1.3028, 1.3025, 1.3025, 1.3024, 1.3022, 1.3022, 1.3015, 1.3012, 1.3011, 1.3009, 1.3004, 1.2991, 1.2989, 1.2989, 1.2989, 1.2985, 1.2985, 1.2983, 1.298, 1.2979, 1.2979, 1.2976, 1.2976, 1.2972, 1.2966, 1.2964, 1.2879, 1.2573, 1.2242, 1.1853, 1.2083, 1.2286, 1.2151, 1.2084, 1.1573, 1.0931, 1.1901, 1.0762, 1.0687, 1.2276, 1.125, 1.0182, 1.0315, 0.8697, 1.1616, 1.1092, 0.7718, 0.8807, 0.8347, 1.0168, 0.8397, 0.6498, 0.8058, 0.6438, 0.6808, 0.655, 0.4813, 0.1312, 0.5722, -0.1286, 0.52, 0.5691, 0.488, 0.3957, 0.6231, 0.4646, 0.3467, 1.3884, 1.3884, 1.3882, 1.3872, 1.3868, 1.3863, 1.386, 1.3858, 1.3857, 1.3851, 1.3849, 1.3845, 1.3842, 1.3841, 1.3838, 1.3838, 1.3837, 1.3833, 1.3832, 1.383, 1.3829, 1.3827, 1.3822, 1.3819, 1.3815, 1.3814, 1.3813, 1.3812, 1.381, 1.381, 1.3267, 1.2326, 1.3104, 1.285, 1.3205, 1.0174, 1.103, 1.1536, 1.1487, 1.195, 0.6968, 1.1305, 0.9299, 0.9478, 1.0612, 0.7623, 1.1474, 0.8502, 0.7061, 0.729, 0.9116, 1.0242, 0.3491, 0.9381, 0.4269, 0.8359, 0.8417, 0.6098, 0.3462, 0.7539, 0.1735, 0.1365, 0.1638, -0.1658, -0.1847, 0.0205, 0.4248, 0.372, 1.8129, 1.8126, 1.8117, 1.8117, 1.8116, 1.8113, 1.8109, 1.8109, 1.8108, 1.8106, 1.8104, 1.8103, 1.8098, 1.8092, 1.8091, 1.8089, 1.8083, 1.8081, 1.8078, 1.8078, 1.8078, 1.8077, 1.8077, 1.8074, 1.8064, 1.8062, 1.8056, 1.805, 1.8048, 1.8048, 1.7705, 1.741, 1.7773, 1.7318, 1.7098, 1.5505, 1.5418, 1.5918, 1.4816, 1.6946, 1.3402, 1.1241, 1.5087, 1.6109, 1.0555, 0.9345, 1.3108, 0.5609, 0.8257, 1.182, 1.1929, 0.7234, 0.1369, 0.461, 1.2297, 0.4674, -0.3549, 0.8456, 0.6224, 1.9886, 1.9875, 1.9875, 1.9874, 1.9873, 1.9873, 1.987, 1.9867, 1.9867, 1.9866, 1.9865, 1.9864, 1.9861, 1.986, 1.9857, 1.9856, 1.9854, 1.9854, 1.985, 1.9849, 1.9836, 1.983, 1.9821, 1.982, 1.9816, 1.9813, 1.9808, 1.9793, 1.9788, 1.9781, 1.8814, 1.9181, 1.9294, 1.854, 1.8251, 1.6193, 1.704, 1.8197, 1.4592, 1.8393, 1.302, 1.3539, 1.6759, 1.5549, 0.2637, 1.0555, 0.6905, 1.1937, 1.6865, 1.3222, -0.0325, 0.3863, -0.0226, 0.5133, 2.0631, 2.0628, 2.0624, 2.0622, 2.0621, 2.0619, 2.0619, 2.0614, 2.0609, 2.0608, 2.0606, 2.0604, 2.0597, 2.0593, 2.0593, 2.0591, 2.0589, 2.0589, 2.0587, 2.0587, 2.0584, 2.0584, 2.0583, 2.0582, 2.0578, 2.0578, 2.0576, 2.0575, 2.0575, 2.0574, 2.042, 2.0185, 1.863, 1.7291, 1.6698, 1.5496, 1.7147, 1.4656, 1.9311, 1.8486, 1.9262, 1.7162, 1.2569, 1.595, 1.3297, 1.2161, 1.0465, 0.5985, -0.5029, 0.1795, 0.1632, 3.3472, 3.3454, 3.3448, 3.3447, 3.3442, 3.3439, 3.3433, 3.3433, 3.343, 3.3429, 3.3426, 3.3424, 3.3414, 3.3407, 3.3405, 3.3396, 3.3387, 3.3385, 3.3375, 3.3374, 3.3373, 3.3362, 3.336, 3.336, 3.3357, 3.3354, 3.3352, 3.3348, 3.3346, 3.3345, 3.1169, 3.2197, 2.9541, 2.4918, 2.9989, 2.9591, 3.0364, 2.8564, 2.0665, 2.7184, 2.5064, 2.4902, 4.028, 4.0268, 4.0264, 4.0249, 4.0242, 4.0242, 4.0238, 4.0211, 4.0194, 4.0155, 4.0154, 4.0145, 4.0135, 4.0133, 4.0133, 4.012, 4.0119, 4.009, 4.009, 4.0089, 4.0081, 4.0075, 4.0071, 4.0061, 4.0059, 4.0059, 4.0055, 4.0053, 4.0051, 4.0047, 3.46, 2.8321, 3.4591, 2.0879, 2.595]}, \"token.table\": {\"Topic\": [7, 4, 1, 2, 3, 2, 3, 1, 2, 5, 1, 1, 2, 3, 4, 7, 3, 1, 2, 3, 4, 2, 3, 2, 1, 3, 4, 7, 7, 3, 1, 2, 3, 5, 6, 5, 3, 4, 5, 4, 4, 1, 1, 2, 5, 1, 5, 1, 2, 1, 3, 1, 3, 7, 2, 7, 5, 2, 5, 3, 1, 3, 5, 1, 2, 3, 5, 2, 2, 2, 3, 2, 4, 5, 1, 3, 6, 1, 5, 5, 3, 6, 1, 2, 4, 2, 1, 2, 4, 5, 3, 4, 3, 1, 2, 4, 1, 2, 3, 4, 5, 5, 1, 3, 5, 4, 6, 1, 7, 1, 4, 5, 1, 2, 3, 4, 1, 2, 3, 6, 1, 2, 5, 3, 6, 6, 1, 2, 4, 5, 5, 6, 1, 2, 3, 5, 1, 3, 4, 5, 3, 3, 3, 5, 5, 3, 4, 6, 3, 3, 1, 4, 5, 2, 2, 3, 1, 2, 5, 7, 6, 5, 6, 2, 6, 6, 4, 4, 6, 7, 6, 4, 7, 6, 2, 1, 3, 6, 1, 3, 2, 1, 2, 5, 2, 3, 7, 4, 2, 4, 2, 4, 5, 5, 4, 4, 3, 2, 7, 1, 3, 4, 5, 1, 2, 4, 5, 5, 1, 2, 3, 5, 7, 4, 4, 5, 3, 5, 1, 2, 1, 2, 2, 7, 1, 2, 1, 2, 3, 4, 5, 6, 2, 4, 3, 5, 6, 1, 2, 4, 2, 7, 4, 1, 2, 4, 5, 2, 2, 5, 5, 1, 3, 1, 6, 1, 3, 2, 5, 1, 2, 2, 6, 1, 2, 3, 4, 5, 2, 4, 5, 1, 2, 4, 5, 3, 7, 6, 6, 1, 2, 3, 5, 2, 3, 6, 2, 3, 7, 1, 4, 4, 2, 5, 1, 6, 2, 2, 2, 3, 1, 1, 3, 1, 2, 2, 3, 5, 1, 3, 7, 1, 4, 3, 1, 2, 3, 5, 3, 1, 2, 5, 1, 2, 3, 4, 1, 2, 3, 4, 1, 7, 3, 5, 1, 2, 3, 6, 4, 6, 2, 4, 4, 1, 2, 3, 4, 5, 1, 6, 3, 6, 1, 2, 3, 7, 1, 6, 7, 1, 1, 2, 3, 5, 1, 2, 3, 3, 2, 4, 4, 1, 4, 6, 1, 3, 6, 7, 3, 6, 7, 6, 6, 2, 4, 1, 2, 4, 5, 1, 4, 2, 4, 1, 3, 4, 5, 2, 4, 1, 1, 1, 2, 4, 3, 1, 3, 3, 4, 3, 1, 2, 4, 1, 2, 7, 3, 1, 1, 2, 1, 2, 3, 4, 7, 7, 5, 5, 5, 3, 5, 7, 1, 3, 4, 1, 3, 4, 2, 5, 4, 4, 3, 3, 7, 7, 5, 1, 5, 6, 7, 4, 4, 3, 6, 1, 4, 1, 3, 1, 3, 5, 6, 1, 4, 1, 2, 3, 4, 2, 1, 3, 4, 6, 1, 2, 3, 5, 1, 3, 4, 7, 1, 3, 1, 2, 4, 1, 3, 4, 5, 5, 5, 4, 7, 1, 5, 6, 3, 6, 1, 3, 1, 2, 4, 5, 5, 4, 1, 3, 4, 1, 2, 3, 1, 2, 3, 4, 1, 2, 3, 4, 5, 5, 6, 1, 2, 3, 4, 1, 2, 3, 5, 1, 2, 3, 5, 7, 3, 6, 1, 1, 2, 1, 1, 2, 6, 7, 2, 4, 5, 6, 5, 2, 7, 1, 5, 1, 3, 4, 5, 5, 2, 5, 4, 1, 2, 3, 4, 5, 5, 1, 2, 3, 4, 5, 6, 2, 1, 3, 5, 1, 2, 3, 4, 5, 1, 2, 3, 5, 6, 6, 2, 7], \"Freq\": [0.9877824852005662, 0.9958856964064037, 0.9911755223954809, 0.04053148441643008, 0.9583734863626854, 0.26063762912810073, 0.7379091318172203, 0.990984522505649, 0.28379391041070706, 0.7159714939790124, 0.9890015539386021, 0.44125682654524345, 0.052674493971154306, 0.0030223070311318043, 0.5029982416097931, 0.989885814578961, 0.99015804764648, 0.28075727284454877, 0.18744436000408649, 0.08021636366987107, 0.4518309463853962, 0.6373640628158369, 0.36250081072650725, 0.9979583563523031, 0.7593720564813028, 0.05019303571624816, 0.18943823157422693, 0.9944607234178205, 0.9871105822302826, 0.9961245940278013, 0.16775360489452912, 0.20567051558986787, 0.5377307334975316, 0.08732379432865899, 0.9838558555375541, 0.9991287858962711, 0.1296384015440457, 0.7318826213752453, 0.13784336366708658, 0.9971733508131468, 0.9969919554721175, 0.9896767495463735, 0.8209779115002735, 0.06651846617699445, 0.11203110092967486, 0.9067615850254027, 0.09320371692769819, 0.07497145858517673, 0.9239725706713672, 0.09538604423934768, 0.9018316909901963, 0.9940497030180903, 0.9945354458759806, 0.9970449220976123, 0.9966060090399258, 0.9910159808952579, 0.9944919393300997, 0.19264575130208406, 0.8061483746794903, 0.992670468064943, 0.886076800772605, 0.06175445329125619, 0.05179405759911809, 0.7483602977076236, 0.108916287459795, 0.035134286277353224, 0.10774514458388322, 0.9968647413225333, 0.9956955555691662, 0.9898926440372814, 0.9973532432045198, 0.254675354784662, 0.1471048980705629, 0.5980733512181323, 0.3868821402453498, 0.1877516268837727, 0.42481176183803115, 0.9977404125017999, 0.9941618444613501, 0.9976003403744521, 0.7205602807984324, 0.27783358789406637, 0.35780586022787253, 0.5782497183868405, 0.0631422106284481, 0.9951399130525083, 0.11770953995443272, 0.29363412412545986, 0.03902327139793693, 0.5501641541348485, 0.06704014136315502, 0.9312485091172805, 0.9945956539547721, 0.9908405897072853, 0.9353788943524302, 0.06478814852657525, 0.4553865540334038, 0.3821305796780773, 0.03684218593308817, 0.0651164216491791, 0.060404049029830605, 0.9957036497848892, 0.06446679891471835, 0.2285641052430923, 0.7062044790203237, 0.9958970943921495, 0.9944506344129131, 0.9936615406361465, 0.9815152154843001, 0.749778340196414, 0.22891939266054306, 0.021545354603345227, 0.06344280056859045, 0.6896707163850853, 0.11436967449439775, 0.13249618894256646, 0.06561856027594298, 0.7509679676024585, 0.1830838842267051, 0.9770501825498714, 0.2355502710688903, 0.5749567980181549, 0.18844021685511222, 0.3212946613782471, 0.6717979283363349, 0.9857258848067759, 0.5154658999751422, 0.21112692772144806, 0.2730487099548837, 0.9991453381545191, 0.995901830489701, 0.9858796433004666, 0.15081701901382347, 0.18788221860196652, 0.6045461863859195, 0.056236854547527394, 0.47996576239399347, 0.25877242293590924, 0.02996812986206302, 0.2311827160787719, 0.9975945953951391, 0.9967106478870936, 0.04082056220296901, 0.9563674573267024, 0.9965477836820473, 0.9961752675604229, 0.9934016437611879, 0.991018984140823, 0.9971541286722546, 0.9978810738737447, 0.24465756498662103, 0.08070301622822569, 0.6745073145811705, 0.9918171681964523, 0.9938792690739767, 0.999732041423888, 0.8078634963371468, 0.1914935695021385, 0.9975853808705522, 0.9707543185890114, 0.984473030485252, 0.20371619728032322, 0.7922296560901458, 0.26327071086234277, 0.7333969802593835, 0.9923092726847623, 0.9864410501086068, 0.9986904252060667, 0.42922568425411145, 0.566011891324103, 0.9968748688894411, 0.9978595176690568, 0.9884460895925775, 0.9808822758734267, 0.992347627114689, 0.6269902335014149, 0.37237491025210934, 0.9879320887195264, 0.9255384863894776, 0.07255280507714125, 0.9992171707593428, 0.402167628948695, 0.5051322327458007, 0.09246625203740076, 0.530633957686257, 0.23071041638532913, 0.23647817679496236, 0.992663588412861, 0.9964113092115504, 0.9954451288289149, 0.7211632765487332, 0.27897999092794323, 0.9995991760070096, 0.9980428453953457, 0.9949937917199965, 0.9982363652090237, 0.9936475552143103, 0.9957598418804386, 0.9801570728730602, 0.43833868763800476, 0.5020373433696699, 0.04728147641938029, 0.012477056277336467, 0.3427344112867618, 0.4589791240864294, 0.11999454224481813, 0.0787464183481619, 0.9973129951450442, 0.15101337318711483, 0.18032398570444513, 0.22174115556589014, 0.44666824727496834, 0.9950014910952711, 0.9935051363100962, 0.9993807893677956, 0.9936945728171761, 0.9971161628284608, 0.9991327917551656, 0.9980168976325678, 0.9961984950079108, 0.9213558788279275, 0.07816307380447132, 0.9967924811079556, 0.9990013113199742, 0.469342300642295, 0.5295676401052444, 0.10021565192050845, 0.20722558532715307, 0.10021565192050845, 0.5887244907736988, 0.003057426668761275, 0.9889312424171827, 0.6935956675128966, 0.3044288676414071, 0.9918272755917322, 0.4630208405689451, 0.5309305638523905, 0.9965129670152434, 0.13535229168321586, 0.8610709619847138, 0.9928046066879629, 0.9886934853545826, 0.9981610660298657, 0.9854462352783853, 0.38094266699036655, 0.19010990781492676, 0.42865085678422654, 0.9971618000309648, 0.991068184594872, 0.9938051634763483, 0.9976781682053603, 0.23078187541156436, 0.7690010901523152, 0.9880084326039172, 0.9925166795575597, 0.8617779631823799, 0.13767534699981399, 0.12135380558515774, 0.8768791113250108, 0.9983103936924835, 0.9993556829241107, 0.9951355935191754, 0.9802378157168872, 0.2381042768580071, 0.5004726138300335, 0.006435250725892084, 0.17818259796773328, 0.07680102505654815, 0.5835816316785867, 0.05433346225973048, 0.3615522982468485, 0.09962461024484767, 0.6434089411646412, 0.07264294497020142, 0.18402879392451027, 0.9976202591890323, 0.987354609116809, 0.9958276239951506, 0.9935003537711671, 0.7886755752594028, 0.16575293126175134, 0.0454856881136899, 0.9982221037530553, 0.07767566923830581, 0.9212501416113045, 0.9969463703328579, 0.43135718140460005, 0.5583911733392881, 0.009771845533437542, 0.05665345483089629, 0.9422364066612224, 0.9900905046893222, 0.37276695859789755, 0.6256002000816889, 0.9895943060341988, 0.9934085434241324, 0.9940168731972043, 0.9966657197059691, 0.9991708555661533, 0.9983791639759446, 0.9989098121109545, 0.8653830735859096, 0.13350262292234416, 0.21194386144043836, 0.7865803871768381, 0.7908897114922144, 0.20844009218766774, 0.9986192489847958, 0.8908859119123552, 0.10762380143907646, 0.9692042876509309, 0.9519628295186846, 0.046512841833160484, 0.9979721270249744, 0.5187525314332841, 0.14208224699694327, 0.28582627466051747, 0.05345394477662778, 0.9960138623977447, 0.6462500671201329, 0.3533932441583855, 0.9954520229713341, 0.6533430818598441, 0.25420174516048544, 0.07191233580197944, 0.020068558828459378, 0.12222304305575171, 0.6198454326398837, 0.13422709192729876, 0.12222304305575171, 0.9939620077922118, 0.9894973802550229, 0.8868104564047221, 0.10858903547812923, 0.8345535522686851, 0.09901482823526772, 0.024046458285707874, 0.041020428840325196, 0.28765526248091633, 0.7054402865603424, 0.9398631942321113, 0.058741449639506955, 0.9969399840621999, 0.5348954857485352, 0.29638008445169495, 0.04469223495700162, 0.04751490242797014, 0.07621202171615013, 0.3150571553297814, 0.6791232014886399, 0.9956014059351052, 0.9967445487498717, 0.10654476189889887, 0.3611306666467941, 0.5316022856850323, 0.9687696758028085, 0.40984574368747434, 0.2875037306464372, 0.29973793195054094, 0.9922137996053384, 0.2553839876878397, 0.6316140115076875, 0.05655356370709737, 0.05595826303649634, 0.0338531133569828, 0.2031186801418968, 0.7616950505321131, 0.9995261923820977, 0.9986139866305516, 0.9961581707908017, 0.9966719872375149, 0.7945483213058452, 0.20483998116454252, 0.9846125655181438, 0.9898089326905942, 0.997473885923275, 0.42744704085707436, 0.5653331830690338, 0.9907193904322773, 0.9963422793644666, 0.9964286449732864, 0.9951416009418265, 0.9768387862524548, 0.10162080189671661, 0.898080284782658, 0.4311879421310031, 0.2935642361465957, 0.1945543757261587, 0.08069303624265615, 0.1540929769873271, 0.8445095621902862, 0.9887129086214506, 0.9992956698497113, 0.11519040736723236, 0.10156573552809736, 0.6477912156243283, 0.13500811186051967, 0.8238518112535678, 0.17419752227998322, 0.9932809523346585, 0.9952648007791288, 0.0979225478036448, 0.9008874397935321, 0.9972552876588139, 0.9956747173102046, 0.19802427923924706, 0.8005838717815275, 0.9301364273095636, 0.06943368747839315, 0.9947671202168257, 0.14321878709505734, 0.1046598828771573, 0.7522046552983995, 0.906393654767121, 0.09256786261451448, 0.9928440298426789, 0.9990149406270596, 0.9933202755101744, 0.22633860294465524, 0.772304016804398, 0.6239701415827277, 0.2857076145991357, 0.054466000107527536, 0.03583289480758391, 0.9691005395607806, 0.9881750175860725, 0.9930068846376576, 0.9983226583582242, 0.9957448324448867, 0.01944963034963158, 0.9789647275981229, 0.9858109203272738, 0.38303858695136417, 0.41529446795779484, 0.20159925629019168, 0.5212130168450082, 0.3360385955651263, 0.142286612536585, 0.29174547458241695, 0.7057666260118763, 0.9973273759517932, 0.99767258627647, 0.9934764892943645, 0.9985650459280312, 0.9988438085932031, 0.9761844003110512, 0.9914623944410471, 0.9120320954918342, 0.08520045053426901, 0.9812138106573602, 0.9946948251182148, 0.9972653058007211, 0.9997013583768624, 0.38607908645712136, 0.6077170805343577, 0.9961405582688083, 0.9896865869632397, 0.6191210895724255, 0.3799361218327069, 0.2639478943378916, 0.71758536176541, 0.01838077258620415, 0.986550018431563, 0.30880088675026046, 0.6910944071668049, 0.3982139027832791, 0.36163619594183405, 0.19876187868558817, 0.041408724726164206, 0.9968685131565479, 0.07483809277741077, 0.04597197127755233, 0.8488777952180593, 0.029935237110964304, 0.17408952571905323, 0.12631443757993674, 0.6228858082380262, 0.07636775452540588, 0.38111273354780006, 0.10517721542715262, 0.5135122870855099, 0.9852017635598999, 0.9976976373166839, 0.9924023095557034, 0.9257121062023355, 0.07298145235620072, 0.9973523706719769, 0.35503678248311094, 0.46873843560744904, 0.024268337030491128, 0.15190181326492597, 0.9961995223982774, 0.9960017221594474, 0.9976854179110155, 0.9759546907937702, 0.9970317695219773, 0.11481674687289845, 0.8775279939571524, 0.9955487747802203, 0.9929015086472204, 0.18147922134852487, 0.8179345187539149, 0.47848846712544874, 0.35251803821521094, 0.01941836651185484, 0.14937205009119106, 0.9974662648781507, 0.992655660749899, 0.504809162453349, 0.10167534367434942, 0.39302574367687115, 0.993420873420506, 0.7862641956068557, 0.2120985159811409, 0.989941573307168, 0.06410182252916644, 0.06227034188547597, 0.873616267040354, 0.09758568940886389, 0.08165333195435551, 0.06771251918166066, 0.7388630769528266, 0.013940812772694842, 0.8733763589892407, 0.12532754927199866, 0.5860619275569315, 0.09316589708853507, 0.18690161617761164, 0.13390817012725223, 0.3986931036231171, 0.19971232530112104, 0.30359199633686895, 0.09729574822362307, 0.3324461689169598, 0.2805967664253239, 0.19824771540919625, 0.04269950793428842, 0.14334834806511113, 0.9642819636987042, 0.03175778922361002, 0.9955337099579522, 0.9971947176421186, 0.9961811118019465, 0.9948477618680068, 0.9951740930434868, 0.5738924468409017, 0.42197974032419244, 0.9793763668257147, 0.11235654623710255, 0.06899904084270198, 0.8181980856685268, 0.9915943475449712, 0.9969709025042084, 0.9918331816993383, 0.9883981550643964, 0.9821501399412923, 0.017830259726619526, 0.606367203295676, 0.2604199109994991, 0.08717213862930603, 0.046053205313595635, 0.9949935964819212, 0.996151098689498, 0.9986644822482722, 0.9971476170254052, 0.10967462629890186, 0.24772278775970868, 0.05129062125421281, 0.5298212046578792, 0.061657874486447314, 0.9979634716039096, 0.17784635892858316, 0.5343040073617864, 0.1491614623271988, 0.03901145937788276, 0.0994409748847992, 0.9833666371212108, 0.9933714432589023, 0.37704671372922355, 0.14162699943560386, 0.4802187000730409, 0.20241946200219924, 0.5166465325972363, 0.08372323297473162, 0.15048986180268215, 0.046630661403647994, 0.11541517611299046, 0.8550832390852943, 0.017480765725142716, 0.011794251573590266, 0.9956837931476205, 0.9935590263261815, 0.994010289512861, 0.9801570728730602], \"Term\": [\"160\\u20ac\", \"1996\", \"2010\", \"2020\", \"2020\", \"2021\", \"2021\", \"300\", \"accident\", \"accident\", \"across\", \"advisor\", \"advisor\", \"advisor\", \"advisor\", \"affordable\", \"agirc\", \"always\", \"always\", \"always\", \"always\", \"amount\", \"amount\", \"annual\", \"answer\", \"answer\", \"answer\", \"apicil\", \"app\", \"april\", \"asked\", \"asked\", \"asked\", \"asked\", \"assert\", \"assistance\", \"assurance\", \"assurance\", \"assurance\", \"attentive\", \"attractive\", \"availability\", \"away\", \"away\", \"away\", \"back\", \"back\", \"basic\", \"basic\", \"beginning\", \"beginning\", \"behavior\", \"beneficiary\", \"best\", \"bonus\", \"branch\", \"breakdown\", \"broken\", \"broken\", \"calculation\", \"call\", \"call\", \"call\", \"called\", \"called\", \"called\", \"called\", \"canceled\", \"canceling\", \"cancellation\", \"capital\", \"car\", \"car\", \"car\", \"card\", \"card\", \"card\", \"catastrophic\", \"caused\", \"ceiling\", \"certificate\", \"certificate\", \"change\", \"change\", \"change\", \"cheaper\", \"claim\", \"claim\", \"claim\", \"claim\", \"clear\", \"clear\", \"cnp\", \"collective\", \"commercial\", \"commercial\", \"company\", \"company\", \"company\", \"company\", \"company\", \"compensated\", \"compensation\", \"compensation\", \"compensation\", \"competitive\", \"complain\", \"connect\", \"constant\", \"contact\", \"contact\", \"contact\", \"contract\", \"contract\", \"contract\", \"contract\", \"contribution\", \"contribution\", \"contribution\", \"correction\", \"cost\", \"cost\", \"cost\", \"credit\", \"credit\", \"cr\\u00e9dit\", \"customer\", \"customer\", \"customer\", \"damage\", \"damaged\", \"data\", \"date\", \"date\", \"date\", \"date\", \"day\", \"day\", \"day\", \"day\", \"death\", \"december\", \"declaration\", \"declaration\", \"declared\", \"deducted\", \"delighted\", \"deregistered\", \"died\", \"disability\", \"disaster\", \"disaster\", \"disaster\", \"discovered\", \"dissatisfied\", \"document\", \"dont\", \"dont\", \"door\", \"download\", \"downside\", \"driver\", \"driver\", \"driving\", \"driving\", \"ease\", \"easily\", \"easy\", \"effective\", \"effective\", \"efficiency\", \"efficient\", \"elderly\", \"electronic\", \"else\", \"email\", \"email\", \"empathy\", \"employer\", \"employer\", \"euro\", \"even\", \"even\", \"even\", \"example\", \"example\", \"example\", \"excellent\", \"excess\", \"expectation\", \"expensive\", \"expensive\", \"expert\", \"expertise\", \"fair\", \"fast\", \"father\", \"fee\", \"fictive\", \"file\", \"file\", \"file\", \"file\", \"find\", \"find\", \"find\", \"find\", \"fire\", \"following\", \"following\", \"following\", \"following\", \"friend\", \"friendliness\", \"friendly\", \"front\", \"funeral\", \"garage\", \"generali\", \"gesture\", \"get\", \"get\", \"glass\", \"gmf\", \"going\", \"going\", \"good\", \"good\", \"good\", \"good\", \"good\", \"green\", \"guarantee\", \"guarantee\", \"g\\u00e9n\\u00e9rale\", \"handling\", \"handling\", \"hang\", \"happy\", \"happy\", \"harmonie\", \"helping\", \"highly\", \"history\", \"home\", \"home\", \"home\", \"hospital\", \"hospitalization\", \"hotel\", \"house\", \"humanis\", \"humanis\", \"hung\", \"impeccable\", \"impossible\", \"impossible\", \"incident\", \"incident\", \"incompetent\", \"increase\", \"increased\", \"incurred\", \"insurance\", \"insurance\", \"insurance\", \"insurance\", \"insurance\", \"insured\", \"insured\", \"insured\", \"insurer\", \"insurer\", \"insurer\", \"insurer\", \"january\", \"joined\", \"key\", \"kindness\", \"know\", \"know\", \"know\", \"leak\", \"letter\", \"letter\", \"license\", \"life\", \"life\", \"life\", \"listening\", \"listening\", \"lolivier\", \"loss\", \"loss\", \"lousy\", \"loved\", \"loyal\", \"loyalty\", \"macif\", \"mail\", \"malakoff\", \"manager\", \"manager\", \"matmut\", \"matmut\", \"member\", \"member\", \"membership\", \"message\", \"message\", \"mind\", \"minute\", \"minute\", \"missing\", \"month\", \"month\", \"month\", \"month\", \"mother\", \"mutual\", \"mutual\", \"neighbor\", \"never\", \"never\", \"never\", \"never\", \"new\", \"new\", \"new\", \"new\", \"nonexistent\", \"notify\", \"november\", \"november\", \"number\", \"number\", \"number\", \"number\", \"obtaining\", \"obtaining\", \"old\", \"old\", \"olivier\", \"one\", \"one\", \"one\", \"one\", \"one\", \"operator\", \"operator\", \"organization\", \"overall\", \"paid\", \"paid\", \"paid\", \"pandemic\", \"particularly\", \"particularly\", \"particularly\", \"pas\", \"pay\", \"pay\", \"pay\", \"pay\", \"payment\", \"payment\", \"payment\", \"pension\", \"per\", \"perfect\", \"perfectly\", \"phone\", \"phone\", \"photocopy\", \"play\", \"pleasant\", \"positive\", \"positive\", \"postal\", \"practical\", \"prado\", \"precise\", \"precisely\", \"price\", \"price\", \"problem\", \"problem\", \"problem\", \"problem\", \"quality\", \"quality\", \"quarterly\", \"quick\", \"quickly\", \"quickly\", \"quickly\", \"quickly\", \"rate\", \"rate\", \"reach\", \"reached\", \"reason\", \"reason\", \"reasonable\", \"receipt\", \"receive\", \"receive\", \"received\", \"received\", \"receiving\", \"recommend\", \"recommend\", \"recommend\", \"refund\", \"refund\", \"regard\", \"registered\", \"regularly\", \"reimburse\", \"reimburse\", \"reimbursement\", \"reimbursement\", \"reimbursement\", \"reimbursement\", \"remotely\", \"remuneration\", \"rental\", \"repair\", \"repaired\", \"report\", \"report\", \"represent\", \"request\", \"request\", \"request\", \"response\", \"response\", \"response\", \"responsible\", \"responsible\", \"responsive\", \"responsiveness\", \"retired\", \"retirement\", \"revaluation\", \"robot\", \"roof\", \"run\", \"run\", \"salesperson\", \"satisfaction\", \"satisfactory\", \"satisfied\", \"school\", \"school\", \"security\", \"seemed\", \"send\", \"send\", \"sent\", \"sent\", \"sent\", \"serve\", \"service\", \"service\", \"several\", \"several\", \"several\", \"several\", \"significant\", \"simple\", \"simple\", \"simple\", \"simple\", \"since\", \"since\", \"since\", \"since\", \"site\", \"site\", \"site\", \"size\", \"social\", \"soci\\u00e9t\\u00e9\", \"someone\", \"someone\", \"speed\", \"still\", \"still\", \"still\", \"still\", \"stolen\", \"storm\", \"suit\", \"suitable\", \"supplementary\", \"supported\", \"supported\", \"supporting\", \"swiss\", \"swisslife\", \"swisslife\", \"take\", \"take\", \"take\", \"take\", \"taxi\", \"team\", \"telephone\", \"telephone\", \"telephone\", \"teletransmission\", \"termination\", \"termination\", \"terrible\", \"thank\", \"thank\", \"thank\", \"thanks\", \"thanks\", \"thanks\", \"thanks\", \"thanks\", \"theft\", \"theft\", \"time\", \"time\", \"time\", \"time\", \"told\", \"told\", \"told\", \"told\", \"total\", \"total\", \"total\", \"total\", \"total\", \"transfer\", \"transfer\", \"try\", \"trying\", \"unjustified\", \"unpleasant\", \"unreachable\", \"used\", \"used\", \"vague\", \"vehicle\", \"vehicle\", \"vehicle\", \"verify\", \"victim\", \"view\", \"virtual\", \"wait\", \"wait\", \"waiting\", \"waiting\", \"waiting\", \"waiting\", \"wall\", \"warning\", \"water\", \"welcome\", \"well\", \"well\", \"well\", \"well\", \"well\", \"window\", \"without\", \"without\", \"without\", \"without\", \"without\", \"woman\", \"wording\", \"work\", \"work\", \"work\", \"would\", \"would\", \"would\", \"would\", \"would\", \"year\", \"year\", \"year\", \"year\", \"young\", \"\\u20ac690\", \"\\u20ac850\", \"\\u20ac850month\"]}, \"R\": 30, \"lambda.step\": 0.01, \"plot.opts\": {\"xlab\": \"PC1\", \"ylab\": \"PC2\"}, \"topic.order\": [5, 2, 7, 1, 4, 3, 6]};\n",
              "\n",
              "function LDAvis_load_lib(url, callback){\n",
              "  var s = document.createElement('script');\n",
              "  s.src = url;\n",
              "  s.async = true;\n",
              "  s.onreadystatechange = s.onload = callback;\n",
              "  s.onerror = function(){console.warn(\"failed to load library \" + url);};\n",
              "  document.getElementsByTagName(\"head\")[0].appendChild(s);\n",
              "}\n",
              "\n",
              "if(typeof(LDAvis) !== \"undefined\"){\n",
              "   // already loaded: just create the visualization\n",
              "   !function(LDAvis){\n",
              "       new LDAvis(\"#\" + \"ldavis_el2322425790036544324634744034\", ldavis_el2322425790036544324634744034_data);\n",
              "   }(LDAvis);\n",
              "}else if(typeof define === \"function\" && define.amd){\n",
              "   // require.js is available: use it to load d3/LDAvis\n",
              "   require.config({paths: {d3: \"https://d3js.org/d3.v5\"}});\n",
              "   require([\"d3\"], function(d3){\n",
              "      window.d3 = d3;\n",
              "      LDAvis_load_lib(\"https://cdn.jsdelivr.net/gh/bmabey/pyLDAvis@3.4.0/pyLDAvis/js/ldavis.v3.0.0.js\", function(){\n",
              "        new LDAvis(\"#\" + \"ldavis_el2322425790036544324634744034\", ldavis_el2322425790036544324634744034_data);\n",
              "      });\n",
              "    });\n",
              "}else{\n",
              "    // require.js not available: dynamically load d3 & LDAvis\n",
              "    LDAvis_load_lib(\"https://d3js.org/d3.v5.js\", function(){\n",
              "         LDAvis_load_lib(\"https://cdn.jsdelivr.net/gh/bmabey/pyLDAvis@3.4.0/pyLDAvis/js/ldavis.v3.0.0.js\", function(){\n",
              "                 new LDAvis(\"#\" + \"ldavis_el2322425790036544324634744034\", ldavis_el2322425790036544324634744034_data);\n",
              "            })\n",
              "         });\n",
              "}\n",
              "</script>"
            ],
            "text/plain": [
              "PreparedData(topic_coordinates=              x         y  topics  cluster       Freq\n",
              "topic                                                \n",
              "4     -0.193490 -0.000861       1        1  27.083076\n",
              "1     -0.159562  0.004558       2        1  24.932246\n",
              "6     -0.112973 -0.186722       3        1  16.310064\n",
              "0     -0.142012  0.279139       4        1  13.685317\n",
              "3     -0.040169 -0.134864       5        1  12.700071\n",
              "2      0.315743 -0.048262       6        1   3.509987\n",
              "5      0.332464  0.087012       7        1   1.779239, topic_info=              Term         Freq        Total Category  logprob  loglift\n",
              "351      satisfied  4285.000000  4285.000000  Default  30.0000  30.0000\n",
              "132        service  6068.000000  6068.000000  Default  29.0000  29.0000\n",
              "572          price  3877.000000  3877.000000  Default  28.0000  28.0000\n",
              "52            year  4748.000000  4748.000000  Default  27.0000  27.0000\n",
              "5612           gmf   906.000000   906.000000  Default  26.0000  26.0000\n",
              "...            ...          ...          ...      ...      ...      ...\n",
              "3728     effective   120.016395   212.009680   Topic7  -4.3643   3.4600\n",
              "1861  particularly    49.393832   163.476140   Topic7  -5.2521   2.8321\n",
              "1704      positive    41.019819    72.523604   Topic7  -5.4379   3.4591\n",
              "675          total    47.067170   327.872631   Topic7  -5.3003   2.0879\n",
              "1007       example    41.325159   173.377521   Topic7  -5.4304   2.5950\n",
              "\n",
              "[410 rows x 6 columns], token_table=       Topic      Freq       Term\n",
              "term                             \n",
              "12787      7  0.987782       160€\n",
              "3808       4  0.995886       1996\n",
              "2610       1  0.991176       2010\n",
              "1402       2  0.040531       2020\n",
              "1402       3  0.958373       2020\n",
              "...      ...       ...        ...\n",
              "52         5  0.011794       year\n",
              "53         6  0.995684      young\n",
              "16371      6  0.993559       €690\n",
              "4305       2  0.994010       €850\n",
              "17930      7  0.980157  €850month\n",
              "\n",
              "[594 rows x 3 columns], R=30, lambda_step=0.01, plot_opts={'xlab': 'PC1', 'ylab': 'PC2'}, topic_order=[5, 2, 7, 1, 4, 3, 6])"
            ]
          },
          "execution_count": 185,
          "metadata": {},
          "output_type": "execute_result"
        }
      ],
      "source": [
        "pyLDAvis.enable_notebook()\n",
        "vis = pyLDAvis.gensim.prepare(lda_model, doc_term_matrix, dictionary)\n",
        "vis"
      ]
    },
    {
      "cell_type": "code",
      "execution_count": 182,
      "metadata": {},
      "outputs": [
        {
          "name": "stdout",
          "output_type": "stream",
          "text": [
            "Topic 1: satisfied_service_price\n",
            "Topic 2: insurance_year_contract\n",
            "Topic 3: practical_card_driver\n",
            "Topic 4: vehicle_expert_car\n",
            "Topic 5: insurance_call_time\n",
            "Topic 6: gmf_best_revaluation\n",
            "Topic 7: document_since_file\n"
          ]
        }
      ],
      "source": [
        "# Extract topics from lda_model\n",
        "topics = lda_model.print_topics()\n",
        "\n",
        "def name_topics(topics, num_words=3):\n",
        "    topic_names = []\n",
        "    for topic in topics:\n",
        "        # Extract words from each topic string\n",
        "        words = re.findall(r'\"([^\"]*)\"', topic[1])\n",
        "        # Use the top num_words words to name the topic\n",
        "        topic_names.append('_'.join(words[:num_words]))\n",
        "    return topic_names\n",
        "\n",
        "# Use the function\n",
        "topic_names = name_topics(topics)\n",
        "for i, name in enumerate(topic_names):\n",
        "    print(f\"Topic {i+1}: {name}\")"
      ]
    },
    {
      "cell_type": "code",
      "execution_count": null,
      "metadata": {},
      "outputs": [],
      "source": []
    }
  ],
  "metadata": {
    "colab": {
      "provenance": []
    },
    "kernelspec": {
      "display_name": "Python 3",
      "name": "python3"
    },
    "language_info": {
      "codemirror_mode": {
        "name": "ipython",
        "version": 3
      },
      "file_extension": ".py",
      "mimetype": "text/x-python",
      "name": "python",
      "nbconvert_exporter": "python",
      "pygments_lexer": "ipython3",
      "version": "3.8.10"
    }
  },
  "nbformat": 4,
  "nbformat_minor": 0
}
