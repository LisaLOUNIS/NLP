{
  "cells": [
    {
      "cell_type": "markdown",
      "metadata": {
        "id": "XGRt-nIVwT7E"
      },
      "source": [
        "# reviews xlsx"
      ]
    },
    {
      "cell_type": "code",
      "execution_count": null,
      "metadata": {},
      "outputs": [],
      "source": [
        "import pandas as pd\n",
        "import numpy as np\n",
        "import string\n",
        "import re\n",
        "import os\n",
        "\n",
        "# !pip install pyspellchecker\n",
        "# from spellchecker import SpellChecker\n",
        "\n",
        "# !pip install symspellpy\n",
        "from symspellpy import SymSpell, Verbosity\n",
        "\n",
        "import nltk\n",
        "from nltk import FreqDist\n",
        "from nltk.corpus import stopwords\n",
        "from nltk.tokenize import word_tokenize\n",
        "nltk.download('stopwords') \n",
        "\n",
        "from collections import Counter\n",
        "from multiprocessing import Pool\n",
        "\n",
        "# !pip install spacy\n",
        "import spacy\n",
        "\n",
        "# !pip install gensim\n",
        "import gensim\n",
        "from gensim import corpora\n",
        "\n",
        "# !pip install pyLDAvis\n",
        "import pyLDAvis\n",
        "import pyLDAvis.gensim\n",
        "import matplotlib.pyplot as plt\n",
        "import seaborn as sns"
      ]
    },
    {
      "cell_type": "markdown",
      "metadata": {
        "id": "PtDCdup20xGB"
      },
      "source": [
        "## Import test"
      ]
    },
    {
      "cell_type": "code",
      "execution_count": 4,
      "metadata": {
        "id": "FAvu_E0fvX0U"
      },
      "outputs": [
        {
          "name": "stderr",
          "output_type": "stream",
          "text": [
            "\n",
            "[notice] A new release of pip is available: 23.3.1 -> 23.3.2\n",
            "[notice] To update, run: python.exe -m pip install --upgrade pip\n"
          ]
        },
        {
          "name": "stdout",
          "output_type": "stream",
          "text": [
            "Collecting openpyxl\n",
            "  Downloading openpyxl-3.1.2-py2.py3-none-any.whl (249 kB)\n",
            "     ---------------------------------------- 0.0/250.0 kB ? eta -:--:--\n",
            "     -------------------------------------  245.8/250.0 kB 7.4 MB/s eta 0:00:01\n",
            "     -------------------------------------- 250.0/250.0 kB 5.1 MB/s eta 0:00:00\n",
            "Collecting et-xmlfile (from openpyxl)\n",
            "  Downloading et_xmlfile-1.1.0-py3-none-any.whl (4.7 kB)\n",
            "Installing collected packages: et-xmlfile, openpyxl\n",
            "Successfully installed et-xmlfile-1.1.0 openpyxl-3.1.2\n"
          ]
        }
      ],
      "source": [
        "folder_path = 'data'\n",
        "# !pip install openpyxl\n",
        "\n",
        "all_dataframes = []\n",
        "\n",
        "# Parcourir tous les fichiers dans le dossier\n",
        "for filename in os.listdir(folder_path):\n",
        "    if filename.endswith('.xlsx'):\n",
        "        file_path = os.path.join(folder_path, filename)\n",
        "        df = pd.read_excel(file_path)\n",
        "        all_dataframes.append(df)"
      ]
    },
    {
      "cell_type": "code",
      "execution_count": 6,
      "metadata": {},
      "outputs": [],
      "source": [
        "all_data = pd.concat(all_dataframes, ignore_index=True)"
      ]
    },
    {
      "cell_type": "markdown",
      "metadata": {},
      "source": [
        "## Import "
      ]
    },
    {
      "cell_type": "code",
      "execution_count": 3,
      "metadata": {},
      "outputs": [],
      "source": [
        "all_data = pd.read_csv('data_scrapped.csv')"
      ]
    },
    {
      "cell_type": "markdown",
      "metadata": {
        "id": "8XDlw5nTGaIw"
      },
      "source": [
        "## Data info"
      ]
    },
    {
      "cell_type": "code",
      "execution_count": 12,
      "metadata": {
        "colab": {
          "base_uri": "https://localhost:8080/"
        },
        "id": "jfCL-jgOwqlM",
        "outputId": "2ab578a9-80bb-41dc-8c7b-7b133468ac02"
      },
      "outputs": [
        {
          "data": {
            "text/plain": [
              "company      17049\n",
              "stars            0\n",
              "author           0\n",
              "date             0\n",
              "review           1\n",
              "review_en        1\n",
              "dtype: int64"
            ]
          },
          "execution_count": 12,
          "metadata": {},
          "output_type": "execute_result"
        }
      ],
      "source": [
        "nan_per_column = all_data.isnull().sum()\n",
        "nan_per_column"
      ]
    },
    {
      "cell_type": "code",
      "execution_count": 7,
      "metadata": {},
      "outputs": [
        {
          "data": {
            "text/html": [
              "<div>\n",
              "<style scoped>\n",
              "    .dataframe tbody tr th:only-of-type {\n",
              "        vertical-align: middle;\n",
              "    }\n",
              "\n",
              "    .dataframe tbody tr th {\n",
              "        vertical-align: top;\n",
              "    }\n",
              "\n",
              "    .dataframe thead th {\n",
              "        text-align: right;\n",
              "    }\n",
              "</style>\n",
              "<table border=\"1\" class=\"dataframe\">\n",
              "  <thead>\n",
              "    <tr style=\"text-align: right;\">\n",
              "      <th></th>\n",
              "      <th>company</th>\n",
              "      <th>stars</th>\n",
              "      <th>author</th>\n",
              "      <th>date</th>\n",
              "      <th>review</th>\n",
              "      <th>review_en</th>\n",
              "    </tr>\n",
              "  </thead>\n",
              "  <tbody>\n",
              "    <tr>\n",
              "      <th>0</th>\n",
              "      <td>NaN</td>\n",
              "      <td>1</td>\n",
              "      <td>victime</td>\n",
              "      <td>07/08/2022</td>\n",
              "      <td>Assurance à bannir, 3 ans chez Aviva, j'ai vu ...</td>\n",
              "      <td>Insurance to be banned, 3 years with Aviva, I ...</td>\n",
              "    </tr>\n",
              "    <tr>\n",
              "      <th>1</th>\n",
              "      <td>NaN</td>\n",
              "      <td>1</td>\n",
              "      <td>emma</td>\n",
              "      <td>03/08/2022</td>\n",
              "      <td>J'ai souscrit un perp par l'intermédiaire d'UF...</td>\n",
              "      <td>I took out a perp through UFF with Bee Vie (st...</td>\n",
              "    </tr>\n",
              "    <tr>\n",
              "      <th>2</th>\n",
              "      <td>NaN</td>\n",
              "      <td>1</td>\n",
              "      <td>CACO31170</td>\n",
              "      <td>18/07/2022</td>\n",
              "      <td>je ne vous le conseille pas. Depuis janvier 20...</td>\n",
              "      <td>I don't recommend it. Since January 2022 I hav...</td>\n",
              "    </tr>\n",
              "    <tr>\n",
              "      <th>3</th>\n",
              "      <td>NaN</td>\n",
              "      <td>2</td>\n",
              "      <td>CLAIRE</td>\n",
              "      <td>13/07/2022</td>\n",
              "      <td>AVIVA devenue ABEILLE ont du mal à régler les ...</td>\n",
              "      <td>AVIVA which became ABEILLE have difficulty set...</td>\n",
              "    </tr>\n",
              "    <tr>\n",
              "      <th>4</th>\n",
              "      <td>NaN</td>\n",
              "      <td>1</td>\n",
              "      <td>Emma94</td>\n",
              "      <td>08/07/2022</td>\n",
              "      <td>J'ai fait une demande de rachat d'une assuranc...</td>\n",
              "      <td>I made a request to buy back life insurance on...</td>\n",
              "    </tr>\n",
              "    <tr>\n",
              "      <th>...</th>\n",
              "      <td>...</td>\n",
              "      <td>...</td>\n",
              "      <td>...</td>\n",
              "      <td>...</td>\n",
              "      <td>...</td>\n",
              "      <td>...</td>\n",
              "    </tr>\n",
              "    <tr>\n",
              "      <th>23583</th>\n",
              "      <td>NaN</td>\n",
              "      <td>4</td>\n",
              "      <td>JEROME H</td>\n",
              "      <td>31/05/2022</td>\n",
              "      <td>Je suis très satisfait de vos services( Tarif,...</td>\n",
              "      <td>I am very satisfied with your services (price,...</td>\n",
              "    </tr>\n",
              "    <tr>\n",
              "      <th>23584</th>\n",
              "      <td>NaN</td>\n",
              "      <td>4</td>\n",
              "      <td>lara B</td>\n",
              "      <td>31/05/2022</td>\n",
              "      <td>je suis satisfaite du service et des modalités...</td>\n",
              "      <td>I am satisfied with the service and the terms\\...</td>\n",
              "    </tr>\n",
              "    <tr>\n",
              "      <th>23585</th>\n",
              "      <td>NaN</td>\n",
              "      <td>5</td>\n",
              "      <td>sophie J</td>\n",
              "      <td>31/05/2022</td>\n",
              "      <td>Je suis à la GMF depuis que j'ai une voiture, ...</td>\n",
              "      <td>I have been at GMF since I had a car, I then t...</td>\n",
              "    </tr>\n",
              "    <tr>\n",
              "      <th>23586</th>\n",
              "      <td>NaN</td>\n",
              "      <td>3</td>\n",
              "      <td>Jean-Paul D</td>\n",
              "      <td>30/05/2022</td>\n",
              "      <td>satisfait des services mais pas du prix sur l'...</td>\n",
              "      <td>satisfied with the services but not with the p...</td>\n",
              "    </tr>\n",
              "    <tr>\n",
              "      <th>23587</th>\n",
              "      <td>NaN</td>\n",
              "      <td>2</td>\n",
              "      <td>Gérard D</td>\n",
              "      <td>30/05/2022</td>\n",
              "      <td>Tout allait bien jusqu'à ce qu'on m'oblige à r...</td>\n",
              "      <td>Everything was fine until I was forced to resp...</td>\n",
              "    </tr>\n",
              "  </tbody>\n",
              "</table>\n",
              "<p>23588 rows × 6 columns</p>\n",
              "</div>"
            ],
            "text/plain": [
              "      company  stars       author        date  \\\n",
              "0         NaN      1      victime  07/08/2022   \n",
              "1         NaN      1         emma  03/08/2022   \n",
              "2         NaN      1    CACO31170  18/07/2022   \n",
              "3         NaN      2       CLAIRE  13/07/2022   \n",
              "4         NaN      1       Emma94  08/07/2022   \n",
              "...       ...    ...          ...         ...   \n",
              "23583     NaN      4     JEROME H  31/05/2022   \n",
              "23584     NaN      4       lara B  31/05/2022   \n",
              "23585     NaN      5     sophie J  31/05/2022   \n",
              "23586     NaN      3  Jean-Paul D  30/05/2022   \n",
              "23587     NaN      2     Gérard D  30/05/2022   \n",
              "\n",
              "                                                  review  \\\n",
              "0      Assurance à bannir, 3 ans chez Aviva, j'ai vu ...   \n",
              "1      J'ai souscrit un perp par l'intermédiaire d'UF...   \n",
              "2      je ne vous le conseille pas. Depuis janvier 20...   \n",
              "3      AVIVA devenue ABEILLE ont du mal à régler les ...   \n",
              "4      J'ai fait une demande de rachat d'une assuranc...   \n",
              "...                                                  ...   \n",
              "23583  Je suis très satisfait de vos services( Tarif,...   \n",
              "23584  je suis satisfaite du service et des modalités...   \n",
              "23585  Je suis à la GMF depuis que j'ai une voiture, ...   \n",
              "23586  satisfait des services mais pas du prix sur l'...   \n",
              "23587  Tout allait bien jusqu'à ce qu'on m'oblige à r...   \n",
              "\n",
              "                                               review_en  \n",
              "0      Insurance to be banned, 3 years with Aviva, I ...  \n",
              "1      I took out a perp through UFF with Bee Vie (st...  \n",
              "2      I don't recommend it. Since January 2022 I hav...  \n",
              "3      AVIVA which became ABEILLE have difficulty set...  \n",
              "4      I made a request to buy back life insurance on...  \n",
              "...                                                  ...  \n",
              "23583  I am very satisfied with your services (price,...  \n",
              "23584  I am satisfied with the service and the terms\\...  \n",
              "23585  I have been at GMF since I had a car, I then t...  \n",
              "23586  satisfied with the services but not with the p...  \n",
              "23587  Everything was fine until I was forced to resp...  \n",
              "\n",
              "[23588 rows x 6 columns]"
            ]
          },
          "execution_count": 7,
          "metadata": {},
          "output_type": "execute_result"
        }
      ],
      "source": [
        "all_data"
      ]
    },
    {
      "cell_type": "code",
      "execution_count": null,
      "metadata": {
        "colab": {
          "base_uri": "https://localhost:8080/"
        },
        "id": "chjlmB_lyzrY",
        "outputId": "4bd9c896-3016-4e34-c1ae-6a8ed15d2af0"
      },
      "outputs": [
        {
          "data": {
            "text/html": [
              "\n",
              "  <div id=\"df-5b549479-1153-4e8e-82f7-46952aa8c103\" class=\"colab-df-container\">\n",
              "    <div>\n",
              "<style scoped>\n",
              "    .dataframe tbody tr th:only-of-type {\n",
              "        vertical-align: middle;\n",
              "    }\n",
              "\n",
              "    .dataframe tbody tr th {\n",
              "        vertical-align: top;\n",
              "    }\n",
              "\n",
              "    .dataframe thead th {\n",
              "        text-align: right;\n",
              "    }\n",
              "</style>\n",
              "<table border=\"1\" class=\"dataframe\">\n",
              "  <thead>\n",
              "    <tr style=\"text-align: right;\">\n",
              "      <th></th>\n",
              "      <th>avis_en</th>\n",
              "      <th>avis_cor_en</th>\n",
              "    </tr>\n",
              "  </thead>\n",
              "  <tbody>\n",
              "    <tr>\n",
              "      <th>33000</th>\n",
              "      <td>Insurance that puts customers in difficulty. S...</td>\n",
              "      <td>Insurance that puts customers in difficulty. S...</td>\n",
              "    </tr>\n",
              "    <tr>\n",
              "      <th>33001</th>\n",
              "      <td>Hello\\nMember 3001628. You have sent me a medi...</td>\n",
              "      <td>Hello\\nMember 3001628. You have sent me a medi...</td>\n",
              "    </tr>\n",
              "    <tr>\n",
              "      <th>33002</th>\n",
              "      <td>I am still waiting for my salary supplement fo...</td>\n",
              "      <td>I am still waiting for my salary supplement fo...</td>\n",
              "    </tr>\n",
              "    <tr>\n",
              "      <th>33003</th>\n",
              "      <td>In half treatment the mutual after four reimbu...</td>\n",
              "      <td>In half treatment the mutual after four reimbu...</td>\n",
              "    </tr>\n",
              "    <tr>\n",
              "      <th>33004</th>\n",
              "      <td>Notice to colleagues from the territorial publ...</td>\n",
              "      <td>Notice to colleagues from the territorial publ...</td>\n",
              "    </tr>\n",
              "    <tr>\n",
              "      <th>...</th>\n",
              "      <td>...</td>\n",
              "      <td>...</td>\n",
              "    </tr>\n",
              "    <tr>\n",
              "      <th>33426</th>\n",
              "      <td>Very disappointed with how to proceed with you...</td>\n",
              "      <td>Very disappointed with how to proceed with you...</td>\n",
              "    </tr>\n",
              "    <tr>\n",
              "      <th>33427</th>\n",
              "      <td>Pont de Beauvoisin Savoie agency\\nIncompetence...</td>\n",
              "      <td>Pont de Beauvoisin Savoie agency\\nIncompetence...</td>\n",
              "    </tr>\n",
              "    <tr>\n",
              "      <th>33428</th>\n",
              "      <td>hello\\nThe assistance is deplorable and the au...</td>\n",
              "      <td>hello\\nThe assistance is deplorable and the au...</td>\n",
              "    </tr>\n",
              "    <tr>\n",
              "      <th>33429</th>\n",
              "      <td>Hello I subscribed to a damage contract work a...</td>\n",
              "      <td>Hello I subscribed to a damage contract work a...</td>\n",
              "    </tr>\n",
              "    <tr>\n",
              "      <th>33430</th>\n",
              "      <td>Hello, I have a bad experience with the Socoba...</td>\n",
              "      <td>Hello, I have a bad experience with the Socoba...</td>\n",
              "    </tr>\n",
              "  </tbody>\n",
              "</table>\n",
              "<p>431 rows × 2 columns</p>\n",
              "</div>\n",
              "    <div class=\"colab-df-buttons\">\n",
              "\n",
              "  <div class=\"colab-df-container\">\n",
              "    <button class=\"colab-df-convert\" onclick=\"convertToInteractive('df-5b549479-1153-4e8e-82f7-46952aa8c103')\"\n",
              "            title=\"Convert this dataframe to an interactive table.\"\n",
              "            style=\"display:none;\">\n",
              "\n",
              "  <svg xmlns=\"http://www.w3.org/2000/svg\" height=\"24px\" viewBox=\"0 -960 960 960\">\n",
              "    <path d=\"M120-120v-720h720v720H120Zm60-500h600v-160H180v160Zm220 220h160v-160H400v160Zm0 220h160v-160H400v160ZM180-400h160v-160H180v160Zm440 0h160v-160H620v160ZM180-180h160v-160H180v160Zm440 0h160v-160H620v160Z\"/>\n",
              "  </svg>\n",
              "    </button>\n",
              "\n",
              "  <style>\n",
              "    .colab-df-container {\n",
              "      display:flex;\n",
              "      gap: 12px;\n",
              "    }\n",
              "\n",
              "    .colab-df-convert {\n",
              "      background-color: #E8F0FE;\n",
              "      border: none;\n",
              "      border-radius: 50%;\n",
              "      cursor: pointer;\n",
              "      display: none;\n",
              "      fill: #1967D2;\n",
              "      height: 32px;\n",
              "      padding: 0 0 0 0;\n",
              "      width: 32px;\n",
              "    }\n",
              "\n",
              "    .colab-df-convert:hover {\n",
              "      background-color: #E2EBFA;\n",
              "      box-shadow: 0px 1px 2px rgba(60, 64, 67, 0.3), 0px 1px 3px 1px rgba(60, 64, 67, 0.15);\n",
              "      fill: #174EA6;\n",
              "    }\n",
              "\n",
              "    .colab-df-buttons div {\n",
              "      margin-bottom: 4px;\n",
              "    }\n",
              "\n",
              "    [theme=dark] .colab-df-convert {\n",
              "      background-color: #3B4455;\n",
              "      fill: #D2E3FC;\n",
              "    }\n",
              "\n",
              "    [theme=dark] .colab-df-convert:hover {\n",
              "      background-color: #434B5C;\n",
              "      box-shadow: 0px 1px 3px 1px rgba(0, 0, 0, 0.15);\n",
              "      filter: drop-shadow(0px 1px 2px rgba(0, 0, 0, 0.3));\n",
              "      fill: #FFFFFF;\n",
              "    }\n",
              "  </style>\n",
              "\n",
              "    <script>\n",
              "      const buttonEl =\n",
              "        document.querySelector('#df-5b549479-1153-4e8e-82f7-46952aa8c103 button.colab-df-convert');\n",
              "      buttonEl.style.display =\n",
              "        google.colab.kernel.accessAllowed ? 'block' : 'none';\n",
              "\n",
              "      async function convertToInteractive(key) {\n",
              "        const element = document.querySelector('#df-5b549479-1153-4e8e-82f7-46952aa8c103');\n",
              "        const dataTable =\n",
              "          await google.colab.kernel.invokeFunction('convertToInteractive',\n",
              "                                                    [key], {});\n",
              "        if (!dataTable) return;\n",
              "\n",
              "        const docLinkHtml = 'Like what you see? Visit the ' +\n",
              "          '<a target=\"_blank\" href=https://colab.research.google.com/notebooks/data_table.ipynb>data table notebook</a>'\n",
              "          + ' to learn more about interactive tables.';\n",
              "        element.innerHTML = '';\n",
              "        dataTable['output_type'] = 'display_data';\n",
              "        await google.colab.output.renderOutput(dataTable, element);\n",
              "        const docLink = document.createElement('div');\n",
              "        docLink.innerHTML = docLinkHtml;\n",
              "        element.appendChild(docLink);\n",
              "      }\n",
              "    </script>\n",
              "  </div>\n",
              "\n",
              "\n",
              "<div id=\"df-45940cae-e04f-40e0-a144-212f419f6527\">\n",
              "  <button class=\"colab-df-quickchart\" onclick=\"quickchart('df-45940cae-e04f-40e0-a144-212f419f6527')\"\n",
              "            title=\"Suggest charts\"\n",
              "            style=\"display:none;\">\n",
              "\n",
              "<svg xmlns=\"http://www.w3.org/2000/svg\" height=\"24px\"viewBox=\"0 0 24 24\"\n",
              "     width=\"24px\">\n",
              "    <g>\n",
              "        <path d=\"M19 3H5c-1.1 0-2 .9-2 2v14c0 1.1.9 2 2 2h14c1.1 0 2-.9 2-2V5c0-1.1-.9-2-2-2zM9 17H7v-7h2v7zm4 0h-2V7h2v10zm4 0h-2v-4h2v4z\"/>\n",
              "    </g>\n",
              "</svg>\n",
              "  </button>\n",
              "\n",
              "<style>\n",
              "  .colab-df-quickchart {\n",
              "      --bg-color: #E8F0FE;\n",
              "      --fill-color: #1967D2;\n",
              "      --hover-bg-color: #E2EBFA;\n",
              "      --hover-fill-color: #174EA6;\n",
              "      --disabled-fill-color: #AAA;\n",
              "      --disabled-bg-color: #DDD;\n",
              "  }\n",
              "\n",
              "  [theme=dark] .colab-df-quickchart {\n",
              "      --bg-color: #3B4455;\n",
              "      --fill-color: #D2E3FC;\n",
              "      --hover-bg-color: #434B5C;\n",
              "      --hover-fill-color: #FFFFFF;\n",
              "      --disabled-bg-color: #3B4455;\n",
              "      --disabled-fill-color: #666;\n",
              "  }\n",
              "\n",
              "  .colab-df-quickchart {\n",
              "    background-color: var(--bg-color);\n",
              "    border: none;\n",
              "    border-radius: 50%;\n",
              "    cursor: pointer;\n",
              "    display: none;\n",
              "    fill: var(--fill-color);\n",
              "    height: 32px;\n",
              "    padding: 0;\n",
              "    width: 32px;\n",
              "  }\n",
              "\n",
              "  .colab-df-quickchart:hover {\n",
              "    background-color: var(--hover-bg-color);\n",
              "    box-shadow: 0 1px 2px rgba(60, 64, 67, 0.3), 0 1px 3px 1px rgba(60, 64, 67, 0.15);\n",
              "    fill: var(--button-hover-fill-color);\n",
              "  }\n",
              "\n",
              "  .colab-df-quickchart-complete:disabled,\n",
              "  .colab-df-quickchart-complete:disabled:hover {\n",
              "    background-color: var(--disabled-bg-color);\n",
              "    fill: var(--disabled-fill-color);\n",
              "    box-shadow: none;\n",
              "  }\n",
              "\n",
              "  .colab-df-spinner {\n",
              "    border: 2px solid var(--fill-color);\n",
              "    border-color: transparent;\n",
              "    border-bottom-color: var(--fill-color);\n",
              "    animation:\n",
              "      spin 1s steps(1) infinite;\n",
              "  }\n",
              "\n",
              "  @keyframes spin {\n",
              "    0% {\n",
              "      border-color: transparent;\n",
              "      border-bottom-color: var(--fill-color);\n",
              "      border-left-color: var(--fill-color);\n",
              "    }\n",
              "    20% {\n",
              "      border-color: transparent;\n",
              "      border-left-color: var(--fill-color);\n",
              "      border-top-color: var(--fill-color);\n",
              "    }\n",
              "    30% {\n",
              "      border-color: transparent;\n",
              "      border-left-color: var(--fill-color);\n",
              "      border-top-color: var(--fill-color);\n",
              "      border-right-color: var(--fill-color);\n",
              "    }\n",
              "    40% {\n",
              "      border-color: transparent;\n",
              "      border-right-color: var(--fill-color);\n",
              "      border-top-color: var(--fill-color);\n",
              "    }\n",
              "    60% {\n",
              "      border-color: transparent;\n",
              "      border-right-color: var(--fill-color);\n",
              "    }\n",
              "    80% {\n",
              "      border-color: transparent;\n",
              "      border-right-color: var(--fill-color);\n",
              "      border-bottom-color: var(--fill-color);\n",
              "    }\n",
              "    90% {\n",
              "      border-color: transparent;\n",
              "      border-bottom-color: var(--fill-color);\n",
              "    }\n",
              "  }\n",
              "</style>\n",
              "\n",
              "  <script>\n",
              "    async function quickchart(key) {\n",
              "      const quickchartButtonEl =\n",
              "        document.querySelector('#' + key + ' button');\n",
              "      quickchartButtonEl.disabled = true;  // To prevent multiple clicks.\n",
              "      quickchartButtonEl.classList.add('colab-df-spinner');\n",
              "      try {\n",
              "        const charts = await google.colab.kernel.invokeFunction(\n",
              "            'suggestCharts', [key], {});\n",
              "      } catch (error) {\n",
              "        console.error('Error during call to suggestCharts:', error);\n",
              "      }\n",
              "      quickchartButtonEl.classList.remove('colab-df-spinner');\n",
              "      quickchartButtonEl.classList.add('colab-df-quickchart-complete');\n",
              "    }\n",
              "    (() => {\n",
              "      let quickchartButtonEl =\n",
              "        document.querySelector('#df-45940cae-e04f-40e0-a144-212f419f6527 button');\n",
              "      quickchartButtonEl.style.display =\n",
              "        google.colab.kernel.accessAllowed ? 'block' : 'none';\n",
              "    })();\n",
              "  </script>\n",
              "</div>\n",
              "    </div>\n",
              "  </div>\n"
            ],
            "text/plain": [
              "                                                 avis_en  \\\n",
              "33000  Insurance that puts customers in difficulty. S...   \n",
              "33001  Hello\\nMember 3001628. You have sent me a medi...   \n",
              "33002  I am still waiting for my salary supplement fo...   \n",
              "33003  In half treatment the mutual after four reimbu...   \n",
              "33004  Notice to colleagues from the territorial publ...   \n",
              "...                                                  ...   \n",
              "33426  Very disappointed with how to proceed with you...   \n",
              "33427  Pont de Beauvoisin Savoie agency\\nIncompetence...   \n",
              "33428  hello\\nThe assistance is deplorable and the au...   \n",
              "33429  Hello I subscribed to a damage contract work a...   \n",
              "33430  Hello, I have a bad experience with the Socoba...   \n",
              "\n",
              "                                             avis_cor_en  \n",
              "33000  Insurance that puts customers in difficulty. S...  \n",
              "33001  Hello\\nMember 3001628. You have sent me a medi...  \n",
              "33002  I am still waiting for my salary supplement fo...  \n",
              "33003  In half treatment the mutual after four reimbu...  \n",
              "33004  Notice to colleagues from the territorial publ...  \n",
              "...                                                  ...  \n",
              "33426  Very disappointed with how to proceed with you...  \n",
              "33427  Pont de Beauvoisin Savoie agency\\nIncompetence...  \n",
              "33428  hello\\nThe assistance is deplorable and the au...  \n",
              "33429  Hello I subscribed to a damage contract work a...  \n",
              "33430  Hello, I have a bad experience with the Socoba...  \n",
              "\n",
              "[431 rows x 2 columns]"
            ]
          },
          "execution_count": 114,
          "metadata": {},
          "output_type": "execute_result"
        }
      ],
      "source": [
        "all_data[all_data['avis_cor_en'].notnull()][['avis_en','avis_cor_en']]"
      ]
    },
    {
      "cell_type": "code",
      "execution_count": 4,
      "metadata": {
        "id": "cYdNRgSH1HeK"
      },
      "outputs": [],
      "source": [
        "duplicate_rows = all_data[all_data.duplicated(keep=False)]"
      ]
    },
    {
      "cell_type": "code",
      "execution_count": 5,
      "metadata": {
        "id": "_ZbGtciZ1JEr"
      },
      "outputs": [],
      "source": [
        "duplicate_rows_sorted = duplicate_rows.sort_values(by=list(all_data.columns))"
      ]
    },
    {
      "cell_type": "code",
      "execution_count": 6,
      "metadata": {},
      "outputs": [
        {
          "data": {
            "text/html": [
              "<div>\n",
              "<style scoped>\n",
              "    .dataframe tbody tr th:only-of-type {\n",
              "        vertical-align: middle;\n",
              "    }\n",
              "\n",
              "    .dataframe tbody tr th {\n",
              "        vertical-align: top;\n",
              "    }\n",
              "\n",
              "    .dataframe thead th {\n",
              "        text-align: right;\n",
              "    }\n",
              "</style>\n",
              "<table border=\"1\" class=\"dataframe\">\n",
              "  <thead>\n",
              "    <tr style=\"text-align: right;\">\n",
              "      <th></th>\n",
              "      <th>company</th>\n",
              "      <th>stars</th>\n",
              "      <th>author</th>\n",
              "      <th>date</th>\n",
              "      <th>review</th>\n",
              "      <th>review_en</th>\n",
              "    </tr>\n",
              "  </thead>\n",
              "  <tbody>\n",
              "    <tr>\n",
              "      <th>26218</th>\n",
              "      <td>NaN</td>\n",
              "      <td>1</td>\n",
              "      <td>ALTER EGO</td>\n",
              "      <td>05/11/2020</td>\n",
              "      <td>Nous avons fait, par erreur, un virement au bé...</td>\n",
              "      <td>We made, by mistake, a transfer to this compan...</td>\n",
              "    </tr>\n",
              "    <tr>\n",
              "      <th>26228</th>\n",
              "      <td>NaN</td>\n",
              "      <td>1</td>\n",
              "      <td>ALTER EGO</td>\n",
              "      <td>05/11/2020</td>\n",
              "      <td>Nous avons fait, par erreur, un virement au bé...</td>\n",
              "      <td>We made, by mistake, a transfer to this compan...</td>\n",
              "    </tr>\n",
              "    <tr>\n",
              "      <th>26238</th>\n",
              "      <td>NaN</td>\n",
              "      <td>1</td>\n",
              "      <td>ALTER EGO</td>\n",
              "      <td>05/11/2020</td>\n",
              "      <td>Nous avons fait, par erreur, un virement au bé...</td>\n",
              "      <td>We made, by mistake, a transfer to this compan...</td>\n",
              "    </tr>\n",
              "    <tr>\n",
              "      <th>26248</th>\n",
              "      <td>NaN</td>\n",
              "      <td>1</td>\n",
              "      <td>ALTER EGO</td>\n",
              "      <td>05/11/2020</td>\n",
              "      <td>Nous avons fait, par erreur, un virement au bé...</td>\n",
              "      <td>We made, by mistake, a transfer to this compan...</td>\n",
              "    </tr>\n",
              "    <tr>\n",
              "      <th>26258</th>\n",
              "      <td>NaN</td>\n",
              "      <td>1</td>\n",
              "      <td>ALTER EGO</td>\n",
              "      <td>05/11/2020</td>\n",
              "      <td>Nous avons fait, par erreur, un virement au bé...</td>\n",
              "      <td>We made, by mistake, a transfer to this compan...</td>\n",
              "    </tr>\n",
              "    <tr>\n",
              "      <th>...</th>\n",
              "      <td>...</td>\n",
              "      <td>...</td>\n",
              "      <td>...</td>\n",
              "      <td>...</td>\n",
              "      <td>...</td>\n",
              "      <td>...</td>\n",
              "    </tr>\n",
              "    <tr>\n",
              "      <th>24689</th>\n",
              "      <td>NaN</td>\n",
              "      <td>5</td>\n",
              "      <td>odile R</td>\n",
              "      <td>12/07/2022</td>\n",
              "      <td>je suis satisfait de la prise en charge, expli...</td>\n",
              "      <td>I am satisfied with the support, clear explana...</td>\n",
              "    </tr>\n",
              "    <tr>\n",
              "      <th>24723</th>\n",
              "      <td>NaN</td>\n",
              "      <td>5</td>\n",
              "      <td>odile R</td>\n",
              "      <td>12/07/2022</td>\n",
              "      <td>je suis satisfait de la prise en charge, expli...</td>\n",
              "      <td>I am satisfied with the support, clear explana...</td>\n",
              "    </tr>\n",
              "    <tr>\n",
              "      <th>24757</th>\n",
              "      <td>NaN</td>\n",
              "      <td>5</td>\n",
              "      <td>odile R</td>\n",
              "      <td>12/07/2022</td>\n",
              "      <td>je suis satisfait de la prise en charge, expli...</td>\n",
              "      <td>I am satisfied with the support, clear explana...</td>\n",
              "    </tr>\n",
              "    <tr>\n",
              "      <th>24791</th>\n",
              "      <td>NaN</td>\n",
              "      <td>5</td>\n",
              "      <td>odile R</td>\n",
              "      <td>12/07/2022</td>\n",
              "      <td>je suis satisfait de la prise en charge, expli...</td>\n",
              "      <td>I am satisfied with the support, clear explana...</td>\n",
              "    </tr>\n",
              "    <tr>\n",
              "      <th>24825</th>\n",
              "      <td>NaN</td>\n",
              "      <td>5</td>\n",
              "      <td>odile R</td>\n",
              "      <td>12/07/2022</td>\n",
              "      <td>je suis satisfait de la prise en charge, expli...</td>\n",
              "      <td>I am satisfied with the support, clear explana...</td>\n",
              "    </tr>\n",
              "  </tbody>\n",
              "</table>\n",
              "<p>9836 rows × 6 columns</p>\n",
              "</div>"
            ],
            "text/plain": [
              "      company  stars     author        date  \\\n",
              "26218     NaN      1  ALTER EGO  05/11/2020   \n",
              "26228     NaN      1  ALTER EGO  05/11/2020   \n",
              "26238     NaN      1  ALTER EGO  05/11/2020   \n",
              "26248     NaN      1  ALTER EGO  05/11/2020   \n",
              "26258     NaN      1  ALTER EGO  05/11/2020   \n",
              "...       ...    ...        ...         ...   \n",
              "24689     NaN      5    odile R  12/07/2022   \n",
              "24723     NaN      5    odile R  12/07/2022   \n",
              "24757     NaN      5    odile R  12/07/2022   \n",
              "24791     NaN      5    odile R  12/07/2022   \n",
              "24825     NaN      5    odile R  12/07/2022   \n",
              "\n",
              "                                                  review  \\\n",
              "26218  Nous avons fait, par erreur, un virement au bé...   \n",
              "26228  Nous avons fait, par erreur, un virement au bé...   \n",
              "26238  Nous avons fait, par erreur, un virement au bé...   \n",
              "26248  Nous avons fait, par erreur, un virement au bé...   \n",
              "26258  Nous avons fait, par erreur, un virement au bé...   \n",
              "...                                                  ...   \n",
              "24689  je suis satisfait de la prise en charge, expli...   \n",
              "24723  je suis satisfait de la prise en charge, expli...   \n",
              "24757  je suis satisfait de la prise en charge, expli...   \n",
              "24791  je suis satisfait de la prise en charge, expli...   \n",
              "24825  je suis satisfait de la prise en charge, expli...   \n",
              "\n",
              "                                               review_en  \n",
              "26218  We made, by mistake, a transfer to this compan...  \n",
              "26228  We made, by mistake, a transfer to this compan...  \n",
              "26238  We made, by mistake, a transfer to this compan...  \n",
              "26248  We made, by mistake, a transfer to this compan...  \n",
              "26258  We made, by mistake, a transfer to this compan...  \n",
              "...                                                  ...  \n",
              "24689  I am satisfied with the support, clear explana...  \n",
              "24723  I am satisfied with the support, clear explana...  \n",
              "24757  I am satisfied with the support, clear explana...  \n",
              "24791  I am satisfied with the support, clear explana...  \n",
              "24825  I am satisfied with the support, clear explana...  \n",
              "\n",
              "[9836 rows x 6 columns]"
            ]
          },
          "execution_count": 6,
          "metadata": {},
          "output_type": "execute_result"
        }
      ],
      "source": [
        "duplicate_rows_sorted"
      ]
    },
    {
      "cell_type": "markdown",
      "metadata": {
        "id": "0BTcyQ3S1DDE"
      },
      "source": [
        "## Cleaning"
      ]
    },
    {
      "cell_type": "code",
      "execution_count": 7,
      "metadata": {
        "id": "I4lwQRTIzeQU"
      },
      "outputs": [],
      "source": [
        "# all_data['avis_en'] = all_data['avis_cor_en'].combine_first(all_data['avis_en'])\n",
        "# all_data['avis'] = all_data['avis_cor'].combine_first(all_data['avis'])"
      ]
    },
    {
      "cell_type": "code",
      "execution_count": 8,
      "metadata": {
        "id": "V0S7tOzvzemP"
      },
      "outputs": [],
      "source": [
        "# all_data.drop(['avis_cor', 'avis_cor_en'], axis=1, inplace=True)\n",
        "# all_data = all_data.dropna(subset=['avis_en'])"
      ]
    },
    {
      "cell_type": "code",
      "execution_count": 4,
      "metadata": {
        "id": "1-1cojKC0juI"
      },
      "outputs": [],
      "source": [
        "all_data = all_data.drop_duplicates()"
      ]
    },
    {
      "cell_type": "code",
      "execution_count": 5,
      "metadata": {},
      "outputs": [],
      "source": [
        "all_data = all_data.dropna(subset=('review'))"
      ]
    },
    {
      "cell_type": "markdown",
      "metadata": {
        "id": "dFBlY8BV1YtU"
      },
      "source": [
        "## Spellchecker"
      ]
    },
    {
      "cell_type": "code",
      "execution_count": 10,
      "metadata": {},
      "outputs": [
        {
          "data": {
            "text/plain": [
              "company  stars  author   date        review                                                review_en                                                \n",
              "MACIF    1      anonyme  02/06/2021  Intervention supprimée à la demande de l'internaute.  Intervention deleted at the request of the Internet user.    1\n",
              "                         21/02/2020  Intervention supprimée à la demande de l'internaute.  Intervention deleted at the request of the Internet user.    1\n",
              "Name: count, dtype: int64"
            ]
          },
          "execution_count": 10,
          "metadata": {},
          "output_type": "execute_result"
        }
      ],
      "source": [
        "all_data.value_counts()"
      ]
    },
    {
      "cell_type": "code",
      "execution_count": 6,
      "metadata": {
        "colab": {
          "base_uri": "https://localhost:8080/"
        },
        "id": "rmj8386P1Z8C",
        "outputId": "bdc1414f-4fa3-470d-8841-7a30fa60ebe1"
      },
      "outputs": [
        {
          "name": "stderr",
          "output_type": "stream",
          "text": [
            "[nltk_data] Downloading package stopwords to\n",
            "[nltk_data]     C:\\Users\\minji\\AppData\\Roaming\\nltk_data...\n",
            "[nltk_data]   Package stopwords is already up-to-date!\n"
          ]
        }
      ],
      "source": [
        "nltk.download('stopwords')\n",
        "stop_words_fr = set(stopwords.words('french'))"
      ]
    },
    {
      "cell_type": "code",
      "execution_count": 7,
      "metadata": {
        "id": "XJpHMyBbHAUB"
      },
      "outputs": [],
      "source": [
        "words = all_data['review'].str.split()"
      ]
    },
    {
      "cell_type": "code",
      "execution_count": 13,
      "metadata": {
        "colab": {
          "base_uri": "https://localhost:8080/"
        },
        "id": "2xbJtJtu3UyI",
        "outputId": "44ec4b48-bb07-4ed6-f459-8da889db9c72"
      },
      "outputs": [
        {
          "data": {
            "text/plain": [
              "[('a', 17017),\n",
              " ('Je', 14818),\n",
              " ('très', 11185),\n",
              " ('plus', 10750),\n",
              " ('assurance', 9154),\n",
              " (\"j'ai\", 7892),\n",
              " ('prix', 7298),\n",
              " ('service', 7129),\n",
              " ('bien', 6277),\n",
              " ('!', 6143)]"
            ]
          },
          "execution_count": 13,
          "metadata": {},
          "output_type": "execute_result"
        }
      ],
      "source": [
        "words = words.apply(lambda x: [item for item in x if item not in stop_words_fr])\n",
        "frequent_words = Counter([word for sublist in words for word in sublist])\n",
        "frequent_words.most_common(10)"
      ]
    },
    {
      "cell_type": "code",
      "execution_count": 8,
      "metadata": {},
      "outputs": [
        {
          "data": {
            "text/plain": [
              "True"
            ]
          },
          "execution_count": 8,
          "metadata": {},
          "output_type": "execute_result"
        }
      ],
      "source": [
        "# Initialisation de SymSpell\n",
        "sym_spell = SymSpell(max_dictionary_edit_distance=2, prefix_length=7)\n",
        "dictionary_path = \"fr-100k.txt\"  # Remplacez par le chemin vers votre dictionnaire français\n",
        "sym_spell.load_dictionary(dictionary_path, term_index=0, count_index=1)"
      ]
    },
    {
      "cell_type": "code",
      "execution_count": 9,
      "metadata": {
        "id": "CZW7VSQC7yrs"
      },
      "outputs": [],
      "source": [
        "# Liste des stopwords en français\n",
        "stop_words = set(stopwords.words('french'))\n",
        "\n",
        "# Fonction pour le prétraitement du texte\n",
        "def preprocess_text(text):\n",
        "    # Suppression des caractères spéciaux et de la ponctuation\n",
        "    text = re.sub(r'\\W', ' ', text)\n",
        "    text = text.translate(str.maketrans('', '', string.punctuation))\n",
        "    \n",
        "    # Suppression des stopwords\n",
        "    text = ' '.join([word for word in text.split() if word not in stop_words])\n",
        "    \n",
        "    return text\n",
        "\n",
        "# Fonction pour corriger l'orthographe\n",
        "def spell_check(text):\n",
        "    text = preprocess_text(text)\n",
        "    suggestions = sym_spell.lookup_compound(text, max_edit_distance=2)\n",
        "    return suggestions[0].term"
      ]
    },
    {
      "cell_type": "code",
      "execution_count": 10,
      "metadata": {},
      "outputs": [],
      "source": [
        "# Création d'un pool de processus\n",
        "with Pool(processes=4) as pool:  # Utilise 4 processus\n",
        "    all_data['review_spellcheck'] = pool.map(spell_check, all_data['review'])"
      ]
    },
    {
      "cell_type": "markdown",
      "metadata": {},
      "source": [
        "## Word frequency"
      ]
    },
    {
      "cell_type": "code",
      "execution_count": 8,
      "metadata": {},
      "outputs": [],
      "source": [
        "def freq_words(x, terms = 30):\n",
        "  all_words = ' '.join([text for text in x])\n",
        "  all_words = all_words.split()\n",
        "  \n",
        "  fdist = FreqDist(all_words)\n",
        "  words_df = pd.DataFrame({'word':list(fdist.keys()), 'count':list(fdist.values())})\n",
        "  \n",
        "  # selecting top 20 most frequent words\n",
        "  d = words_df.nlargest(columns=\"count\", n = terms) \n",
        "  plt.figure(figsize=(20,5))\n",
        "  ax = sns.barplot(data=d, x= \"word\", y = \"count\")\n",
        "  ax.set(ylabel = 'Count')\n",
        "  ax.set_xticklabels(ax.get_xticklabels(), rotation=90)\n",
        "  plt.show()"
      ]
    },
    {
      "cell_type": "code",
      "execution_count": 9,
      "metadata": {},
      "outputs": [
        {
          "name": "stderr",
          "output_type": "stream",
          "text": [
            "C:\\Users\\minji\\AppData\\Local\\Temp\\ipykernel_23224\\3099976070.py:13: UserWarning: FixedFormatter should only be used together with FixedLocator\n",
            "  ax.set_xticklabels(ax.get_xticklabels(), rotation=90)\n"
          ]
        },
        {
          "data": {
            "image/png": "[encoded data removed]",
            "text/plain": [
              "<Figure size 2000x500 with 1 Axes>"
            ]
          },
          "metadata": {},
          "output_type": "display_data"
        }
      ],
      "source": [
        "freq_words(all_data['review_en'])"
      ]
    },
    {
      "cell_type": "code",
      "execution_count": 10,
      "metadata": {},
      "outputs": [],
      "source": [
        "stop_words = stopwords.words('english')\n",
        "def remove_stopwords(rev):\n",
        "  rev_new = \" \".join([i for i in rev if i not in stop_words])\n",
        "  return rev_new"
      ]
    },
    {
      "cell_type": "code",
      "execution_count": 11,
      "metadata": {},
      "outputs": [],
      "source": [
        "reviews_en = all_data['review_en'].apply(lambda x: ' '.join([w for w in x.split() if len(w)>2]))\n",
        "reviews_en = [remove_stopwords(r.split()) for r in reviews_en]\n",
        "reviews_en = [r.lower() for r in reviews_en]"
      ]
    },
    {
      "cell_type": "code",
      "execution_count": 12,
      "metadata": {},
      "outputs": [
        {
          "name": "stderr",
          "output_type": "stream",
          "text": [
            "C:\\Users\\minji\\AppData\\Local\\Temp\\ipykernel_23224\\3099976070.py:13: UserWarning: FixedFormatter should only be used together with FixedLocator\n",
            "  ax.set_xticklabels(ax.get_xticklabels(), rotation=90)\n"
          ]
        },
        {
          "data": {
            "image/png": "[encoded data removed]",
            "text/plain": [
              "<Figure size 2000x500 with 1 Axes>"
            ]
          },
          "metadata": {},
          "output_type": "display_data"
        }
      ],
      "source": [
        "freq_words(reviews_en, 35)"
      ]
    },
    {
      "cell_type": "markdown",
      "metadata": {},
      "source": [
        "## Topic modeling"
      ]
    },
    {
      "cell_type": "code",
      "execution_count": 14,
      "metadata": {},
      "outputs": [],
      "source": [
        "# !python -m spacy download en_core_web_sm\n",
        "nlp = spacy.load('en_core_web_sm', disable=['parser', 'ner'])"
      ]
    },
    {
      "cell_type": "code",
      "execution_count": 15,
      "metadata": {},
      "outputs": [],
      "source": [
        "def lemmatization(texts, tags=['NOUN', 'ADJ']):\n",
        "    output = []\n",
        "    for sent in texts:\n",
        "        doc = nlp(\" \".join(sent)) \n",
        "        output.append([token.lemma_ for token in doc if token.pos_ in tags])\n",
        "    return output"
      ]
    },
    {
      "cell_type": "code",
      "execution_count": 16,
      "metadata": {},
      "outputs": [],
      "source": [
        "tokenized_reviews = pd.Series(reviews_en).apply(lambda x: x.split())"
      ]
    },
    {
      "cell_type": "code",
      "execution_count": 17,
      "metadata": {},
      "outputs": [],
      "source": [
        "tokenized_and_lemmatized_reviews = lemmatization(tokenized_reviews)"
      ]
    },
    {
      "cell_type": "code",
      "execution_count": 18,
      "metadata": {},
      "outputs": [],
      "source": [
        "reviews_3 = []\n",
        "for i in range(len(tokenized_and_lemmatized_reviews)):\n",
        "    reviews_3.append(' '.join(tokenized_and_lemmatized_reviews[i]))"
      ]
    },
    {
      "cell_type": "code",
      "execution_count": 19,
      "metadata": {},
      "outputs": [
        {
          "name": "stderr",
          "output_type": "stream",
          "text": [
            "C:\\Users\\minji\\AppData\\Local\\Temp\\ipykernel_23224\\3099976070.py:13: UserWarning: FixedFormatter should only be used together with FixedLocator\n",
            "  ax.set_xticklabels(ax.get_xticklabels(), rotation=90)\n"
          ]
        },
        {
          "data": {
            "image/png": "[encoded data removed]",
            "text/plain": [
              "<Figure size 2000x500 with 1 Axes>"
            ]
          },
          "metadata": {},
          "output_type": "display_data"
        }
      ],
      "source": [
        "freq_words(reviews_3, 35)"
      ]
    },
    {
      "cell_type": "code",
      "execution_count": 20,
      "metadata": {},
      "outputs": [],
      "source": [
        "# Create the term dictionary of our corpus, where every unique term is assigned an index\n",
        "dictionary = corpora.Dictionary(tokenized_and_lemmatized_reviews)\n",
        "# Convert list of reviews (reviews_2) into a Document Term Matrix using the dictionary prepared above.\n",
        "doc_term_matrix = [dictionary.doc2bow(rev) for rev in tokenized_and_lemmatized_reviews]\n",
        "# Creating the object for LDA model using gensim library\n",
        "LDA = gensim.models.ldamodel.LdaModel\n",
        "# Build LDA model\n",
        "lda_model = LDA(corpus=doc_term_matrix,\n",
        "                id2word=dictionary,\n",
        "                num_topics=7, \n",
        "                random_state=100,\n",
        "                chunksize=1000,\n",
        "                passes=50)"
      ]
    },
    {
      "cell_type": "code",
      "execution_count": 21,
      "metadata": {},
      "outputs": [
        {
          "data": {
            "text/plain": [
              "[(0,\n",
              "  '0.056*\"expert\" + 0.038*\"damage\" + 0.030*\"disaster\" + 0.027*\"matmut\" + 0.021*\"water\" + 0.018*\"claim\" + 0.014*\"report\" + 0.013*\"insurance\" + 0.013*\"work\" + 0.012*\"year\"'),\n",
              " (1,\n",
              "  '0.023*\"pension\" + 0.023*\"contract\" + 0.022*\"month\" + 0.018*\"year\" + 0.017*\"letter\" + 0.016*\"insurance\" + 0.015*\"payment\" + 0.014*\"malakoff\" + 0.013*\"document\" + 0.013*\"company\"'),\n",
              " (2,\n",
              "  '0.091*\"satisfied\" + 0.089*\"service\" + 0.083*\"price\" + 0.041*\"insurance\" + 0.030*\"good\" + 0.017*\"simple\" + 0.016*\"customer\" + 0.016*\"contract\" + 0.015*\"quick\" + 0.012*\"easy\"'),\n",
              " (3,\n",
              "  '0.068*\"advisor\" + 0.039*\"good\" + 0.038*\"friendly\" + 0.033*\"efficient\" + 0.026*\"professional\" + 0.022*\"attentive\" + 0.020*\"welcome\" + 0.020*\"phone\" + 0.019*\"clear\" + 0.019*\"person\"'),\n",
              " (4,\n",
              "  '0.085*\"mutual\" + 0.058*\"reimbursement\" + 0.031*\"month\" + 0.031*\"insurance\" + 0.026*\"health\" + 0.022*\"company\" + 0.016*\"time\" + 0.015*\"request\" + 0.014*\"staff\" + 0.012*\"refund\"'),\n",
              " (5,\n",
              "  '0.052*\"insurance\" + 0.037*\"year\" + 0.022*\"contract\" + 0.021*\"vehicle\" + 0.019*\"car\" + 0.015*\"euro\" + 0.013*\"accident\" + 0.012*\"%\" + 0.010*\"insurer\" + 0.009*\"problem\"'),\n",
              " (6,\n",
              "  '0.036*\"file\" + 0.034*\"service\" + 0.030*\"time\" + 0.025*\"response\" + 0.025*\"email\" + 0.024*\"customer\" + 0.023*\"phone\" + 0.021*\"call\" + 0.020*\"contact\" + 0.019*\"telephone\"')]"
            ]
          },
          "execution_count": 21,
          "metadata": {},
          "output_type": "execute_result"
        }
      ],
      "source": [
        "lda_model.print_topics()"
      ]
    },
    {
      "cell_type": "code",
      "execution_count": 22,
      "metadata": {},
      "outputs": [
        {
          "data": {
            "text/html": [
              "\n",
              "<link rel=\"stylesheet\" type=\"text/css\" href=\"https://cdn.jsdelivr.net/gh/bmabey/pyLDAvis@3.4.0/pyLDAvis/js/ldavis.v1.0.0.css\">\n",
              "\n",
              "\n",
              "<div id=\"ldavis_el2322425790227667047175484434\" style=\"background-color:white;\"></div>\n",
              "<script type=\"text/javascript\">\n",
              "\n",
              "var ldavis_el2322425790227667047175484434_data = {\"mdsDat\": {\"x\": [-0.11613013240411091, 0.057465715636828466, -0.12902152494962818, 0.14847847056579117, -0.14729396845902448, -0.1671090417204228, 0.3536104813305671], \"y\": [0.005374521906807599, 0.11951759110535613, 0.13671345655351108, 0.11787230476572805, 0.07040739883847913, -0.3136970770068726, -0.13618819616300942], \"topics\": [1, 2, 3, 4, 5, 6, 7], \"cluster\": [1, 1, 1, 1, 1, 1, 1], \"Freq\": [28.752295414416373, 18.295391365042875, 15.968433748096794, 14.685835638584868, 8.441150847223206, 7.987345128276437, 5.869547858359444]}, \"tinfo\": {\"Term\": [\"satisfied\", \"service\", \"price\", \"mutual\", \"advisor\", \"reimbursement\", \"expert\", \"good\", \"file\", \"phone\", \"damage\", \"vehicle\", \"year\", \"email\", \"month\", \"pension\", \"disaster\", \"insurance\", \"friendly\", \"telephone\", \"efficient\", \"car\", \"matmut\", \"euro\", \"health\", \"time\", \"person\", \"document\", \"response\", \"call\", \"vehicle\", \"euro\", \"accident\", \"assistance\", \"macif\", \"risk\", \"cheap\", \"bonus\", \"third\", \"loan\", \"protection\", \"party\", \"leave\", \"\\u20ac\", \"credit\", \"hospital\", \"sick\", \"hospitalization\", \"optical\", \"slight\", \"gesture\", \"full\", \"entry\", \"quarterly\", \"excess\", \"abusive\", \"breakdown\", \"allianz\", \"valid\", \"reality\", \"responsible\", \"%\", \"car\", \"refusal\", \"year\", \"garage\", \"increase\", \"fault\", \"insurance\", \"cost\", \"insurer\", \"pay\", \"contract\", \"legal\", \"old\", \"home\", \"-\", \"problem\", \"event\", \"compensation\", \"day\", \"claim\", \"month\", \"case\", \"contribution\", \"bad\", \"new\", \"customer\", \"company\", \"good\", \"minute\", \"up\", \"progress\", \"unreachable\", \"terrible\", \"existent\", \"obtain\", \"manage\", \"lense\", \"silence\", \"try\", \"get\", \"institution\", \"empathy\", \"provide\", \"reach\", \"radio\", \"attempt\", \"concrete\", \"detailed\", \"delivery\", \"common\", \"incorrect\", \"courteous\", \"immediate\", \"provider\", \"dedicated\", \"dismal\", \"random\", \"music\", \"message\", \"seriousness\", \"call\", \"impossible\", \"respond\", \"phone\", \"lack\", \"response\", \"contact\", \"email\", \"file\", \"catastrophic\", \"space\", \"number\", \"answer\", \"telephone\", \"unable\", \"platform\", \"time\", \"document\", \"processing\", \"department\", \"customer\", \"person\", \"request\", \"advisor\", \"service\", \"incompetent\", \"error\", \"day\", \"information\", \"manager\", \"month\", \"week\", \"problem\", \"several\", \"people\", \"insurance\", \"contract\", \"long\", \"pension\", \"malakoff\", \"retirement\", \"swisslife\", \"transfer\", \"mother\", \"death\", \"notice\", \"basic\", \"debit\", \"funeral\", \"soci\\u00e9t\\u00e9\", \"g\\u00e9n\\u00e9rale\", \"supplementary\", \"capital\", \"expectation\", \"former\", \"investment\", \"father\", \"compulsory\", \"sample\", \"cnp\", \"withdrawal\", \"behavior\", \"confinement\", \"beneficiary\", \"postal\", \"formal\", \"annuity\", \"agirc\", \"payment\", \"disability\", \"letter\", \"group\", \"bank\", \"monthly\", \"mail\", \"employee\", \"termination\", \"situation\", \"life\", \"contribution\", \"humani\", \"date\", \"month\", \"contract\", \"document\", \"morning\", \"company\", \"year\", \"account\", \"file\", \"money\", \"good\", \"insurance\", \"email\", \"request\", \"time\", \"day\", \"several\", \"satisfied\", \"price\", \"quick\", \"easy\", \"speed\", \"practical\", \"olivi\", \"fast\", \"competitive\", \"satisfactory\", \"membership\", \"suit\", \"efficiency\", \"interesting\", \"fair\", \"overall\", \"discount\", \"ease\", \"motorcycle\", \"reduction\", \"affordable\", \"kindness\", \"friendliness\", \"clarity\", \"method\", \"simplicity\", \"extra\", \"ratio\", \"correction\", \"impeccable\", \"simple\", \"responsiveness\", \"happy\", \"service\", \"friend\", \"use\", \"subscription\", \"assurance\", \"perfect\", \"top\", \"high\", \"effective\", \"good\", \"thank\", \"clear\", \"insurance\", \"gmf\", \"site\", \"quality\", \"customer\", \"moment\", \"contract\", \"expensive\", \"telephone\", \"explanation\", \"car\", \"time\", \"home\", \"problem\", \"mutual\", \"reimbursement\", \"health\", \"staff\", \"treatment\", \"security\", \"social\", \"reasonable\", \"portability\", \"cpam\", \"covid\", \"teletransmission\", \"patience\", \"kind\", \"swiss\", \"hotel\", \"prohibitive\", \"dental\", \"complementary\", \"patient\", \"understanding\", \"elderly\", \"questionnaire\", \"prescription\", \"rubbish\", \"optician\", \"harmony\", \"endless\", \"limited\", \"treat\", \"refund\", \"invoice\", \"colleague\", \"operation\", \"medical\", \"fund\", \"glass\", \"company\", \"month\", \"application\", \"long\", \"way\", \"bad\", \"reimburse\", \"insurance\", \"request\", \"time\", \"several\", \"work\", \"thing\", \"document\", \"care\", \"problem\", \"expert\", \"damage\", \"matmut\", \"water\", \"declaration\", \"expertise\", \"photo\", \"ceiling\", \"estimate\", \"leak\", \"door\", \"availability\", \"apartment\", \"neighbor\", \"room\", \"storm\", \"mobile\", \"burglary\", \"block\", \"roof\", \"connect\", \"inhumane\", \"wall\", \"cold\", \"height\", \"accommodation\", \"franchise\", \"virtual\", \"regularization\", \"firm\", \"disaster\", \"house\", \"report\", \"repair\", \"loss\", \"claim\", \"work\", \"compensation\", \"home\", \"company\", \"year\", \"insurance\", \"insurer\", \"month\", \"file\", \"bad\", \"friendly\", \"efficient\", \"attentive\", \"welcome\", \"attractive\", \"revaluation\", \"key\", \"precise\", \"team\", \"recommend\", \"loyal\", \"listening\", \"think\", \"raise\", \"view\", \"dialogue\", \"warm\", \"interview\", \"skill\", \"formality\", \"tree\", \"digital\", \"give\", \"suitable\", \"conclusive\", \"confusion\", \"comparison\", \"reliable\", \"olive\", \"data\", \"distinguished\", \"professional\", \"competent\", \"relationship\", \"pleasant\", \"advisor\", \"agent\", \"clear\", \"website\", \"responsive\", \"good\", \"advice\", \"person\", \"question\", \"thank\", \"phone\", \"agency\", \"professionalism\", \"answer\", \"telephone\", \"support\", \"information\"], \"Freq\": [4256.0, 6155.0, 3850.0, 2281.0, 2241.0, 1563.0, 1422.0, 3231.0, 2948.0, 1701.0, 964.0, 1957.0, 4899.0, 1911.0, 3832.0, 1186.0, 1148.0, 9094.0, 701.0, 1709.0, 623.0, 2085.0, 686.0, 1400.0, 695.0, 3472.0, 1102.0, 1985.0, 1917.0, 1442.0, 1956.2912573965564, 1400.1431975647954, 1163.6865246255188, 593.0916900070077, 543.4213656039171, 499.3009617641911, 433.0601784447568, 349.2026108271616, 314.8476770578855, 312.8372371193941, 296.72251443228413, 296.02528257752687, 255.8793783790651, 256.33114522428076, 243.66730311449763, 229.66543896420472, 196.17033320785683, 182.65740377131186, 183.34158123477997, 181.0321214424826, 178.28501052888387, 160.8407140089602, 160.33892655712185, 159.2525570953582, 147.66344162844098, 144.77809214041818, 140.03119706788448, 136.36179871636824, 133.9600666656415, 128.07721667109774, 477.2253705212636, 1121.013396406734, 1754.0068628817698, 262.09878756236594, 3417.4913925664837, 378.8563505067424, 616.6657131034083, 213.4252879874561, 4741.098498268274, 496.5834832574862, 954.8827458742628, 396.3366686559632, 2020.6829021098677, 493.1385249162076, 446.94593280585974, 679.7348100058841, 530.4872445278168, 829.0982730066165, 427.2698872684512, 455.0510328908934, 740.3285820534063, 554.9318575499642, 809.1880125854929, 425.52441963315147, 466.95116127028064, 481.29163298129714, 448.2614758213691, 536.6580871301912, 466.87190094983544, 433.2778365395198, 690.6426480225508, 296.1704149628162, 175.504736725713, 147.5726535319411, 141.00861870876537, 129.08136620369575, 108.60874747576626, 107.36768023515344, 103.91148659674593, 100.76699486012046, 96.24282291496803, 90.06817403595758, 86.37737499475502, 86.43396150185136, 75.67196287915807, 75.28531205080303, 73.52967160238428, 73.49033996169577, 70.66383076315732, 69.43148887964779, 69.21311858403253, 69.19213585607594, 67.6304049885448, 66.17765329096397, 65.9705003468569, 60.42282780539476, 58.60001831537436, 57.36876372481655, 54.87100869329685, 55.82869429916529, 437.95238935527067, 134.87484123934402, 1191.6303937781804, 930.7967836385395, 212.80758331352453, 1337.7025965434846, 298.5887705953705, 1467.0563667751358, 1150.5112164635348, 1436.3637480775174, 2115.530741605445, 189.17504814647427, 145.63439514123903, 504.3956055079782, 574.1344943912078, 1103.4799748944067, 248.06425262014585, 173.16727298741824, 1743.487457688807, 1090.5310046833333, 250.24721270533763, 263.8747617722459, 1393.7482395533812, 623.354801094151, 962.3079110675192, 977.3890019765757, 1992.835256261779, 278.494192146023, 323.94908854980923, 820.1625512145278, 541.9710452181715, 294.842539873747, 845.7334663329827, 407.62704606067507, 567.8182002800886, 422.7980378627339, 340.1033983825705, 469.2834178498614, 354.49086392214963, 313.54411371087957, 1185.4098132733352, 717.7450978444772, 432.6576888994352, 365.87342608780455, 334.91171862160525, 299.7933346491223, 293.9450294180371, 256.1160831490211, 234.658402181423, 168.49410301293142, 160.8460771244364, 160.12603796423855, 157.5176260217301, 154.57514175004115, 143.7321262888932, 136.33359954553106, 128.29320548242546, 124.72797539984798, 123.81533006722617, 111.86413946712612, 109.04180711790904, 107.26011160663921, 106.57911710570619, 104.88780667975738, 99.91988070870715, 94.54617675027048, 83.75548608385284, 82.03789242486332, 79.05410003540146, 73.82519847725148, 781.241522129237, 331.9890278230158, 865.0512133288204, 165.12368361705404, 401.35415204312653, 312.9133068474982, 390.43520462233954, 209.19171179750228, 262.8951413807929, 401.3778240466905, 413.502275322278, 555.958506554538, 279.2569756050937, 391.7591863834237, 1121.1759730687893, 1163.6078036801916, 672.0007900172354, 373.5221239405442, 648.901064212779, 925.0270165257666, 380.28022160342323, 648.8005289307107, 338.7253868531399, 597.9552815785286, 825.3377020748798, 474.71967982169053, 472.03432207875295, 551.6769861649167, 402.85817306637614, 313.71431180474633, 4256.05590733214, 3850.100451630822, 680.9063393808033, 537.0350540606037, 467.68938128432717, 345.03257349973796, 326.7088433990511, 286.110422542114, 259.7925494501889, 251.67168567395828, 203.49694913687452, 176.66167620738887, 173.37901373688138, 148.42309635080514, 126.52612850936934, 123.0551412582905, 123.79574444977291, 117.54818640534786, 108.39100508011705, 100.16447559798844, 99.80089059416225, 97.72959989874049, 88.9357054235382, 86.74539715306047, 87.17135051038329, 84.06322727303807, 73.2698375368955, 67.93347544502943, 67.1090422475955, 57.294280011091004, 812.7968293341299, 256.34365810600724, 309.88167189142047, 4161.683009623339, 184.54432052025078, 224.32016215427768, 262.381543557947, 461.07591805743215, 228.2005633583753, 170.5307884544853, 389.22007219554797, 178.08986542414792, 1405.7891279364837, 425.4930078592098, 436.89419224339156, 1903.425987384181, 337.4312129005861, 409.41104737448035, 323.76993599433496, 767.3810887792637, 228.9322219359273, 727.022817253913, 308.9302251761746, 385.55974102000755, 285.88879127185265, 330.87360743244204, 339.93819845104764, 276.9888462013044, 268.40641866235165, 2280.674431680294, 1562.2210186158675, 694.4624371152493, 364.46223161253914, 252.43532088701323, 242.48863585576777, 225.83500773584274, 182.3400718806485, 155.63758280889252, 155.03331406557135, 154.84178718442504, 103.73700737412818, 97.57230833142972, 95.5215610792781, 95.4365224959462, 91.71598165115216, 79.9836795544659, 77.38620138985222, 77.2545492491905, 68.86099305032394, 67.65569607836227, 65.36494509179315, 61.83919656986209, 58.747564843480404, 56.32134787974077, 53.5329410828449, 49.01411190998284, 48.33946791225985, 47.69716051199466, 46.33821017421715, 322.1282724592893, 241.76734714191997, 85.64904021190728, 142.7474635120756, 178.57642595884238, 286.6003662898758, 171.15493691955442, 601.2195187148006, 839.8362131408376, 150.29070865873118, 318.1972788812619, 228.05246700479745, 303.92861971224687, 145.26655238021178, 818.8303993155046, 392.1694048704866, 440.26420146083694, 285.50816328026997, 219.35642122400722, 177.36929684973433, 221.9435484369197, 166.7680278529911, 167.76939674339388, 1421.7438519833063, 964.0159702308513, 685.8494947474177, 541.1666960836067, 313.6952332449475, 281.4214719124672, 277.8079305506965, 208.9748984568149, 173.2044572104454, 171.06299977717038, 163.9079515398192, 163.12110332696165, 162.475517241738, 126.16267093825216, 122.63137720364111, 119.50488237276248, 117.445849468627, 111.35709560495206, 111.87872057617001, 108.25861025421457, 102.37955599744052, 100.34436948018731, 94.3392607693128, 87.67967370036142, 87.04444227769102, 84.24857724713107, 78.73418873159666, 79.29075774056543, 78.74599988711724, 73.39617148996153, 768.459464335698, 252.37062878334305, 343.86478090764143, 248.96458165045786, 292.91620875843137, 459.05681659886517, 334.87738196312023, 258.6611216648261, 259.42913571356354, 278.95467994480333, 313.74294960564265, 336.73537166390156, 203.31740803305627, 216.03458473356767, 184.0773718038109, 124.37890930821115, 700.6032195483081, 622.4888161103707, 414.58234139885303, 367.26499661145596, 331.8633583381636, 282.64103066536455, 187.35118852151146, 152.86783502403196, 138.77771287385758, 137.0625089576769, 126.280328359196, 114.1497360316909, 108.37763182237443, 96.50210319215455, 93.67202366365467, 77.04188100045523, 74.25725725301142, 68.14959924792387, 67.43879909637475, 67.81947067978696, 66.46900065753096, 64.62435826318767, 64.68229380110184, 56.9831808021786, 54.70999742372468, 52.323781247477875, 49.41980249208284, 48.49345787329913, 48.059231666619816, 48.18747850133242, 48.63421913086111, 475.3304351829281, 257.0478399616999, 81.72603640617344, 290.25045841161693, 1262.942658209871, 169.9318745669936, 351.18080864480714, 227.40427483775645, 177.07676069719886, 722.4319089287227, 228.8735062128631, 344.51197323975146, 240.2574017548564, 244.36258310733697, 362.9731735619643, 229.3599914013857, 160.49764637315255, 207.51667297265413, 219.43754471945843, 155.93147666873028, 153.54584981433513], \"Total\": [4256.0, 6155.0, 3850.0, 2281.0, 2241.0, 1563.0, 1422.0, 3231.0, 2948.0, 1701.0, 964.0, 1957.0, 4899.0, 1911.0, 3832.0, 1186.0, 1148.0, 9094.0, 701.0, 1709.0, 623.0, 2085.0, 686.0, 1400.0, 695.0, 3472.0, 1102.0, 1985.0, 1917.0, 1442.0, 1957.1075171655905, 1400.960286646233, 1164.5032030767934, 593.9085409356717, 544.2406223963901, 500.1175798030285, 433.8782091857662, 350.01881485631026, 315.6648770417464, 313.6536520541208, 297.53899645079576, 296.84218002667296, 256.69723925423057, 257.1538562787581, 244.48428554861383, 230.48584396185584, 196.98770940468157, 183.47604894941207, 184.16866508814124, 181.8502599011338, 179.10165303476893, 161.6583080956019, 161.16398350316868, 160.10127515462014, 148.47981477035168, 145.61479768220784, 140.8470458122984, 137.17803398458446, 134.77694478296434, 128.89454079335772, 493.7975333931166, 1287.4287444132276, 2085.560539527236, 276.5899800213052, 4899.49664257078, 424.8109786354581, 752.3501897711698, 224.3258999969428, 9094.851593999889, 620.9365456942886, 1482.0806372957575, 500.3390837134211, 4266.25165977334, 669.2369288542262, 600.7183463318673, 1216.6348843067808, 860.4116938883419, 1962.6262513738811, 645.9548835271487, 754.06363709568, 2184.645111619164, 1232.6855469622146, 3832.244592795517, 765.4673656142451, 1023.621623819679, 1142.9202247127675, 917.6327808146641, 3044.4459143271156, 2160.132952540225, 3231.853428888525, 691.5176675498201, 297.04594100927545, 176.38003070284753, 148.44688414773785, 141.8831243268328, 129.9585509982231, 109.48453432293705, 108.24307429358548, 104.79648208966134, 101.64161926279485, 97.11815545423421, 90.94321246200883, 87.25442460216664, 87.31229299767095, 76.54819984294996, 76.15943689977541, 74.40483087911592, 74.36530982771154, 71.53969427010742, 70.31059171171835, 70.08987080097002, 70.07130068625384, 68.50829436844737, 67.05651919840707, 66.84821938946125, 61.29849639551374, 59.476372297707975, 58.255816839775804, 55.746723549087946, 56.72704019588121, 480.4568570343328, 142.60328489464624, 1442.554588718699, 1116.1246581623254, 233.31521930298643, 1701.4113720493542, 339.4910491795909, 1917.4035284065892, 1475.7651656086946, 1911.8535085542683, 2948.980519266436, 213.8227767876118, 161.18257810059885, 663.1932707743943, 782.3866397204235, 1709.0766377937807, 301.9595457567463, 201.27534659435693, 3472.826866036128, 1985.1369468232122, 323.94799945480776, 350.2052908768811, 3044.4459143271156, 1102.0622183769237, 2086.6991534238427, 2241.0669992963835, 6155.257554149159, 393.30696390558825, 503.82480190438525, 2184.645111619164, 1190.099289376136, 448.53598051738555, 3832.244592795517, 939.1305377625343, 1962.6262513738811, 1419.86148058311, 909.3382620596849, 9094.851593999889, 4266.25165977334, 945.6038751343855, 1186.3076521053101, 718.646140105945, 433.555516013494, 366.77534097469487, 335.8090525292478, 300.69055702240587, 294.84185478897587, 257.0132972378189, 235.55621864391796, 169.39089815622103, 161.74258650189614, 161.02660470918084, 158.41759557193953, 155.47293683612986, 144.62874655703746, 137.23616041191548, 129.19052008192145, 125.625863541405, 124.71249302281197, 112.76527763893642, 109.93995220081155, 108.15682169494436, 107.4763379245843, 105.7878636416085, 100.81859839730205, 95.44285472296042, 84.65290158651356, 82.93447281861278, 79.95106744596619, 74.72423446607841, 899.4731623161437, 379.11942583066417, 1196.4829548080668, 182.676699895257, 511.02189912060845, 384.0745800478419, 554.4398524124001, 256.97696531914096, 353.5341090672591, 643.2751738813096, 672.4448016534994, 1023.621623819679, 400.45398302495164, 690.3879078373642, 3832.244592795517, 4266.25165977334, 1985.1369468232122, 774.4422907686495, 2160.132952540225, 4899.49664257078, 860.2202945177116, 2948.980519266436, 804.7932411452846, 3231.853428888525, 9094.851593999889, 1911.8535085542683, 2086.6991534238427, 3472.826866036128, 2184.645111619164, 1419.86148058311, 4256.921890025311, 3850.9670593227534, 681.7724396483815, 537.90091487874, 468.5553850978725, 345.8978869929765, 327.57532622400095, 286.97621544040146, 260.6580176016916, 252.5389037818568, 204.37507115935455, 177.528724283027, 174.24527789112685, 149.28888804327036, 127.39290932104538, 123.92222854775568, 124.67525571798569, 118.41323585824712, 109.25902177019799, 101.03148042482341, 100.66598697653384, 98.59633695344442, 89.80194384534592, 87.61168012621529, 88.04452801776931, 84.92838907151561, 74.15037531501208, 68.80019158407123, 67.99484602522867, 58.16165966668882, 963.9076996613668, 283.42760638683797, 350.84711485791723, 6155.257554149159, 206.15587231439073, 263.6389792341833, 321.233192774613, 625.8579018937631, 274.6382990969883, 194.85801748843124, 562.5561826589353, 209.8457395381826, 3231.853428888525, 744.0770202234828, 788.8020426339829, 9094.851593999889, 591.5466402434688, 839.4343335176699, 584.4695835475397, 3044.4459143271156, 322.76930235258413, 4266.25165977334, 696.9230462337887, 1709.0766377937807, 715.3418111312449, 2085.560539527236, 3472.826866036128, 1216.6348843067808, 1962.6262513738811, 2281.5691327797626, 1563.1159541169027, 695.3572525446275, 365.3588532165577, 253.3303118340034, 243.38276431100059, 226.72909684332203, 183.23677737358645, 156.53393797194533, 155.9277017780492, 155.73714961900797, 104.63046358252944, 98.4680396188062, 96.41729302017734, 96.34098679126596, 92.61062376003245, 80.88517502853783, 78.27986822034384, 78.14866358340588, 69.75661388531708, 68.55121804261573, 66.2605975591531, 62.734179537774615, 59.64122542826485, 57.21566066106216, 54.42700312546058, 49.90788363881971, 49.234261758158084, 48.60545449299488, 47.232762895120224, 428.3756335076892, 324.20095313107436, 96.29487971966451, 176.5951830515222, 232.20098733494027, 416.3193098495547, 306.41326614992585, 2160.132952540225, 3832.244592795517, 263.1162382604442, 945.6038751343855, 588.2343418069909, 1142.9202247127675, 273.92599191434255, 9094.851593999889, 2086.6991534238427, 3472.826866036128, 1419.86148058311, 866.7492332664887, 538.1838748694821, 1985.1369468232122, 702.0907513671362, 1962.6262513738811, 1422.5474447834263, 964.819512599851, 686.654158990774, 541.969806003015, 314.4997831283637, 282.22520818223336, 278.6150736567069, 209.7826563234337, 174.01120158902827, 171.86612660771146, 164.71167991770236, 163.92811969668293, 163.2794345202269, 126.96612774459233, 123.43705619700138, 120.30840236352788, 118.25428884814443, 112.16051443380094, 112.68668445728056, 109.0620225928298, 103.19129310091257, 101.16337670055911, 95.14314870086241, 88.48752552376224, 87.85964426143791, 85.05326635926613, 79.53853572133322, 80.10279398148022, 79.57058705771351, 74.20015172724733, 1148.4179291759272, 317.38592829962903, 479.6381836435393, 447.3235414273396, 589.1896993325475, 1232.6855469622146, 866.7492332664887, 754.06363709568, 1216.6348843067808, 2160.132952540225, 4899.49664257078, 9094.851593999889, 1482.0806372957575, 3832.244592795517, 2948.980519266436, 1142.9202247127675, 701.4656280828253, 623.3511934256527, 415.44419075217974, 368.1270271945719, 332.7260536050581, 283.5152801087043, 188.2155645879264, 153.7301447518835, 139.6400329577255, 137.92540083063398, 127.14375997063463, 115.0122053183292, 109.24483918714103, 97.3755869859721, 94.54148386376391, 77.90634543426243, 75.11872357102479, 69.01215889423246, 68.30162171434141, 68.69791027790374, 67.33235736038664, 65.48866699041926, 65.55468368339031, 57.8463038616528, 55.58664353721763, 53.193849439090286, 50.28286360360319, 49.356171540075245, 48.92217677502471, 49.055780749115144, 49.523111884417254, 582.4971907738471, 306.507049206771, 87.9545053253777, 385.9372138777599, 2241.0669992963835, 244.4431378844858, 788.8020426339829, 445.35063480038104, 324.30706244258033, 3231.853428888525, 536.9920339003002, 1102.0622183769237, 645.8752120605163, 744.0770202234828, 1701.4113720493542, 707.7450271168128, 354.232786379393, 782.3866397204235, 1709.0766377937807, 594.7725532573875, 1190.099289376136], \"Category\": [\"Default\", \"Default\", \"Default\", \"Default\", \"Default\", \"Default\", \"Default\", \"Default\", \"Default\", \"Default\", \"Default\", \"Default\", \"Default\", \"Default\", \"Default\", \"Default\", \"Default\", \"Default\", \"Default\", \"Default\", \"Default\", \"Default\", \"Default\", \"Default\", \"Default\", \"Default\", \"Default\", \"Default\", \"Default\", \"Default\", \"Topic1\", \"Topic1\", \"Topic1\", \"Topic1\", \"Topic1\", \"Topic1\", \"Topic1\", \"Topic1\", \"Topic1\", \"Topic1\", \"Topic1\", \"Topic1\", \"Topic1\", \"Topic1\", \"Topic1\", \"Topic1\", \"Topic1\", \"Topic1\", \"Topic1\", \"Topic1\", \"Topic1\", \"Topic1\", \"Topic1\", \"Topic1\", \"Topic1\", \"Topic1\", \"Topic1\", \"Topic1\", \"Topic1\", \"Topic1\", \"Topic1\", \"Topic1\", \"Topic1\", \"Topic1\", \"Topic1\", \"Topic1\", \"Topic1\", \"Topic1\", \"Topic1\", \"Topic1\", \"Topic1\", \"Topic1\", \"Topic1\", \"Topic1\", \"Topic1\", \"Topic1\", \"Topic1\", \"Topic1\", \"Topic1\", \"Topic1\", \"Topic1\", \"Topic1\", \"Topic1\", \"Topic1\", \"Topic1\", \"Topic1\", \"Topic1\", \"Topic1\", \"Topic1\", \"Topic1\", \"Topic2\", \"Topic2\", \"Topic2\", \"Topic2\", \"Topic2\", \"Topic2\", \"Topic2\", \"Topic2\", \"Topic2\", \"Topic2\", \"Topic2\", \"Topic2\", \"Topic2\", \"Topic2\", \"Topic2\", \"Topic2\", \"Topic2\", \"Topic2\", \"Topic2\", \"Topic2\", \"Topic2\", \"Topic2\", \"Topic2\", \"Topic2\", \"Topic2\", \"Topic2\", \"Topic2\", \"Topic2\", \"Topic2\", \"Topic2\", \"Topic2\", \"Topic2\", \"Topic2\", \"Topic2\", \"Topic2\", \"Topic2\", \"Topic2\", \"Topic2\", \"Topic2\", \"Topic2\", \"Topic2\", \"Topic2\", \"Topic2\", \"Topic2\", \"Topic2\", \"Topic2\", \"Topic2\", \"Topic2\", \"Topic2\", \"Topic2\", \"Topic2\", \"Topic2\", \"Topic2\", \"Topic2\", \"Topic2\", \"Topic2\", \"Topic2\", \"Topic2\", \"Topic2\", \"Topic2\", \"Topic2\", \"Topic2\", \"Topic2\", \"Topic2\", \"Topic2\", \"Topic2\", \"Topic2\", \"Topic2\", \"Topic2\", \"Topic2\", \"Topic3\", \"Topic3\", \"Topic3\", \"Topic3\", \"Topic3\", \"Topic3\", \"Topic3\", \"Topic3\", \"Topic3\", \"Topic3\", \"Topic3\", \"Topic3\", \"Topic3\", \"Topic3\", \"Topic3\", \"Topic3\", \"Topic3\", \"Topic3\", \"Topic3\", \"Topic3\", \"Topic3\", \"Topic3\", \"Topic3\", \"Topic3\", \"Topic3\", \"Topic3\", \"Topic3\", \"Topic3\", \"Topic3\", \"Topic3\", \"Topic3\", \"Topic3\", \"Topic3\", \"Topic3\", \"Topic3\", \"Topic3\", \"Topic3\", \"Topic3\", \"Topic3\", \"Topic3\", \"Topic3\", \"Topic3\", \"Topic3\", \"Topic3\", \"Topic3\", \"Topic3\", \"Topic3\", \"Topic3\", \"Topic3\", \"Topic3\", \"Topic3\", \"Topic3\", \"Topic3\", \"Topic3\", \"Topic3\", \"Topic3\", \"Topic3\", \"Topic3\", \"Topic3\", \"Topic3\", \"Topic4\", \"Topic4\", \"Topic4\", \"Topic4\", \"Topic4\", \"Topic4\", \"Topic4\", \"Topic4\", \"Topic4\", \"Topic4\", \"Topic4\", \"Topic4\", \"Topic4\", \"Topic4\", \"Topic4\", \"Topic4\", \"Topic4\", \"Topic4\", \"Topic4\", \"Topic4\", \"Topic4\", \"Topic4\", \"Topic4\", \"Topic4\", \"Topic4\", \"Topic4\", \"Topic4\", \"Topic4\", \"Topic4\", \"Topic4\", \"Topic4\", \"Topic4\", \"Topic4\", \"Topic4\", \"Topic4\", \"Topic4\", \"Topic4\", \"Topic4\", \"Topic4\", \"Topic4\", \"Topic4\", \"Topic4\", \"Topic4\", \"Topic4\", \"Topic4\", \"Topic4\", \"Topic4\", \"Topic4\", \"Topic4\", \"Topic4\", \"Topic4\", \"Topic4\", \"Topic4\", \"Topic4\", \"Topic4\", \"Topic4\", \"Topic4\", \"Topic4\", \"Topic4\", \"Topic5\", \"Topic5\", \"Topic5\", \"Topic5\", \"Topic5\", \"Topic5\", \"Topic5\", \"Topic5\", \"Topic5\", \"Topic5\", \"Topic5\", \"Topic5\", \"Topic5\", \"Topic5\", \"Topic5\", \"Topic5\", \"Topic5\", \"Topic5\", \"Topic5\", \"Topic5\", \"Topic5\", \"Topic5\", \"Topic5\", \"Topic5\", \"Topic5\", \"Topic5\", \"Topic5\", \"Topic5\", \"Topic5\", \"Topic5\", \"Topic5\", \"Topic5\", \"Topic5\", \"Topic5\", \"Topic5\", \"Topic5\", \"Topic5\", \"Topic5\", \"Topic5\", \"Topic5\", \"Topic5\", \"Topic5\", \"Topic5\", \"Topic5\", \"Topic5\", \"Topic5\", \"Topic5\", \"Topic5\", \"Topic5\", \"Topic5\", \"Topic5\", \"Topic5\", \"Topic5\", \"Topic6\", \"Topic6\", \"Topic6\", \"Topic6\", \"Topic6\", \"Topic6\", \"Topic6\", \"Topic6\", \"Topic6\", \"Topic6\", \"Topic6\", \"Topic6\", \"Topic6\", \"Topic6\", \"Topic6\", \"Topic6\", \"Topic6\", \"Topic6\", \"Topic6\", \"Topic6\", \"Topic6\", \"Topic6\", \"Topic6\", \"Topic6\", \"Topic6\", \"Topic6\", \"Topic6\", \"Topic6\", \"Topic6\", \"Topic6\", \"Topic6\", \"Topic6\", \"Topic6\", \"Topic6\", \"Topic6\", \"Topic6\", \"Topic6\", \"Topic6\", \"Topic6\", \"Topic6\", \"Topic6\", \"Topic6\", \"Topic6\", \"Topic6\", \"Topic6\", \"Topic6\", \"Topic7\", \"Topic7\", \"Topic7\", \"Topic7\", \"Topic7\", \"Topic7\", \"Topic7\", \"Topic7\", \"Topic7\", \"Topic7\", \"Topic7\", \"Topic7\", \"Topic7\", \"Topic7\", \"Topic7\", \"Topic7\", \"Topic7\", \"Topic7\", \"Topic7\", \"Topic7\", \"Topic7\", \"Topic7\", \"Topic7\", \"Topic7\", \"Topic7\", \"Topic7\", \"Topic7\", \"Topic7\", \"Topic7\", \"Topic7\", \"Topic7\", \"Topic7\", \"Topic7\", \"Topic7\", \"Topic7\", \"Topic7\", \"Topic7\", \"Topic7\", \"Topic7\", \"Topic7\", \"Topic7\", \"Topic7\", \"Topic7\", \"Topic7\", \"Topic7\", \"Topic7\", \"Topic7\", \"Topic7\", \"Topic7\", \"Topic7\", \"Topic7\", \"Topic7\"], \"logprob\": [30.0, 29.0, 28.0, 27.0, 26.0, 25.0, 24.0, 23.0, 22.0, 21.0, 20.0, 19.0, 18.0, 17.0, 16.0, 15.0, 14.0, 13.0, 12.0, 11.0, 10.0, 9.0, 8.0, 7.0, 6.0, 5.0, 4.0, 3.0, 2.0, 1.0, -3.8417, -4.1761, -4.3611, -5.0351, -5.1226, -5.2072, -5.3496, -5.5648, -5.6684, -5.6748, -5.7277, -5.73, -5.8758, -5.874, -5.9247, -5.9838, -6.1415, -6.2128, -6.2091, -6.2218, -6.2371, -6.34, -6.3432, -6.35, -6.4255, -6.4453, -6.4786, -6.5051, -6.5229, -6.5678, -5.2525, -4.3985, -3.9508, -5.8517, -3.2838, -5.4833, -4.9961, -6.0572, -2.9564, -5.2127, -4.5589, -5.4382, -3.8093, -5.2197, -5.318, -4.8988, -5.1467, -4.7001, -5.363, -5.3, -4.8134, -5.1016, -4.7244, -5.3671, -5.2742, -5.244, -5.3151, -5.1351, -5.2744, -5.3491, -4.4308, -5.2775, -5.8007, -5.9741, -6.0196, -6.1079, -6.2806, -6.2921, -6.3248, -6.3556, -6.4015, -6.4678, -6.5097, -6.509, -6.642, -6.6471, -6.6707, -6.6712, -6.7105, -6.728, -6.7312, -6.7315, -6.7543, -6.776, -6.7792, -6.867, -6.8977, -6.9189, -6.9634, -6.9461, -4.8863, -6.064, -3.8853, -4.1323, -5.608, -3.7697, -5.2693, -3.6774, -3.9204, -3.6985, -3.3113, -5.7257, -5.9873, -4.745, -4.6155, -3.9622, -5.4547, -5.8141, -3.5047, -3.974, -5.4459, -5.3929, -3.7286, -4.5333, -4.0991, -4.0835, -3.3711, -5.339, -5.1878, -4.2589, -4.6732, -5.2819, -4.2282, -4.958, -4.6266, -4.9215, -5.1391, -4.8172, -5.0977, -5.2204, -3.7545, -4.2562, -4.7624, -4.9301, -5.0185, -5.1293, -5.149, -5.2867, -5.3742, -5.7055, -5.7519, -5.7564, -5.7728, -5.7917, -5.8644, -5.9172, -5.978, -6.0062, -6.0136, -6.1151, -6.1406, -6.1571, -6.1635, -6.1795, -6.228, -6.2833, -6.4045, -6.4252, -6.4622, -6.5307, -4.1715, -5.0273, -4.0696, -5.7257, -4.8375, -5.0864, -4.8651, -5.4891, -5.2606, -4.8374, -4.8077, -4.5117, -5.2002, -4.8617, -3.8102, -3.7731, -4.3221, -4.9094, -4.3571, -4.0025, -4.8914, -4.3572, -5.0072, -4.4388, -4.1166, -4.6696, -4.6753, -4.5194, -4.8338, -5.0839, -2.3925, -2.4928, -4.2252, -4.4626, -4.6008, -4.905, -4.9596, -5.0922, -5.1887, -5.2205, -5.433, -5.5744, -5.5931, -5.7486, -5.9082, -5.936, -5.93, -5.9818, -6.0629, -6.1418, -6.1454, -6.1664, -6.2607, -6.2856, -6.2807, -6.3171, -6.4545, -6.5301, -6.5423, -6.7004, -4.0481, -5.2021, -5.0124, -2.4149, -5.5307, -5.3355, -5.1788, -4.6151, -5.3184, -5.6097, -4.7845, -5.5663, -3.5003, -4.6954, -4.6689, -3.1972, -4.9273, -4.7339, -4.9686, -4.1056, -5.3152, -4.1597, -5.0155, -4.7939, -5.093, -4.9469, -4.9199, -5.1246, -5.1561, -2.4626, -2.841, -3.6517, -4.2964, -4.6637, -4.7039, -4.7751, -4.989, -5.1473, -5.1512, -5.1525, -5.553, -5.6143, -5.6355, -5.6364, -5.6762, -5.813, -5.846, -5.8478, -5.9628, -5.9804, -6.0149, -6.0703, -6.1216, -6.1638, -6.2146, -6.3027, -6.3166, -6.33, -6.3589, -4.4199, -4.7069, -5.7446, -5.2338, -5.0098, -4.5368, -5.0523, -3.7959, -3.4617, -5.1823, -4.4322, -4.7653, -4.4781, -5.2163, -3.487, -4.2232, -4.1075, -4.5406, -4.8042, -5.0166, -4.7924, -5.0783, -5.0723, -2.88, -3.2685, -3.6089, -3.8459, -4.3912, -4.4997, -4.5127, -4.7974, -4.9851, -4.9976, -5.0403, -5.0451, -5.0491, -5.302, -5.3304, -5.3562, -5.3736, -5.4269, -5.4222, -5.4551, -5.5109, -5.531, -5.5927, -5.6659, -5.6732, -5.7058, -5.7735, -5.7665, -5.7734, -5.8437, -3.4952, -4.6087, -4.2993, -4.6223, -4.4597, -4.0104, -4.3258, -4.5841, -4.5811, -4.5085, -4.391, -4.3203, -4.8248, -4.7642, -4.9242, -5.3163, -3.2796, -3.3978, -3.8042, -3.9254, -4.0268, -4.1873, -4.5985, -4.8019, -4.8986, -4.9111, -4.993, -5.094, -5.1459, -5.262, -5.2917, -5.4872, -5.524, -5.6098, -5.6203, -5.6147, -5.6348, -5.6629, -5.662, -5.7888, -5.8295, -5.8741, -5.9312, -5.9501, -5.9591, -5.9564, -5.9472, -3.6675, -4.2823, -5.4281, -4.1608, -2.6903, -4.6961, -3.9702, -4.4048, -4.6549, -3.2489, -4.3983, -3.9894, -4.3498, -4.3329, -3.9372, -4.3962, -4.7532, -4.4963, -4.4404, -4.7821, -4.7975], \"loglift\": [30.0, 29.0, 28.0, 27.0, 26.0, 25.0, 24.0, 23.0, 22.0, 21.0, 20.0, 19.0, 18.0, 17.0, 16.0, 15.0, 14.0, 13.0, 12.0, 11.0, 10.0, 9.0, 8.0, 7.0, 6.0, 5.0, 4.0, 3.0, 2.0, 1.0, 1.246, 1.2459, 1.2458, 1.2451, 1.2449, 1.2448, 1.2446, 1.2441, 1.2439, 1.2438, 1.2437, 1.2437, 1.2433, 1.2432, 1.2431, 1.2429, 1.2423, 1.242, 1.242, 1.2419, 1.2419, 1.2414, 1.2413, 1.2411, 1.2409, 1.2407, 1.2406, 1.2405, 1.2404, 1.2401, 1.2123, 1.108, 1.0733, 1.1926, 0.8862, 1.132, 1.0476, 1.1966, 0.595, 1.023, 0.8068, 1.0134, 0.4992, 0.9411, 0.9508, 0.6643, 0.7628, 0.3848, 0.8331, 0.7414, 0.1643, 0.4483, -0.3087, 0.6593, 0.4616, 0.3816, 0.53, -0.4893, -0.2854, -0.763, 1.6973, 1.6956, 1.6935, 1.6926, 1.6923, 1.6917, 1.6905, 1.6904, 1.69, 1.6899, 1.6895, 1.6889, 1.6884, 1.6884, 1.687, 1.687, 1.6867, 1.6867, 1.6862, 1.6859, 1.6859, 1.6859, 1.6856, 1.6853, 1.6853, 1.6841, 1.6837, 1.6832, 1.6827, 1.6826, 1.6059, 1.6428, 1.5074, 1.5169, 1.6065, 1.458, 1.5701, 1.4308, 1.4496, 1.4126, 1.3664, 1.576, 1.5971, 1.4248, 1.389, 1.261, 1.5019, 1.5481, 1.0094, 1.0995, 1.4404, 1.4155, 0.9172, 1.1287, 0.9245, 0.8687, 0.5708, 1.3533, 1.2569, 0.7188, 0.9119, 1.279, 0.1875, 0.8639, 0.4583, 0.4871, 0.7151, -1.2657, -0.7893, 0.5946, 1.8338, 1.8333, 1.8325, 1.8321, 1.8319, 1.8316, 1.8315, 1.8311, 1.8307, 1.8292, 1.829, 1.8289, 1.8289, 1.8288, 1.8283, 1.828, 1.8276, 1.8274, 1.8273, 1.8265, 1.8264, 1.8262, 1.8262, 1.826, 1.8256, 1.8251, 1.8239, 1.8237, 1.8233, 1.8225, 1.6936, 1.7018, 1.5102, 1.7335, 1.593, 1.6296, 1.4839, 1.6288, 1.5383, 1.3629, 1.3483, 1.2241, 1.4741, 1.2679, 0.6055, 0.5353, 0.7514, 1.1054, 0.6319, 0.1675, 1.0183, 0.3205, 0.9692, 0.1473, -0.5651, 0.4415, 0.3483, -0.0052, 0.1439, 0.3247, 1.9181, 1.9181, 1.917, 1.9167, 1.9164, 1.9158, 1.9156, 1.9153, 1.915, 1.9148, 1.914, 1.9134, 1.9133, 1.9125, 1.9115, 1.9113, 1.9112, 1.911, 1.9103, 1.9097, 1.9097, 1.9095, 1.9086, 1.9083, 1.9083, 1.908, 1.9063, 1.9056, 1.9052, 1.9033, 1.7478, 1.8178, 1.7941, 1.5269, 1.8075, 1.7568, 1.7159, 1.6127, 1.7331, 1.7849, 1.5499, 1.7542, 1.0858, 1.3594, 1.3275, 0.3542, 1.3569, 1.2003, 1.3276, 0.5402, 1.5748, 0.1488, 1.1047, 0.4293, 1.0011, 0.0772, -0.4057, 0.4384, -0.0712, 2.4717, 2.4715, 2.4708, 2.4696, 2.4685, 2.4684, 2.4681, 2.4671, 2.4663, 2.4663, 2.4663, 2.4635, 2.4629, 2.4627, 2.4626, 2.4623, 2.4608, 2.4606, 2.4605, 2.4591, 2.4589, 2.4584, 2.4577, 2.457, 2.4563, 2.4555, 2.454, 2.4537, 2.4532, 2.4529, 2.187, 2.1787, 2.3549, 2.2593, 2.2095, 2.0987, 1.8897, 1.1931, 0.9541, 1.912, 1.3829, 1.5245, 1.1475, 1.8378, 0.0645, 0.8004, 0.4067, 0.868, 1.098, 1.3621, 0.281, 1.0346, 0.0126, 2.5267, 2.5265, 2.5261, 2.5258, 2.5248, 2.5245, 2.5244, 2.5235, 2.5227, 2.5226, 2.5224, 2.5224, 2.5224, 2.521, 2.5208, 2.5206, 2.5205, 2.5201, 2.5201, 2.5199, 2.5194, 2.5192, 2.5188, 2.5181, 2.518, 2.5178, 2.5171, 2.5171, 2.5169, 2.5164, 2.1256, 2.2981, 2.1945, 1.9413, 1.8285, 1.5395, 1.5763, 1.4574, 0.982, 0.4804, -0.221, -0.7689, 0.5409, -0.3485, -0.2465, 0.3093, 2.8342, 2.834, 2.8333, 2.833, 2.8328, 2.8323, 2.8308, 2.8298, 2.8292, 2.8291, 2.8286, 2.8279, 2.8274, 2.8264, 2.8262, 2.8242, 2.8239, 2.8228, 2.8227, 2.8225, 2.8225, 2.8221, 2.822, 2.8204, 2.8195, 2.8189, 2.8181, 2.8178, 2.8176, 2.8175, 2.8173, 2.6321, 2.6594, 2.7619, 2.5505, 2.2619, 2.4718, 2.0262, 2.1633, 2.2303, 1.3372, 1.9826, 1.6726, 1.8465, 1.7219, 1.2905, 1.7086, 2.0437, 1.5083, 0.7828, 1.4966, 0.7876]}, \"token.table\": {\"Topic\": [1, 3, 1, 2, 3, 6, 1, 1, 6, 1, 2, 3, 5, 6, 1, 2, 3, 4, 7, 2, 7, 4, 1, 2, 4, 6, 7, 1, 2, 7, 3, 1, 3, 2, 7, 6, 3, 4, 5, 1, 1, 2, 3, 4, 2, 7, 7, 6, 1, 2, 3, 5, 6, 1, 3, 3, 3, 3, 6, 1, 1, 6, 1, 2, 3, 3, 1, 4, 1, 2, 3, 5, 1, 2, 3, 4, 6, 1, 2, 3, 6, 1, 1, 2, 6, 4, 4, 7, 3, 6, 3, 5, 2, 1, 3, 4, 5, 6, 7, 1, 2, 6, 2, 7, 4, 5, 3, 7, 2, 3, 7, 6, 2, 4, 7, 1, 2, 3, 4, 1, 3, 4, 1, 5, 6, 2, 5, 5, 1, 1, 2, 3, 4, 7, 6, 7, 1, 2, 3, 6, 1, 2, 3, 5, 6, 3, 3, 6, 2, 2, 5, 2, 3, 2, 7, 7, 1, 3, 5, 1, 2, 6, 4, 2, 7, 2, 3, 5, 6, 4, 4, 2, 4, 4, 7, 5, 2, 3, 2, 2, 3, 5, 1, 2, 3, 6, 1, 1, 4, 6, 1, 2, 3, 1, 4, 5, 6, 6, 1, 2, 3, 4, 6, 4, 4, 4, 3, 1, 6, 2, 3, 6, 6, 3, 7, 3, 6, 4, 6, 4, 7, 1, 3, 5, 3, 1, 6, 1, 2, 7, 1, 5, 1, 4, 7, 1, 3, 4, 5, 6, 7, 1, 3, 3, 1, 4, 5, 5, 6, 1, 4, 5, 1, 4, 6, 1, 1, 5, 1, 6, 3, 5, 2, 4, 2, 3, 1, 2, 5, 6, 2, 1, 3, 1, 2, 3, 4, 7, 6, 2, 1, 2, 3, 4, 5, 6, 1, 3, 4, 6, 4, 7, 3, 5, 6, 7, 5, 4, 2, 3, 6, 1, 1, 2, 3, 2, 1, 2, 3, 1, 3, 5, 7, 1, 1, 2, 3, 4, 5, 1, 6, 7, 1, 2, 3, 3, 2, 2, 3, 6, 1, 5, 4, 2, 5, 4, 2, 6, 1, 2, 4, 1, 3, 4, 1, 2, 3, 5, 6, 3, 5, 1, 2, 3, 5, 7, 3, 4, 2, 5, 6, 1, 2, 3, 4, 5, 3, 1, 2, 3, 2, 1, 3, 4, 5, 7, 4, 1, 5, 1, 5, 4, 1, 5, 5, 1, 2, 3, 3, 5, 3, 1, 2, 3, 4, 5, 7, 4, 7, 1, 2, 7, 2, 7, 6, 2, 5, 6, 4, 7, 5, 3, 4, 7, 5, 4, 1, 2, 4, 5, 6, 7, 2, 4, 1, 7, 2, 7, 2, 5, 1, 2, 2, 2, 4, 7, 1, 2, 3, 4, 7, 5, 4, 2, 7, 2, 4, 2, 1, 5, 7, 4, 2, 5, 1, 6, 6, 1, 5, 5, 3, 7, 7, 1, 6, 1, 6, 2, 3, 4, 5, 2, 3, 2, 3, 4, 5, 1, 6, 4, 7, 2, 4, 3, 7, 1, 6, 6, 5, 3, 4, 4, 5, 1, 2, 2, 4, 1, 2, 3, 4, 5, 6, 1, 2, 2, 3, 4, 4, 2, 3, 4, 5, 1, 2, 3, 6, 7, 7, 1, 5, 3, 2, 4, 4, 5, 6, 1, 3, 4, 4, 7, 3, 1, 2, 4, 5, 7, 5, 3, 7, 2, 4, 7, 5, 1, 3, 2, 2, 4, 7, 1, 2, 3, 5, 6, 7, 7, 1, 1, 2, 3, 4, 5, 4, 6, 3, 5, 5, 7, 2, 1, 2, 5, 2, 2, 1, 4, 1, 1, 7, 6, 6, 7, 6, 1, 2, 3, 5, 6, 2, 3, 5, 7, 1, 2, 3, 5, 6, 7, 3, 1, 2, 5, 6, 1, 3, 4, 6, 1], \"Freq\": [0.8707278013362355, 0.12893917486334977, 0.6159841896207184, 0.09530321424320551, 0.2591782533687174, 0.027893623680938198, 0.9957779175468857, 0.9995678817581061, 0.987616391417384, 0.15344906513046952, 0.28829824357845785, 0.44174730870892737, 0.043012237953237664, 0.07323705381226954, 0.16015135154866575, 0.18622250180077413, 0.022346700216092894, 0.20484475198085153, 0.4264495291237727, 0.43595305285685065, 0.5635708349623362, 0.9933841906632367, 0.21759248613495719, 0.2797617678878021, 0.08477629329933398, 0.09325392262926738, 0.32356285275912466, 0.2290921335924897, 0.07363675722615741, 0.6954582626914866, 0.990307903837982, 0.991412371570241, 0.9881043808876103, 0.73365260966766, 0.26585321047190463, 0.9921641416508677, 0.0912144387540374, 0.33445294209813714, 0.5700902422127337, 0.9984702342649588, 0.13102015609594264, 0.06231446448465564, 0.06870569161128699, 0.7365889263442629, 0.9816405010498218, 0.9989308052391453, 0.9978178636833774, 0.9943382520436382, 0.42085177040320754, 0.11549362514183657, 0.08837012226761738, 0.2659853185084721, 0.10849401149687678, 0.2132980997244395, 0.7847021833899104, 0.9976387010832485, 0.9925524193939897, 0.9953600012882485, 0.9939062502318907, 0.9970892568825808, 0.9939860590798104, 0.9896530928049024, 0.08318576013583374, 0.8263118840159486, 0.0901179068138199, 0.9956526861221915, 0.8410208990613164, 0.1587103292983442, 0.5697269180958525, 0.14385604681920278, 0.04842678803814746, 0.23786098830501842, 0.5565227456276449, 0.22339293310405467, 0.1188816193711636, 0.08622183382963514, 0.014370305638272522, 0.07015155366212161, 0.8839095761427324, 0.042090932197272966, 0.9962692038648464, 0.9979759085218539, 0.450236478692982, 0.17684964388300914, 0.3723577364325743, 0.9930182810632773, 0.554004650572102, 0.44497856373182565, 0.989304218848006, 0.9944904604250536, 0.10384768150821924, 0.8930900609706854, 0.9847112772881067, 0.21619039673036228, 0.300444469974315, 0.07592125281323214, 0.2782236154923934, 0.12915871667616932, 0.9744870615620376, 0.6033973495293568, 0.05304592083774565, 0.3434723374244031, 0.1598658175295159, 0.8384799001037874, 0.9974755520365497, 0.9853015582002891, 0.9932135347426114, 0.9894463219959513, 0.9924560165427918, 0.9918804822689942, 0.9775566263453578, 0.9884554881994977, 0.7799343871389308, 0.13823337530524926, 0.08131375017955839, 0.47371795223804797, 0.08297682092640721, 0.2728390383003898, 0.17040720003813006, 0.4562232656412372, 0.5431694554529505, 0.9853688024404152, 0.8004038471343135, 0.1884250505326251, 0.011273293621610048, 0.9842443477377488, 0.9952667066219504, 0.9940504364043683, 0.9980191546972964, 0.17638677615289083, 0.4578829906091803, 0.0745620077964734, 0.2519341849334586, 0.03908757236907637, 0.9991506052799007, 0.978477954422646, 0.22740838623868936, 0.14339764482567036, 0.5677967350673009, 0.06083536447149652, 0.33872778515112884, 0.3753470051674671, 0.18446932083230394, 0.06820329728043, 0.03295729801470443, 0.9971447242808237, 0.9917888258970191, 0.9984108633608829, 0.9919905623139975, 0.9844503807966082, 0.9836500974076599, 0.7538435508469014, 0.24557024762436938, 0.9813599675409941, 0.9883662180633641, 0.9925381441877454, 0.08176842938627557, 0.8757135018143061, 0.03956536905787528, 0.1576081280182386, 0.17328186450624022, 0.6687460901547362, 0.9945838834330277, 0.9784430652954409, 0.9894370150721111, 0.5495842499661863, 0.33851568833847584, 0.11183107561181792, 0.9956792383026029, 0.9965102223982646, 0.99832512856212, 0.14772756439193455, 0.8482421439278823, 0.9928533048000019, 0.9978323721203979, 0.9809751555888442, 0.7511035723055446, 0.24844999780301788, 0.9849701233054782, 0.18289577021672143, 0.8133024675594634, 0.9749308364930734, 0.9927776449932079, 0.6430806875233744, 0.3552822316872964, 0.9941888707175502, 0.9993145511294029, 0.6610368787188737, 0.22602197726687487, 0.11301098863343743, 0.9967684848536901, 0.9926241790874061, 0.9909924584875799, 0.4247240805130504, 0.4433775029680154, 0.13200883583513728, 0.9996151658874832, 0.9956587570964169, 0.1775375044821742, 0.19291476864992158, 0.1831292369068096, 0.3998088683614317, 0.04613179250324212, 0.9844859137917379, 0.9969157677366862, 0.996598270560843, 0.9942869154040435, 0.9495114028424843, 0.044578000133449966, 0.7175361065207574, 0.22007605535537408, 0.06239444404528325, 0.9838254814941757, 0.9887323957474647, 0.989840880529255, 0.9907847721244057, 0.9932292477294277, 0.8973792399077155, 0.10186467047601094, 0.9910698609517072, 0.9993362068443782, 0.9959277806172968, 0.30985831535562625, 0.689374701605153, 0.9954088374746781, 0.8921615001980215, 0.10592946572272023, 0.9938490068846262, 0.9896285557055415, 0.9915386109393912, 0.4405814464114796, 0.5580698321212075, 0.28062030735510174, 0.5696930336064414, 0.14876257257378886, 0.13397884821432454, 0.1850331437232473, 0.4350444817305781, 0.0204217182035691, 0.0018565198366881, 0.2234012203481347, 0.0930605819447551, 0.9032350600520348, 0.9973639571385244, 0.1140097732204491, 0.8835757424584805, 0.981808813104759, 0.998048121969447, 0.9902157097417795, 0.1777600230564485, 0.6914864896895847, 0.12798721660064294, 0.5589187099360982, 0.22767718037102824, 0.21288227334330798, 0.9978920876288774, 0.9974053891385936, 0.9934065473782504, 0.20164725116477322, 0.7939860514612945, 0.6967092645514178, 0.2996598987317926, 0.9873112642758743, 0.9800270543628564, 0.834136216946296, 0.16575209466709429, 0.16018023015509814, 0.7068270473510679, 0.05085086671590417, 0.08136138674544667, 0.9925805426462132, 0.820096822448683, 0.17943771641907977, 0.09747085897413531, 0.45542418589639083, 0.11175538140999997, 0.20586517628157888, 0.12940096794842101, 0.9885000210698515, 0.985623369727253, 0.5212839320135538, 0.051567636387757174, 0.09071066102324023, 0.20923925809360747, 0.0900509471248894, 0.037053930624038736, 0.644364399593343, 0.11740251887878711, 0.10053434087896138, 0.13696960535858496, 0.9913664837338946, 0.9853336149679989, 0.9950180359062868, 0.7464506123834851, 0.25292954634481724, 0.9935416362053388, 0.9956720106206465, 0.9939517331792357, 0.8807301421423599, 0.11782343038693778, 0.9949604577422727, 0.9972838069616322, 0.7366598864232516, 0.1479296729328639, 0.11505641228111638, 0.9923997249356148, 0.08692142214151569, 0.18972271948196212, 0.7229522130039525, 0.3836746144302019, 0.6156639161786961, 0.9875434866454723, 0.9911991486857623, 0.9979160068762469, 0.19881475207922789, 0.33206293698339123, 0.04653111218875546, 0.0867170727154079, 0.33629303809145994, 0.502384886116166, 0.4972931474055292, 0.9910041989406417, 0.9977204524150964, 0.29399041084578875, 0.7034126394469793, 0.9991008925396165, 0.9885158999622099, 0.6576952860274843, 0.3411097585159495, 0.999047323922518, 0.22825053677980148, 0.7708838883695182, 0.9932718254161126, 0.9116323215857467, 0.08741679796027707, 0.9881363664354189, 0.9992514037252955, 0.9893932908449933, 0.20448041222923813, 0.08365107773014287, 0.7094850666741747, 0.42246875671589024, 0.42122620154907875, 0.15531939585143023, 0.21110343570472803, 0.2207583517999999, 0.2925178633189124, 0.21919268973049633, 0.05636383450212763, 0.8149458887932949, 0.18225626905920334, 0.16657148187499538, 0.1872315106346847, 0.48292817225773854, 0.047776316506781616, 0.11621266177325258, 0.9977034296346247, 0.9884767248525612, 0.987183533754437, 0.9997505520338675, 0.9923906654337304, 0.4882127244868809, 0.14711767367350206, 0.14057911039912419, 0.1460279131277724, 0.07737299874680478, 0.996057413181695, 0.058806386793491844, 0.75995946010051, 0.18094272859535954, 0.9955744039472474, 0.7441091199053449, 0.12817987076669252, 0.10154509242556162, 0.026634778341130916, 0.9811501279007787, 0.9982436826648917, 0.1868680641780141, 0.8097616114380611, 0.9936543760710763, 0.9921545721619783, 0.9925580054638843, 0.9971628694190384, 0.9952467864637288, 0.9891535175924538, 0.7914632554006449, 0.06195798211469694, 0.14390241007284452, 0.8682860509022023, 0.13007614334898548, 0.998897712492211, 0.2100428498052836, 0.3738982666690912, 0.09127516509863108, 0.11986738549097335, 0.10777067686344394, 0.09787336980455623, 0.8301828286501366, 0.1674930268329223, 0.1215902312642114, 0.5653038364000276, 0.31304947601606664, 0.7864059344968264, 0.21335228267739012, 0.9977923891603052, 0.8595190763658599, 0.0745247754074445, 0.0645881386864519, 0.24615402864490257, 0.7514175611265447, 0.9965889954672895, 0.9922873100120931, 0.9974041847992129, 0.9952504776921798, 0.9892486208380123, 0.9997488788380019, 0.4223932088036028, 0.28940813341428995, 0.13655172492082696, 0.08559958875633929, 0.02343798263566433, 0.042290273016524764, 0.771728797278392, 0.22534480880529048, 0.18197512653954445, 0.8154545764743737, 0.5448394598722766, 0.4516803812412655, 0.9978453870240686, 0.9890563996650125, 0.9981884846785625, 0.9928385011786734, 0.9788168312133547, 0.29257296669244237, 0.5543487789962066, 0.15227481892179748, 0.9931213842390914, 0.33288164026932066, 0.1610218166884156, 0.13315265610772828, 0.3715888077424975, 0.9882969771313812, 0.9988670125052579, 0.9945590780285001, 0.9961429040111849, 0.9866050683959854, 0.9883693407583986, 0.9847761886514311, 0.9930599016230498, 0.9932503867874467, 0.9932905699380905, 0.9897905046972866, 0.2451119806703835, 0.7516767407225093, 0.9472505113157701, 0.05061643953595718, 0.9928291711948831, 0.4672794980332716, 0.5293400563658155, 0.9992860708036639, 0.056847571156282084, 0.9323001669630262, 0.972522756572112, 0.44263263982980394, 0.5566440773617232, 0.2814621616954713, 0.7172072860980897, 0.4610151867946831, 0.22619456150425202, 0.12459869913369814, 0.1878565002323449, 0.9129280148818547, 0.0857209403644934, 0.7650971630469013, 0.11369542027554498, 0.07040771439081914, 0.050589246636366346, 0.965982954030384, 0.032401943950704705, 0.4532741251233986, 0.5457790486179698, 0.09173418331210029, 0.9032288818422182, 0.9987186969304371, 0.9981825314370826, 0.9977653658896201, 0.9902622144025813, 0.9964592788384077, 0.9787530084068492, 0.9914503128117186, 0.9978660563826542, 0.9997834374110854, 0.9943185610743016, 0.04908722828630157, 0.9466822598072445, 0.32378823834212284, 0.6761699187054266, 0.22607839172323446, 0.29791638535491644, 0.22114833333674647, 0.03591899681584099, 0.20142809979079457, 0.01760735138031421, 0.9949859338551297, 0.9936874356444879, 0.08299549845706704, 0.07262106114993365, 0.8434417530699437, 0.9890685660982709, 0.27280275639950297, 0.08934588091686778, 0.4872328705999856, 0.14890980152811295, 0.1274726638449905, 0.17877263831919402, 0.6233724170956244, 0.021763625534510576, 0.04663634043109409, 0.9809430335375462, 0.995324395458131, 0.9967842819758337, 0.9936246267439165, 0.9058050920917585, 0.09306216699572861, 0.9988146863411751, 0.9962807710704296, 0.9974365683737034, 0.14631115668353936, 0.034243036670615595, 0.8156068734273896, 0.9970217536054387, 0.985369785013804, 0.9969580761401045, 0.29759275042304006, 0.12777993803475166, 0.20848305679354218, 0.10256021342262962, 0.26228513596606917, 0.986080827735641, 0.9978860602443054, 0.9954165510837478, 0.6453777294761016, 0.22585294975319606, 0.12813936786515528, 0.9939743783890229, 0.25457232468304125, 0.7439169043515538, 0.9937756915699255, 0.09945207013351141, 0.5711774298208425, 0.3279230420618484, 0.22668832288887675, 0.19510060576501687, 0.104053656408009, 0.32888387828959986, 0.09290505036429375, 0.050168727196718624, 0.988605052683463, 0.9978937249909546, 0.11431609329063223, 0.501896601021592, 0.1589483211496952, 0.09790295143278327, 0.12669793714830777, 0.877562043399894, 0.12316660258244126, 0.9975907363927381, 0.9739002586434006, 0.9947487064442763, 0.9802122276329137, 0.9884866485673616, 0.17552020045326183, 0.8213020700454516, 0.9919590335758431, 0.9969896023732429, 0.9964788577628038, 0.1479295668390423, 0.8496467428703968, 0.9942353287187548, 0.9994341050985311, 0.9942725262854537, 0.9862327650926236, 0.9879849603836787, 0.9851072606423213, 0.998210590346043, 0.26690043209261355, 0.15640025320076717, 0.11560018714839314, 0.3876006274975535, 0.07310011834383684, 0.21780590936729705, 0.2088242223830786, 0.06287180888952905, 0.5097107363543962, 0.09050924933450821, 0.4344443968056394, 0.2651388598152064, 0.15120368712353136, 0.05856480839291708, 0.9969384828841262, 0.9955679739951826, 0.3161237293137087, 0.04384197705810558, 0.2526682362032927, 0.3865016398543519, 0.6974185818009032, 0.1887949043505518, 0.0495969316293882, 0.06408821617953867, 0.9955129730681258], \"Term\": [\"%\", \"%\", \"-\", \"-\", \"-\", \"-\", \"abusive\", \"accident\", \"accommodation\", \"account\", \"account\", \"account\", \"account\", \"account\", \"advice\", \"advice\", \"advice\", \"advice\", \"advice\", \"advisor\", \"advisor\", \"affordable\", \"agency\", \"agency\", \"agency\", \"agency\", \"agency\", \"agent\", \"agent\", \"agent\", \"agirc\", \"allianz\", \"annuity\", \"answer\", \"answer\", \"apartment\", \"application\", \"application\", \"application\", \"assistance\", \"assurance\", \"assurance\", \"assurance\", \"assurance\", \"attempt\", \"attentive\", \"attractive\", \"availability\", \"bad\", \"bad\", \"bad\", \"bad\", \"bad\", \"bank\", \"bank\", \"basic\", \"behavior\", \"beneficiary\", \"block\", \"bonus\", \"breakdown\", \"burglary\", \"call\", \"call\", \"call\", \"capital\", \"car\", \"car\", \"care\", \"care\", \"care\", \"care\", \"case\", \"case\", \"case\", \"case\", \"case\", \"catastrophic\", \"catastrophic\", \"catastrophic\", \"ceiling\", \"cheap\", \"claim\", \"claim\", \"claim\", \"clarity\", \"clear\", \"clear\", \"cnp\", \"cold\", \"colleague\", \"colleague\", \"common\", \"company\", \"company\", \"company\", \"company\", \"company\", \"comparison\", \"compensation\", \"compensation\", \"compensation\", \"competent\", \"competent\", \"competitive\", \"complementary\", \"compulsory\", \"conclusive\", \"concrete\", \"confinement\", \"confusion\", \"connect\", \"contact\", \"contact\", \"contact\", \"contract\", \"contract\", \"contract\", \"contract\", \"contribution\", \"contribution\", \"correction\", \"cost\", \"cost\", \"cost\", \"courteous\", \"covid\", \"cpam\", \"credit\", \"customer\", \"customer\", \"customer\", \"customer\", \"customer\", \"damage\", \"data\", \"date\", \"date\", \"date\", \"date\", \"day\", \"day\", \"day\", \"day\", \"day\", \"death\", \"debit\", \"declaration\", \"dedicated\", \"delivery\", \"dental\", \"department\", \"department\", \"detailed\", \"dialogue\", \"digital\", \"disability\", \"disability\", \"disability\", \"disaster\", \"disaster\", \"disaster\", \"discount\", \"dismal\", \"distinguished\", \"document\", \"document\", \"document\", \"door\", \"ease\", \"easy\", \"effective\", \"effective\", \"efficiency\", \"efficient\", \"elderly\", \"email\", \"email\", \"empathy\", \"employee\", \"employee\", \"endless\", \"entry\", \"error\", \"error\", \"estimate\", \"euro\", \"event\", \"event\", \"event\", \"excess\", \"existent\", \"expectation\", \"expensive\", \"expensive\", \"expensive\", \"expert\", \"expertise\", \"explanation\", \"explanation\", \"explanation\", \"explanation\", \"explanation\", \"extra\", \"fair\", \"fast\", \"father\", \"fault\", \"fault\", \"file\", \"file\", \"file\", \"firm\", \"formal\", \"formality\", \"former\", \"franchise\", \"friend\", \"friend\", \"friendliness\", \"friendly\", \"full\", \"fund\", \"fund\", \"funeral\", \"garage\", \"garage\", \"gesture\", \"get\", \"give\", \"glass\", \"glass\", \"gmf\", \"gmf\", \"gmf\", \"good\", \"good\", \"good\", \"good\", \"good\", \"good\", \"group\", \"group\", \"g\\u00e9n\\u00e9rale\", \"happy\", \"happy\", \"harmony\", \"health\", \"height\", \"high\", \"high\", \"high\", \"home\", \"home\", \"home\", \"hospital\", \"hospitalization\", \"hotel\", \"house\", \"house\", \"humani\", \"humani\", \"immediate\", \"impeccable\", \"impossible\", \"impossible\", \"incompetent\", \"incompetent\", \"incompetent\", \"incompetent\", \"incorrect\", \"increase\", \"increase\", \"information\", \"information\", \"information\", \"information\", \"information\", \"inhumane\", \"institution\", \"insurance\", \"insurance\", \"insurance\", \"insurance\", \"insurance\", \"insurance\", \"insurer\", \"insurer\", \"insurer\", \"insurer\", \"interesting\", \"interview\", \"investment\", \"invoice\", \"invoice\", \"key\", \"kind\", \"kindness\", \"lack\", \"lack\", \"leak\", \"leave\", \"legal\", \"legal\", \"legal\", \"lense\", \"letter\", \"letter\", \"letter\", \"life\", \"life\", \"limited\", \"listening\", \"loan\", \"long\", \"long\", \"long\", \"long\", \"long\", \"loss\", \"loss\", \"loyal\", \"macif\", \"mail\", \"mail\", \"malakoff\", \"manage\", \"manager\", \"manager\", \"matmut\", \"medical\", \"medical\", \"membership\", \"message\", \"message\", \"method\", \"minute\", \"mobile\", \"moment\", \"moment\", \"moment\", \"money\", \"money\", \"money\", \"month\", \"month\", \"month\", \"month\", \"month\", \"monthly\", \"monthly\", \"morning\", \"morning\", \"morning\", \"morning\", \"morning\", \"mother\", \"motorcycle\", \"music\", \"mutual\", \"neighbor\", \"new\", \"new\", \"new\", \"new\", \"new\", \"notice\", \"number\", \"number\", \"number\", \"obtain\", \"old\", \"old\", \"old\", \"old\", \"olive\", \"olivi\", \"operation\", \"operation\", \"optical\", \"optician\", \"overall\", \"party\", \"patience\", \"patient\", \"pay\", \"pay\", \"pay\", \"payment\", \"payment\", \"pension\", \"people\", \"people\", \"people\", \"people\", \"people\", \"people\", \"perfect\", \"perfect\", \"person\", \"person\", \"person\", \"phone\", \"phone\", \"photo\", \"platform\", \"platform\", \"platform\", \"pleasant\", \"pleasant\", \"portability\", \"postal\", \"practical\", \"precise\", \"prescription\", \"price\", \"problem\", \"problem\", \"problem\", \"problem\", \"problem\", \"problem\", \"processing\", \"processing\", \"professional\", \"professional\", \"professionalism\", \"professionalism\", \"progress\", \"prohibitive\", \"protection\", \"provide\", \"provider\", \"quality\", \"quality\", \"quality\", \"quarterly\", \"question\", \"question\", \"question\", \"question\", \"questionnaire\", \"quick\", \"radio\", \"raise\", \"random\", \"ratio\", \"reach\", \"reality\", \"reasonable\", \"recommend\", \"reduction\", \"refund\", \"refund\", \"refusal\", \"refusal\", \"regularization\", \"reimburse\", \"reimburse\", \"reimbursement\", \"relationship\", \"relationship\", \"reliable\", \"repair\", \"repair\", \"report\", \"report\", \"request\", \"request\", \"request\", \"request\", \"respond\", \"respond\", \"response\", \"response\", \"response\", \"response\", \"responsible\", \"responsible\", \"responsive\", \"responsive\", \"responsiveness\", \"responsiveness\", \"retirement\", \"revaluation\", \"risk\", \"roof\", \"room\", \"rubbish\", \"sample\", \"satisfactory\", \"satisfied\", \"security\", \"seriousness\", \"seriousness\", \"service\", \"service\", \"several\", \"several\", \"several\", \"several\", \"several\", \"several\", \"sick\", \"silence\", \"simple\", \"simple\", \"simple\", \"simplicity\", \"site\", \"site\", \"site\", \"site\", \"situation\", \"situation\", \"situation\", \"situation\", \"situation\", \"skill\", \"slight\", \"social\", \"soci\\u00e9t\\u00e9\", \"space\", \"space\", \"speed\", \"staff\", \"storm\", \"subscription\", \"subscription\", \"subscription\", \"suit\", \"suitable\", \"supplementary\", \"support\", \"support\", \"support\", \"support\", \"support\", \"swiss\", \"swisslife\", \"team\", \"telephone\", \"telephone\", \"telephone\", \"teletransmission\", \"termination\", \"termination\", \"terrible\", \"thank\", \"thank\", \"thank\", \"thing\", \"thing\", \"thing\", \"thing\", \"thing\", \"thing\", \"think\", \"third\", \"time\", \"time\", \"time\", \"time\", \"time\", \"top\", \"top\", \"transfer\", \"treat\", \"treatment\", \"tree\", \"try\", \"unable\", \"unable\", \"understanding\", \"unreachable\", \"up\", \"use\", \"use\", \"valid\", \"vehicle\", \"view\", \"virtual\", \"wall\", \"warm\", \"water\", \"way\", \"way\", \"way\", \"way\", \"way\", \"website\", \"website\", \"website\", \"website\", \"week\", \"week\", \"week\", \"week\", \"week\", \"welcome\", \"withdrawal\", \"work\", \"work\", \"work\", \"work\", \"year\", \"year\", \"year\", \"year\", \"\\u20ac\"]}, \"R\": 30, \"lambda.step\": 0.01, \"plot.opts\": {\"xlab\": \"PC1\", \"ylab\": \"PC2\"}, \"topic.order\": [6, 7, 2, 3, 5, 1, 4]};\n",
              "\n",
              "function LDAvis_load_lib(url, callback){\n",
              "  var s = document.createElement('script');\n",
              "  s.src = url;\n",
              "  s.async = true;\n",
              "  s.onreadystatechange = s.onload = callback;\n",
              "  s.onerror = function(){console.warn(\"failed to load library \" + url);};\n",
              "  document.getElementsByTagName(\"head\")[0].appendChild(s);\n",
              "}\n",
              "\n",
              "if(typeof(LDAvis) !== \"undefined\"){\n",
              "   // already loaded: just create the visualization\n",
              "   !function(LDAvis){\n",
              "       new LDAvis(\"#\" + \"ldavis_el2322425790227667047175484434\", ldavis_el2322425790227667047175484434_data);\n",
              "   }(LDAvis);\n",
              "}else if(typeof define === \"function\" && define.amd){\n",
              "   // require.js is available: use it to load d3/LDAvis\n",
              "   require.config({paths: {d3: \"https://d3js.org/d3.v5\"}});\n",
              "   require([\"d3\"], function(d3){\n",
              "      window.d3 = d3;\n",
              "      LDAvis_load_lib(\"https://cdn.jsdelivr.net/gh/bmabey/pyLDAvis@3.4.0/pyLDAvis/js/ldavis.v3.0.0.js\", function(){\n",
              "        new LDAvis(\"#\" + \"ldavis_el2322425790227667047175484434\", ldavis_el2322425790227667047175484434_data);\n",
              "      });\n",
              "    });\n",
              "}else{\n",
              "    // require.js not available: dynamically load d3 & LDAvis\n",
              "    LDAvis_load_lib(\"https://d3js.org/d3.v5.js\", function(){\n",
              "         LDAvis_load_lib(\"https://cdn.jsdelivr.net/gh/bmabey/pyLDAvis@3.4.0/pyLDAvis/js/ldavis.v3.0.0.js\", function(){\n",
              "                 new LDAvis(\"#\" + \"ldavis_el2322425790227667047175484434\", ldavis_el2322425790227667047175484434_data);\n",
              "            })\n",
              "         });\n",
              "}\n",
              "</script>"
            ],
            "text/plain": [
              "PreparedData(topic_coordinates=              x         y  topics  cluster       Freq\n",
              "topic                                                \n",
              "5     -0.116130  0.005375       1        1  28.752295\n",
              "6      0.057466  0.119518       2        1  18.295391\n",
              "1     -0.129022  0.136713       3        1  15.968434\n",
              "2      0.148478  0.117872       4        1  14.685836\n",
              "4     -0.147294  0.070407       5        1   8.441151\n",
              "0     -0.167109 -0.313697       6        1   7.987345\n",
              "3      0.353610 -0.136188       7        1   5.869548, topic_info=                Term         Freq        Total Category  logprob  loglift\n",
              "196        satisfied  4256.000000  4256.000000  Default  30.0000  30.0000\n",
              "76           service  6155.000000  6155.000000  Default  29.0000  29.0000\n",
              "323            price  3850.000000  3850.000000  Default  28.0000  28.0000\n",
              "442           mutual  2281.000000  2281.000000  Default  27.0000  27.0000\n",
              "2            advisor  2241.000000  2241.000000  Default  26.0000  26.0000\n",
              "..               ...          ...          ...      ...      ...      ...\n",
              "136  professionalism   160.497646   354.232786   Topic7  -4.7532   2.0437\n",
              "485           answer   207.516673   782.386640   Topic7  -4.4963   1.5083\n",
              "31         telephone   219.437545  1709.076638   Topic7  -4.4404   0.7828\n",
              "381          support   155.931477   594.772553   Topic7  -4.7821   1.4966\n",
              "15       information   153.545850  1190.099289   Topic7  -4.7975   0.7876\n",
              "\n",
              "[430 rows x 6 columns], token_table=      Topic      Freq  Term\n",
              "term                       \n",
              "87        1  0.870728     %\n",
              "87        3  0.128939     %\n",
              "0         1  0.615984     -\n",
              "0         2  0.095303     -\n",
              "0         3  0.259178     -\n",
              "...     ...       ...   ...\n",
              "36        1  0.697419  year\n",
              "36        3  0.188795  year\n",
              "36        4  0.049597  year\n",
              "36        6  0.064088  year\n",
              "203       1  0.995513     €\n",
              "\n",
              "[610 rows x 3 columns], R=30, lambda_step=0.01, plot_opts={'xlab': 'PC1', 'ylab': 'PC2'}, topic_order=[6, 7, 2, 3, 5, 1, 4])"
            ]
          },
          "execution_count": 22,
          "metadata": {},
          "output_type": "execute_result"
        }
      ],
      "source": [
        "pyLDAvis.enable_notebook()\n",
        "vis = pyLDAvis.gensim.prepare(lda_model, doc_term_matrix, dictionary)\n",
        "vis"
      ]
    },
    {
      "cell_type": "code",
      "execution_count": 25,
      "metadata": {},
      "outputs": [
        {
          "name": "stdout",
          "output_type": "stream",
          "text": [
            "Topic 0: expert_damage_disaster\n",
            "Topic 1: pension_contract_month\n",
            "Topic 2: satisfied_service_price\n",
            "Topic 3: advisor_good_friendly\n",
            "Topic 4: mutual_reimbursement_month\n",
            "Topic 5: insurance_year_contract\n",
            "Topic 6: file_service_time\n"
          ]
        }
      ],
      "source": [
        "# Extract topics from lda_model\n",
        "topics = lda_model.print_topics()\n",
        "\n",
        "def name_topics(topics, num_words=3):\n",
        "    topic_names = []\n",
        "    for topic in topics:\n",
        "        # Extract words from each topic string\n",
        "        words = re.findall(r'\"([^\"]*)\"', topic[1])\n",
        "        # Use the top num_words words to name the topic\n",
        "        topic_names.append('_'.join(words[:num_words]))\n",
        "    return topic_names\n",
        "\n",
        "# Use the function\n",
        "topic_names = name_topics(topics)\n",
        "for i, name in enumerate(topic_names):\n",
        "    print(f\"Topic {i}: {name}\")"
      ]
    },
    {
      "cell_type": "code",
      "execution_count": null,
      "metadata": {},
      "outputs": [],
      "source": []
    }
  ],
  "metadata": {
    "colab": {
      "provenance": []
    },
    "kernelspec": {
      "display_name": "Python 3",
      "name": "python3"
    },
    "language_info": {
      "codemirror_mode": {
        "name": "ipython",
        "version": 3
      },
      "file_extension": ".py",
      "mimetype": "text/x-python",
      "name": "python",
      "nbconvert_exporter": "python",
      "pygments_lexer": "ipython3",
      "version": "3.8.10"
    }
  },
  "nbformat": 4,
  "nbformat_minor": 0
}
